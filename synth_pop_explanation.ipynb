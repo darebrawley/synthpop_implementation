{
 "cells": [
  {
   "cell_type": "markdown",
   "metadata": {},
   "source": [
    "### SynthPop Explanation\n",
    "This notebook summarizes the way SynthPop works.\n",
    "\n",
    "First some notes about the structure of synthpop. \n",
    "It has a few dependencies: \n",
    "- `census`, a python library that is a wrapper for the U.S. Census Bureau API\n",
    "- `pandas` a python library used to create and work with dataframes (like tables)\n",
    "- `numpy`\n",
    "- `os`which allows you to set up a development environment (not actually entirely necessary)\n",
    "\n",
    "SynthPop itself is actually a few separate scripts that each handle different aspects of the synthesizing process:  \n",
    "\n",
    "If you are using ACS estimates via the Census API then you use the following sets of SynthPop tools \n",
    "- `synthesizer.py` which relies on a 'recipe' that is the output of:\n",
    "    - `starter.py` which relies on data queried and formatted from the Census API by:\n",
    "        - `census_helpers.py` which relies on the Census API python wrapper provided by: \n",
    "            - `census.py`\n",
    "            \n",
    "You can also use SynthPop with any other data source (i.e. not ACS data). To do this you use: \n",
    "- `zone_synthesizer.py`which a set of functions that accepts marginals and sample files from a CSV and produces a synthesized population. \n",
    "\n",
    "Here are slightly more detailed descriptions about each element of SynthPop: \n",
    "\n",
    "The Synth pop library `census_helpers.py` relies on `census` and is a set of funcitons to assist with downloading and processing census data for a given geography. It allows you to select geography and columns of interest and to download data at the block or tract level (or both).  \n",
    "\n",
    "`synthesizer.py` uses a 'recipe' which is the output of the `starter.py` script.  \n",
    "\n",
    "`starter.py` uses `census_helpers.py` to generate and return: \n",
    "    - household marginals\n",
    "    - person marginals\n",
    "    - household joint distribution\n",
    "    - person joint distribution\n",
    "    - tract to PUMA map (a disctionary showing the relationship between tracts and PUMAs)\n",
    "It returns them as a 'recipe' i.e. not easily accessible as individual files. \n",
    "\n",
    "### Using SynthPop:\n",
    "**Step 1:**\n",
    "install SynthPop and dependencies:\n",
    "1. Install Python (Anaconda recommended), and depdendencies: \n",
    "    `census`\n",
    "    `numexpr`\n",
    "    `numpy`\n",
    "    `pandas`\n",
    "    `scipy`\n",
    "    `us`\n",
    "(Everything except cenus and us are included with Anaconda.)\n",
    "\n",
    "2. Download the source code from here on GitHub. Install SynthPop by running python setup.py install in the synthpop directory.\n",
    "\n",
    "**Step 2:**  \n",
    "1. Load in libraries\n",
    "\n",
    "2. Set API key. (If you don't already have you can get one [here](https://api.census.gov/data/key_signup.html))"
   ]
  },
  {
   "cell_type": "code",
   "execution_count": 1,
   "metadata": {},
   "outputs": [],
   "source": [
    "%load_ext autoreload\n",
    "%autoreload 2\n",
    "from synthpop.recipes.starter2 import Starter\n",
    "from synthpop.synthesizer import synthesize_all, enable_logging \n",
    "import os\n",
    "import pandas as pd\n",
    "enable_logging()\n",
    "\n",
    "# setting API Key\n",
    "os.environ[\"CENSUS\"] = \"d95e144b39e17f929287714b0b8ba9768cecdc9f\""
   ]
  },
  {
   "cell_type": "markdown",
   "metadata": {},
   "source": [
    "### Synthesis of a whole county with pre-set variables:\n",
    "The following code takes a long time (multiple hours) to execute but will run the synthesize for block groups in a whole county. \n",
    "\n",
    "Note: the county name must be 'Name County' ie 'Kings County' otherwise it will not work. "
   ]
  },
  {
   "cell_type": "code",
   "execution_count": null,
   "metadata": {},
   "outputs": [],
   "source": [
    "# TAKES FOREVER TO RUN PLEASE SKIP\n",
    "def synthesize_counties(counties):\n",
    "    for county in counties:\n",
    "        starter = Starter(os.environ[\"CENSUS\"], \"NC\", county)\n",
    "        synthesize_all(starter)\n",
    "%time hh = synthesize_counties([\"Mecklenburg County\"]) "
   ]
  },
  {
   "cell_type": "markdown",
   "metadata": {},
   "source": [
    "### Test synthesis for just one block"
   ]
  },
  {
   "cell_type": "code",
   "execution_count": 2,
   "metadata": {},
   "outputs": [],
   "source": [
    "starter = Starter(os.environ[\"CENSUS\"], \"NC\", \"Mecklenburg County\")"
   ]
  },
  {
   "cell_type": "code",
   "execution_count": null,
   "metadata": {},
   "outputs": [],
   "source": [
    "ind = pd.Series([\"37\", \"119\", \"005706\", \"4\"], index=[\"state\", \"county\", \"tract\", \"block group\"])\n",
    "synthesize_all(starter, indexes=[ind])"
   ]
  },
  {
   "cell_type": "code",
   "execution_count": null,
   "metadata": {},
   "outputs": [],
   "source": []
  }
 ],
 "metadata": {
  "kernelspec": {
   "display_name": "Python 3",
   "language": "python",
   "name": "python3"
  },
  "language_info": {
   "codemirror_mode": {
    "name": "ipython",
    "version": 3
   },
   "file_extension": ".py",
   "mimetype": "text/x-python",
   "name": "python",
   "nbconvert_exporter": "python",
   "pygments_lexer": "ipython3",
   "version": "3.6.4"
  }
 },
 "nbformat": 4,
 "nbformat_minor": 2
}
