{
 "cells": [
  {
   "cell_type": "code",
   "execution_count": 23,
   "metadata": {},
   "outputs": [],
   "source": [
    "import numpy as np\n",
    "import pandas as pd\n",
    "\n",
    "from synthpop.census_helpers import Census\n",
    "from synthpop import categorizer as cat\n",
    "\n",
    "import os\n",
    "\n",
    "# TODO DOCSTRINGS!!\n",
    "class Started:\n",
    "    \"\"\"\n",
    "    This is a recipe for getting the marginals and joint distributions to use\n",
    "    to pass to the synthesizer using simple categories - population, age,\n",
    "    race, and sex for people, and children, income, cars, and workers for\n",
    "    households.  This module is responsible for\n",
    "\n",
    "    Parameters\n",
    "    ----------\n",
    "    c : object\n",
    "        census_helpers.Census object\n",
    "    state : string\n",
    "        FIPS code the state\n",
    "    county : string\n",
    "        FIPS code for the county\n",
    "    tract : string, optional\n",
    "        FIPS code for a specific track or None for all tracts in the county\n",
    "    acsyear : integer, optional\n",
    "        Final year in the 5-year estimates ACS dataset.\n",
    "        Default: 2016, which corresponds to 2011-2016 ACS dataset\n",
    "\n",
    "    Returns\n",
    "    -------\n",
    "    household_marginals : DataFrame\n",
    "        Marginals per block group for the household data (from ACS 5-year estimates)\n",
    "    person_marginals : DataFrame\n",
    "        Marginals per block group for the person data (from ACS 5-year estimates)\n",
    "    household_jointdist : DataFrame\n",
    "        joint distributions for the households (from PUMS 2010-2000), one joint\n",
    "        distribution for each PUMA (one row per PUMA)\n",
    "    person_jointdist : DataFrame\n",
    "        joint distributions for the persons (from PUMS 2010-2000), one joint\n",
    "        distribution for each PUMA (one row per PUMA)\n",
    "    tract_to_puma_map : dictionary\n",
    "        keys are tract ids and pumas are puma ids\n",
    "    \"\"\"\n",
    "    def __init__(self, key, state, county, tract=None, acsyear=2016):\n",
    "        self.c = c = Census(key)\n",
    "        self.state = state\n",
    "        self.county = county\n",
    "        self.tract = tract\n",
    "        self.acsyear = acsyear\n",
    "\n",
    "        structure_size_columns = ['B25032_0%02dE' % i for i in range(1, 24)]\n",
    "        age_of_head_columns = ['B25007_0%02dE' % i for i in range(1, 22)]\n",
    "        race_of_head_columns = ['B25006_0%02dE' % i for i in range(1, 11)]\n",
    "        hispanic_head_columns = ['B25003I_0%02dE' % i for i in range(1, 4)]\n",
    "        hh_size_columns = ['B25009_0%02dE' % i for i in range(1, 18)]\n",
    "        income_columns = ['B19001_0%02dE' % i for i in range(1, 18)]\n",
    "        vehicle_columns = ['B08201_0%02dE' % i for i in range(1, 7)]\n",
    "        workers_columns = ['B08202_0%02dE' % i for i in range(1, 6)]\n",
    "        presence_of_children_columns = ['B11005_001E', 'B11005_002E', 'B11005_011E']\n",
    "        presence_of_seniors_columns = ['B11007_002E', 'B11007_007E']\n",
    "        tenure_mover_columns = ['B25038_0%02dE' % i for i in range(1, 16)]\n",
    "        block_group_columns = (\n",
    "            income_columns + presence_of_children_columns +\n",
    "            presence_of_seniors_columns + tenure_mover_columns +\n",
    "            hh_size_columns + age_of_head_columns + structure_size_columns +\n",
    "            race_of_head_columns + hispanic_head_columns)\n",
    "        tract_columns = vehicle_columns + workers_columns\n",
    "        h_acs = c.block_group_and_tract_query(\n",
    "            block_group_columns,\n",
    "            tract_columns, state, county,\n",
    "            merge_columns=['tract', 'county', 'state'],\n",
    "            block_group_size_attr=\"B11005_001E\",\n",
    "            tract_size_attr=\"B08201_001E\",\n",
    "            tract=tract, year=acsyear)\n",
    "        self.h_acs = h_acs\n",
    "\n",
    "        self.h_acs_cat = cat.categorize(h_acs, {\n",
    "            (\"sf_detached\", \"yes\"): \"B25032_003E + B25032_014E\",\n",
    "            (\"sf_detached\", \"no\"): \"B25032_001E - B25032_003E - B25032_014E\",\n",
    "            (\"hh_age_of_head\", \"lt35\"):\n",
    "                \"B25007_003E + B25007_004E + B25007_013E + B25007_014E\",\n",
    "            (\"hh_age_of_head\", \"gt35-lt65\"):\n",
    "                \"B25007_005E + B25007_006E + B25007_007E + B25007_008E + \"\n",
    "                \"B25007_015E + B25007_016E + B25007_017E + B25007_018E\",\n",
    "            (\"hh_age_of_head\", \"gt65\"):\n",
    "                \"B25007_009E + B25007_010E + B25007_011E + \"\n",
    "                \"B25007_019E + B25007_020E + B25007_021E\",\n",
    "            (\"hh_race_of_head\", \"black\"): \"B25006_003E\",\n",
    "            (\"hh_race_of_head\", \"white\"): \"B25006_002E\",\n",
    "            (\"hh_race_of_head\", \"asian\"): \"B25006_005E\",\n",
    "            (\"hh_race_of_head\", \"other\"):\n",
    "                \"B25006_004E + B25006_006E + B25006_007E + B25006_008E \",\n",
    "            (\"hispanic_head\", \"yes\"): \"B25003I_001E\",\n",
    "            (\"hispanic_head\", \"no\"): \"B11005_001E - B25003I_001E\",\n",
    "            (\"hh_children\", \"yes\"): \"B11005_002E\",\n",
    "            (\"hh_children\", \"no\"): \"B11005_011E\",\n",
    "            (\"seniors\", \"yes\"): \"B11007_002E\",\n",
    "            (\"seniors\", \"no\"): \"B11007_007E\",\n",
    "            (\"hh_income\", \"lt30\"):\n",
    "                \"B19001_002E + B19001_003E + B19001_004E + \"\n",
    "                \"B19001_005E + B19001_006E\",\n",
    "            (\"hh_income\", \"gt30-lt60\"):\n",
    "                \"B19001_007E + B19001_008E + B19001_009E + \"\n",
    "                \"B19001_010E + B19001_011E\",\n",
    "            (\"hh_income\", \"gt60-lt100\"): \"B19001_012E + B19001_013E\",\n",
    "            (\"hh_income\", \"gt100-lt150\"): \"B19001_014E + B19001_015E\",\n",
    "            (\"hh_income\", \"gt150\"): \"B19001_016E + B19001_017E\",\n",
    "            (\"hh_cars\", \"none\"): \"B08201_002E\",\n",
    "            (\"hh_cars\", \"one\"): \"B08201_003E\",\n",
    "            (\"hh_cars\", \"two or more\"):\n",
    "                \"B08201_004E + B08201_005E + B08201_006E\",\n",
    "            (\"hh_workers\", \"none\"): \"B08202_002E\",\n",
    "            (\"hh_workers\", \"one\"): \"B08202_003E\",\n",
    "            (\"hh_workers\", \"two or more\"): \"B08202_004E + B08202_005E\",\n",
    "            (\"tenure_mover\", \"own recent\"): \"B25038_003E\",\n",
    "            (\"tenure_mover\", \"own not recent\"): \"B25038_002E - B25038_003E\",\n",
    "            (\"tenure_mover\", \"rent recent\"): \"B25038_010E\",\n",
    "            (\"tenure_mover\", \"rent not recent\"): \"B25038_009E - B25038_010E\",\n",
    "            (\"hh_size\", \"one\"): \"B25009_003E + B25009_011E\",\n",
    "            (\"hh_size\", \"two\"): \"B25009_004E + B25009_012E\",\n",
    "            (\"hh_size\", \"three\"): \"B25009_005E + B25009_013E\",\n",
    "            (\"hh_size\", \"four or more\"): \"B25009_006E + B25009_014E + \"\n",
    "                                         \"B25009_007E + B25009_015E + \"\n",
    "                                         \"B25009_008E + B25009_016E + \"\n",
    "                                         \"B25009_009E + B25009_017E\",\n",
    "        }, index_cols=['state', 'county', 'tract', 'block group'])\n",
    "\n",
    "        # gq_population = ['B26001_001E']\n",
    "        # HH population, for the hhpop/totalpop adjustment\n",
    "        hh_population = ['B11002_001E']\n",
    "        population = ['B01001_001E']  # This includes GQ\n",
    "        hispanic = ['B03003_002E', 'B03003_003E']\n",
    "        sex = ['B01001_002E', 'B01001_026E']\n",
    "        race = ['B02001_0%02dE' % i for i in range(1, 11)]\n",
    "        male_age_columns = ['B01001_0%02dE' % i for i in range(3, 26)]\n",
    "        female_age_columns = ['B01001_0%02dE' % i for i in range(27, 50)]\n",
    "        all_columns = population + sex + race + male_age_columns + \\\n",
    "            female_age_columns + hh_population + hispanic\n",
    "        p_acs = c.block_group_query(all_columns, state, county, tract=tract, year=acsyear)\n",
    "        self.p_acs = p_acs\n",
    "        self.p_acs_cat = cat.categorize(p_acs, {\n",
    "            (\"person_age\", \"19 and under\"):\n",
    "                \"(B01001_003E + B01001_004E + B01001_005E + \"\n",
    "                \"B01001_006E + B01001_007E + B01001_027E + \"\n",
    "                \"B01001_028E + B01001_029E + B01001_030E + \"\n",
    "                \"B01001_031E) * B11002_001E*1.0/B01001_001E\",\n",
    "            (\"person_age\", \"20 to 35\"):\n",
    "                \"(B01001_008E + B01001_009E + B01001_010E + \"\n",
    "                \"B01001_011E + B01001_012E + B01001_032E + \"\n",
    "                \"B01001_033E + B01001_034E + B01001_035E + \"\n",
    "                \"B01001_036E) * B11002_001E*1.0/B01001_001E\",\n",
    "            (\"person_age\", \"35 to 60\"):\n",
    "                \"(B01001_013E + B01001_014E + B01001_015E + \"\n",
    "                \"B01001_016E + B01001_017E + B01001_037E + \"\n",
    "                \"B01001_038E + B01001_039E + B01001_040E + \"\n",
    "                \"B01001_041E) * B11002_001E*1.0/B01001_001E\",\n",
    "            (\"person_age\", \"above 60\"):\n",
    "                \"(B01001_018E + B01001_019E + B01001_020E + \"\n",
    "                \"B01001_021E + B01001_022E + B01001_023E + \"\n",
    "                \"B01001_024E + B01001_025E + B01001_042E + \"\n",
    "                \"B01001_043E + B01001_044E + B01001_045E + \"\n",
    "                \"B01001_046E + B01001_047E + B01001_048E + \"\n",
    "                \"B01001_049E) * B11002_001E*1.0/B01001_001E\",\n",
    "            (\"race\", \"white\"):   \"(B02001_002E) * B11002_001E*1.0/B01001_001E\",\n",
    "            (\"race\", \"black\"):   \"(B02001_003E) * B11002_001E*1.0/B01001_001E\",\n",
    "            (\"race\", \"asian\"):   \"(B02001_005E) * B11002_001E*1.0/B01001_001E\",\n",
    "            (\"race\", \"other\"):   \"(B02001_004E + B02001_006E + B02001_007E + \"\n",
    "                                 \"B02001_008E) * B11002_001E*1.0/B01001_001E\",\n",
    "            (\"person_sex\", \"male\"):\n",
    "                \"(B01001_002E) * B11002_001E*1.0/B01001_001E\",\n",
    "            (\"person_sex\", \"female\"):\n",
    "                \"(B01001_026E) * B11002_001E*1.0/B01001_001E\",\n",
    "            (\"hispanic\", \"yes\"):\n",
    "                \"(B03003_003E) * B11002_001E*1.0/B01001_001E\",\n",
    "            (\"hispanic\", \"no\"):\n",
    "                \"(B03003_002E) * B11002_001E*1.0/B01001_001E\",\n",
    "        }, index_cols=['state', 'county', 'tract', 'block group'])\n",
    "\n",
    "        # Put the needed PUMS variables here.  These are also the PUMS variables\n",
    "        # that will be in the outputted synthetic population\n",
    "        self.h_pums_cols = ('serialno', 'PUMA00', 'PUMA10', 'RT', 'NP', 'TYPE',\n",
    "                            'R65', 'HINCP', 'VEH', 'MV', 'TEN', 'BLD', 'R18')\n",
    "        self.p_pums_cols = ('serialno', 'PUMA00', 'PUMA10', 'RELP', 'AGEP',\n",
    "                            'ESR', 'RAC1P', 'HISP', 'SEX', 'SPORDER',\n",
    "                            'PERNP', 'SCHL', 'WKHP', 'JWTR', 'SCH')\n",
    "\n",
    "    def get_geography_name(self):\n",
    "        # this synthesis is at the block group level for most variables\n",
    "        return \"block_group\"\n",
    "\n",
    "    def get_num_geographies(self):\n",
    "        return len(self.p_acs_cat)\n",
    "\n",
    "    def get_available_geography_ids(self):\n",
    "        # return the ids of the geographies, in this case a state, county,\n",
    "        # tract, block_group id tuple\n",
    "        for tup in self.p_acs_cat.index:\n",
    "            yield pd.Series(tup, index=self.p_acs_cat.index.names)\n",
    "\n",
    "    def get_household_marginal_for_geography(self, ind):\n",
    "        return self.h_acs_cat.loc[tuple(ind.values)]\n",
    "\n",
    "    def get_person_marginal_for_geography(self, ind):\n",
    "        return self.p_acs_cat.loc[tuple(ind.values)]\n",
    "\n",
    "    def get_household_joint_dist_for_geography(self, ind):\n",
    "        c = self.c\n",
    "\n",
    "        puma10, puma00 = c.tract_to_puma(ind.state, ind.county, ind.tract)\n",
    "\n",
    "        # this is cached so won't download more than once\n",
    "        if type(puma00) == str:\n",
    "            h_pums = self.c.download_household_pums(ind.state, puma10, puma00,\n",
    "                                                    usecols=self.h_pums_cols)\n",
    "            p_pums = self.c.download_population_pums(ind.state, puma10, puma00,\n",
    "                                                     usecols=self.p_pums_cols)\n",
    "        elif np.isnan(puma00):  # only puma10 available\n",
    "            h_pums = self.c.download_household_pums(ind.state, puma10, None,\n",
    "                                                    usecols=self.h_pums_cols)\n",
    "            p_pums = self.c.download_population_pums(ind.state, puma10, None,\n",
    "                                                     usecols=self.p_pums_cols)\n",
    "\n",
    "        h_pums = h_pums.set_index('serialno')\n",
    "\n",
    "        # join persons to households,\n",
    "        # calculate needed household-level variables\n",
    "        age_of_head = p_pums[p_pums.RELP == 0].groupby('serialno').AGEP.max()\n",
    "        num_workers = p_pums[p_pums.ESR.isin([1, 2, 4, 5])].groupby(\n",
    "            'serialno').size()\n",
    "        h_pums['race_of_head'] = p_pums[p_pums.RELP == 0].groupby(\n",
    "            'serialno').RAC1P.max()\n",
    "        h_pums['hispanic_head'] = p_pums[p_pums.RELP == 0].groupby(\n",
    "            'serialno').HISP.max()\n",
    "        h_pums['age_of_head'] = age_of_head\n",
    "        h_pums['workers'] = num_workers\n",
    "        h_pums.workers = h_pums.workers.fillna(0)\n",
    "        h_pums = h_pums.reset_index()\n",
    "\n",
    "        def sf_detached_cat(r):\n",
    "            if r.BLD == 2:\n",
    "                return \"yes\"\n",
    "            return \"no\"\n",
    "\n",
    "        def age_of_head_cat(r):\n",
    "            if r.age_of_head < 35:\n",
    "                return \"lt35\"\n",
    "            elif r.age_of_head >= 65:\n",
    "                return \"gt65\"\n",
    "            return \"gt35-lt65\"\n",
    "\n",
    "        def race_of_head_cat(r):\n",
    "            if r.race_of_head == 1:\n",
    "                return \"white\"\n",
    "            elif r.race_of_head == 2:\n",
    "                return \"black\"\n",
    "            elif r.race_of_head == 6:\n",
    "                return \"asian\"\n",
    "            return \"other\"\n",
    "\n",
    "        def hispanic_head_cat(r):\n",
    "            if r.hispanic_head == 1:\n",
    "                return \"no\"\n",
    "            return \"yes\"\n",
    "\n",
    "        def hh_size_cat(r):\n",
    "            if r.NP == 1:\n",
    "                return \"one\"\n",
    "            elif r.NP == 2:\n",
    "                return \"two\"\n",
    "            elif r.NP == 3:\n",
    "                return \"three\"\n",
    "            return \"four or more\"\n",
    "\n",
    "        def cars_cat(r):\n",
    "            if r.VEH == 0:\n",
    "                return \"none\"\n",
    "            elif r.VEH == 1:\n",
    "                return \"one\"\n",
    "            return \"two or more\"\n",
    "\n",
    "        def children_cat(r):\n",
    "            if r.R18 == 1:\n",
    "                return \"yes\"\n",
    "            return \"no\"\n",
    "\n",
    "        def seniors_cat(r):\n",
    "            if r.R65 > 0:\n",
    "                return \"yes\"\n",
    "            return \"no\"\n",
    "\n",
    "        def income_cat(r):\n",
    "            if r.HINCP >= 150000:\n",
    "                return \"gt150\"\n",
    "            elif (r.HINCP >= 100000) & (r.HINCP < 150000):\n",
    "                return \"gt100-lt150\"\n",
    "            elif (r.HINCP >= 60000) & (r.HINCP < 100000):\n",
    "                return \"gt60-lt100\"\n",
    "            elif (r.HINCP >= 30000) & (r.HINCP < 60000):\n",
    "                return \"gt30-lt60\"\n",
    "            return \"lt30\"\n",
    "\n",
    "        def workers_cat(r):\n",
    "            if r.workers >= 2:\n",
    "                return \"two or more\"\n",
    "            elif r.workers == 1:\n",
    "                return \"one\"\n",
    "            return \"none\"\n",
    "\n",
    "        def tenure_mover_cat(r):\n",
    "            if (r.MV < 4) & (r.TEN < 3):\n",
    "                return \"own recent\"\n",
    "            elif (r.MV >= 4) & (r.TEN < 3):\n",
    "                return \"own not recent\"\n",
    "            elif (r.MV < 4) & (r.TEN >= 3):\n",
    "                return \"rent recent\"\n",
    "            return \"rent not recent\"\n",
    "\n",
    "        h_pums, jd_households = cat.joint_distribution(\n",
    "            h_pums,\n",
    "            cat.category_combinations(self.h_acs_cat.columns),\n",
    "            {\"hh_cars\": cars_cat,\n",
    "             \"hh_children\": children_cat,\n",
    "             \"hh_income\": income_cat,\n",
    "             \"hh_workers\": workers_cat,\n",
    "             \"tenure_mover\": tenure_mover_cat,\n",
    "             \"seniors\": seniors_cat,\n",
    "             \"hh_size\": hh_size_cat,\n",
    "             \"hh_age_of_head\": age_of_head_cat,\n",
    "             \"sf_detached\": sf_detached_cat,\n",
    "             \"hh_race_of_head\": race_of_head_cat,\n",
    "             \"hispanic_head\": hispanic_head_cat}\n",
    "        )\n",
    "        return h_pums, jd_households\n",
    "\n",
    "    def get_person_joint_dist_for_geography(self, ind):\n",
    "        c = self.c\n",
    "\n",
    "        puma10, puma00 = c.tract_to_puma(ind.state, ind.county, ind.tract)\n",
    "        # this is cached so won't download more than once\n",
    "        if type(puma00) == str:\n",
    "            p_pums = self.c.download_population_pums(ind.state, puma10, puma00,\n",
    "                                                     usecols=self.p_pums_cols)\n",
    "        elif np.isnan(puma00):  # only puma10 available\n",
    "            p_pums = self.c.download_population_pums(ind.state, puma10, None,\n",
    "                                                     usecols=self.p_pums_cols)\n",
    "\n",
    "        def age_cat(r):\n",
    "            if r.AGEP <= 19:\n",
    "                return \"19 and under\"\n",
    "            elif r.AGEP <= 35:\n",
    "                return \"20 to 35\"\n",
    "            elif r.AGEP <= 60:\n",
    "                return \"35 to 60\"\n",
    "            return \"above 60\"\n",
    "\n",
    "        def race_cat(r):\n",
    "            if r.RAC1P == 1:\n",
    "                return \"white\"\n",
    "            elif r.RAC1P == 2:\n",
    "                return \"black\"\n",
    "            elif r.RAC1P == 6:\n",
    "                return \"asian\"\n",
    "            return \"other\"\n",
    "\n",
    "        def sex_cat(r):\n",
    "            if r.SEX == 1:\n",
    "                return \"male\"\n",
    "            return \"female\"\n",
    "\n",
    "        def hispanic_cat(r):\n",
    "            if r.HISP == 1:\n",
    "                return \"no\"\n",
    "            return \"yes\"\n",
    "\n",
    "        p_pums, jd_persons = cat.joint_distribution(\n",
    "            p_pums,\n",
    "            cat.category_combinations(self.p_acs_cat.columns),\n",
    "            {\"person_age\": age_cat, \"race\": race_cat, \"person_sex\": sex_cat,\n",
    "             \"hispanic\": hispanic_cat}\n",
    "        )\n",
    "        return p_pums, jd_persons\n"
   ]
  },
  {
   "cell_type": "code",
   "execution_count": 19,
   "metadata": {},
   "outputs": [
    {
     "ename": "KeyError",
     "evalue": "\"['B08201_001E' 'B08201_002E' 'B08201_003E' 'B08201_004E' 'B08201_005E'\\n 'B08201_006E' 'B08202_001E' 'B08202_002E' 'B08202_003E' 'B08202_004E'\\n 'B08202_005E'] not in index\"",
     "output_type": "error",
     "traceback": [
      "\u001b[0;31m---------------------------------------------------------------------------\u001b[0m",
      "\u001b[0;31mKeyError\u001b[0m                                  Traceback (most recent call last)",
      "\u001b[0;32m<ipython-input-19-98577cee84de>\u001b[0m in \u001b[0;36m<module>\u001b[0;34m()\u001b[0m\n\u001b[1;32m      1\u001b[0m \u001b[0mos\u001b[0m\u001b[0;34m.\u001b[0m\u001b[0menviron\u001b[0m\u001b[0;34m[\u001b[0m\u001b[0;34m\"CENSUS\"\u001b[0m\u001b[0;34m]\u001b[0m \u001b[0;34m=\u001b[0m \u001b[0;34m\"d95e144b39e17f929287714b0b8ba9768cecdc9f\"\u001b[0m\u001b[0;34m\u001b[0m\u001b[0m\n\u001b[0;32m----> 2\u001b[0;31m \u001b[0mstarter\u001b[0m \u001b[0;34m=\u001b[0m \u001b[0mStarter\u001b[0m\u001b[0;34m(\u001b[0m\u001b[0mos\u001b[0m\u001b[0;34m.\u001b[0m\u001b[0menviron\u001b[0m\u001b[0;34m[\u001b[0m\u001b[0;34m\"CENSUS\"\u001b[0m\u001b[0;34m]\u001b[0m\u001b[0;34m,\u001b[0m \u001b[0;34m\"CA\"\u001b[0m\u001b[0;34m,\u001b[0m \u001b[0;34m\"Santa Clara County\"\u001b[0m\u001b[0;34m,\u001b[0m\u001b[0;36m2016\u001b[0m\u001b[0;34m)\u001b[0m\u001b[0;34m\u001b[0m\u001b[0m\n\u001b[0m",
      "\u001b[0;32m<ipython-input-17-a923b98272ce>\u001b[0m in \u001b[0;36m__init__\u001b[0;34m(self, key, state, county, tract, acsyear)\u001b[0m\n\u001b[1;32m     74\u001b[0m             \u001b[0mblock_group_size_attr\u001b[0m\u001b[0;34m=\u001b[0m\u001b[0;34m\"B11005_001E\"\u001b[0m\u001b[0;34m,\u001b[0m\u001b[0;34m\u001b[0m\u001b[0m\n\u001b[1;32m     75\u001b[0m             \u001b[0mtract_size_attr\u001b[0m\u001b[0;34m=\u001b[0m\u001b[0;34m\"B08201_001E\"\u001b[0m\u001b[0;34m,\u001b[0m\u001b[0;34m\u001b[0m\u001b[0m\n\u001b[0;32m---> 76\u001b[0;31m             tract=tract, year=acsyear)\n\u001b[0m\u001b[1;32m     77\u001b[0m         \u001b[0mself\u001b[0m\u001b[0;34m.\u001b[0m\u001b[0mh_acs\u001b[0m \u001b[0;34m=\u001b[0m \u001b[0mh_acs\u001b[0m\u001b[0;34m\u001b[0m\u001b[0m\n\u001b[1;32m     78\u001b[0m \u001b[0;34m\u001b[0m\u001b[0m\n",
      "\u001b[0;32m~/anaconda3/lib/python3.6/site-packages/synthpop/census_helpers.py\u001b[0m in \u001b[0;36mblock_group_and_tract_query\u001b[0;34m(self, block_group_columns, tract_columns, state, county, merge_columns, block_group_size_attr, tract_size_attr, year, tract)\u001b[0m\n\u001b[1;32m    109\u001b[0m                                     tract_size_attr, year=2016, tract=None):\n\u001b[1;32m    110\u001b[0m         df2 = self.tract_query(tract_columns, state, county, tract=tract,\n\u001b[0;32m--> 111\u001b[0;31m                                year=year)\n\u001b[0m\u001b[1;32m    112\u001b[0m         df1 = self.block_group_query(block_group_columns, state, county,\n\u001b[1;32m    113\u001b[0m                                      tract=tract, year=year)\n",
      "\u001b[0;32m~/anaconda3/lib/python3.6/site-packages/synthpop/census_helpers.py\u001b[0m in \u001b[0;36mtract_query\u001b[0;34m(self, census_columns, state, county, year, tract)\u001b[0m\n\u001b[1;32m     63\u001b[0m         return self._query(census_columns, state, county,\n\u001b[1;32m     64\u001b[0m                            \u001b[0mforstr\u001b[0m\u001b[0;34m=\u001b[0m\u001b[0;34m\"tract:%s\"\u001b[0m \u001b[0;34m%\u001b[0m \u001b[0mtract\u001b[0m\u001b[0;34m,\u001b[0m\u001b[0;34m\u001b[0m\u001b[0m\n\u001b[0;32m---> 65\u001b[0;31m                            year=year)\n\u001b[0m\u001b[1;32m     66\u001b[0m \u001b[0;34m\u001b[0m\u001b[0m\n\u001b[1;32m     67\u001b[0m     def _query(self, census_columns, state, county, forstr,\n",
      "\u001b[0;32m~/anaconda3/lib/python3.6/site-packages/synthpop/census_helpers.py\u001b[0m in \u001b[0;36m_query\u001b[0;34m(self, census_columns, state, county, forstr, year, tract)\u001b[0m\n\u001b[1;32m     92\u001b[0m                                 'in': in_str}, year=year)\n\u001b[1;32m     93\u001b[0m             \u001b[0mdf\u001b[0m \u001b[0;34m=\u001b[0m \u001b[0mpd\u001b[0m\u001b[0;34m.\u001b[0m\u001b[0mDataFrame\u001b[0m\u001b[0;34m(\u001b[0m\u001b[0md\u001b[0m\u001b[0;34m)\u001b[0m\u001b[0;34m\u001b[0m\u001b[0m\n\u001b[0;32m---> 94\u001b[0;31m             \u001b[0mdf\u001b[0m\u001b[0;34m[\u001b[0m\u001b[0mcensus_column_batch\u001b[0m\u001b[0;34m]\u001b[0m \u001b[0;34m=\u001b[0m \u001b[0mdf\u001b[0m\u001b[0;34m[\u001b[0m\u001b[0mcensus_column_batch\u001b[0m\u001b[0;34m]\u001b[0m\u001b[0;34m.\u001b[0m\u001b[0mastype\u001b[0m\u001b[0;34m(\u001b[0m\u001b[0;34m'int'\u001b[0m\u001b[0;34m)\u001b[0m\u001b[0;34m\u001b[0m\u001b[0m\n\u001b[0m\u001b[1;32m     95\u001b[0m             \u001b[0mdfs\u001b[0m\u001b[0;34m.\u001b[0m\u001b[0mappend\u001b[0m\u001b[0;34m(\u001b[0m\u001b[0mdf\u001b[0m\u001b[0;34m)\u001b[0m\u001b[0;34m\u001b[0m\u001b[0m\n\u001b[1;32m     96\u001b[0m \u001b[0;34m\u001b[0m\u001b[0m\n",
      "\u001b[0;32m~/anaconda3/lib/python3.6/site-packages/pandas/core/frame.py\u001b[0m in \u001b[0;36m__getitem__\u001b[0;34m(self, key)\u001b[0m\n\u001b[1;32m   2680\u001b[0m         \u001b[0;32mif\u001b[0m \u001b[0misinstance\u001b[0m\u001b[0;34m(\u001b[0m\u001b[0mkey\u001b[0m\u001b[0;34m,\u001b[0m \u001b[0;34m(\u001b[0m\u001b[0mSeries\u001b[0m\u001b[0;34m,\u001b[0m \u001b[0mnp\u001b[0m\u001b[0;34m.\u001b[0m\u001b[0mndarray\u001b[0m\u001b[0;34m,\u001b[0m \u001b[0mIndex\u001b[0m\u001b[0;34m,\u001b[0m \u001b[0mlist\u001b[0m\u001b[0;34m)\u001b[0m\u001b[0;34m)\u001b[0m\u001b[0;34m:\u001b[0m\u001b[0;34m\u001b[0m\u001b[0m\n\u001b[1;32m   2681\u001b[0m             \u001b[0;31m# either boolean or fancy integer index\u001b[0m\u001b[0;34m\u001b[0m\u001b[0;34m\u001b[0m\u001b[0m\n\u001b[0;32m-> 2682\u001b[0;31m             \u001b[0;32mreturn\u001b[0m \u001b[0mself\u001b[0m\u001b[0;34m.\u001b[0m\u001b[0m_getitem_array\u001b[0m\u001b[0;34m(\u001b[0m\u001b[0mkey\u001b[0m\u001b[0;34m)\u001b[0m\u001b[0;34m\u001b[0m\u001b[0m\n\u001b[0m\u001b[1;32m   2683\u001b[0m         \u001b[0;32melif\u001b[0m \u001b[0misinstance\u001b[0m\u001b[0;34m(\u001b[0m\u001b[0mkey\u001b[0m\u001b[0;34m,\u001b[0m \u001b[0mDataFrame\u001b[0m\u001b[0;34m)\u001b[0m\u001b[0;34m:\u001b[0m\u001b[0;34m\u001b[0m\u001b[0m\n\u001b[1;32m   2684\u001b[0m             \u001b[0;32mreturn\u001b[0m \u001b[0mself\u001b[0m\u001b[0;34m.\u001b[0m\u001b[0m_getitem_frame\u001b[0m\u001b[0;34m(\u001b[0m\u001b[0mkey\u001b[0m\u001b[0;34m)\u001b[0m\u001b[0;34m\u001b[0m\u001b[0m\n",
      "\u001b[0;32m~/anaconda3/lib/python3.6/site-packages/pandas/core/frame.py\u001b[0m in \u001b[0;36m_getitem_array\u001b[0;34m(self, key)\u001b[0m\n\u001b[1;32m   2724\u001b[0m             \u001b[0;32mreturn\u001b[0m \u001b[0mself\u001b[0m\u001b[0;34m.\u001b[0m\u001b[0m_take\u001b[0m\u001b[0;34m(\u001b[0m\u001b[0mindexer\u001b[0m\u001b[0;34m,\u001b[0m \u001b[0maxis\u001b[0m\u001b[0;34m=\u001b[0m\u001b[0;36m0\u001b[0m\u001b[0;34m)\u001b[0m\u001b[0;34m\u001b[0m\u001b[0m\n\u001b[1;32m   2725\u001b[0m         \u001b[0;32melse\u001b[0m\u001b[0;34m:\u001b[0m\u001b[0;34m\u001b[0m\u001b[0m\n\u001b[0;32m-> 2726\u001b[0;31m             \u001b[0mindexer\u001b[0m \u001b[0;34m=\u001b[0m \u001b[0mself\u001b[0m\u001b[0;34m.\u001b[0m\u001b[0mloc\u001b[0m\u001b[0;34m.\u001b[0m\u001b[0m_convert_to_indexer\u001b[0m\u001b[0;34m(\u001b[0m\u001b[0mkey\u001b[0m\u001b[0;34m,\u001b[0m \u001b[0maxis\u001b[0m\u001b[0;34m=\u001b[0m\u001b[0;36m1\u001b[0m\u001b[0;34m)\u001b[0m\u001b[0;34m\u001b[0m\u001b[0m\n\u001b[0m\u001b[1;32m   2727\u001b[0m             \u001b[0;32mreturn\u001b[0m \u001b[0mself\u001b[0m\u001b[0;34m.\u001b[0m\u001b[0m_take\u001b[0m\u001b[0;34m(\u001b[0m\u001b[0mindexer\u001b[0m\u001b[0;34m,\u001b[0m \u001b[0maxis\u001b[0m\u001b[0;34m=\u001b[0m\u001b[0;36m1\u001b[0m\u001b[0;34m)\u001b[0m\u001b[0;34m\u001b[0m\u001b[0m\n\u001b[1;32m   2728\u001b[0m \u001b[0;34m\u001b[0m\u001b[0m\n",
      "\u001b[0;32m~/anaconda3/lib/python3.6/site-packages/pandas/core/indexing.py\u001b[0m in \u001b[0;36m_convert_to_indexer\u001b[0;34m(self, obj, axis, is_setter)\u001b[0m\n\u001b[1;32m   1325\u001b[0m                 \u001b[0;32mif\u001b[0m \u001b[0mmask\u001b[0m\u001b[0;34m.\u001b[0m\u001b[0many\u001b[0m\u001b[0;34m(\u001b[0m\u001b[0;34m)\u001b[0m\u001b[0;34m:\u001b[0m\u001b[0;34m\u001b[0m\u001b[0m\n\u001b[1;32m   1326\u001b[0m                     raise KeyError('{mask} not in index'\n\u001b[0;32m-> 1327\u001b[0;31m                                    .format(mask=objarr[mask]))\n\u001b[0m\u001b[1;32m   1328\u001b[0m \u001b[0;34m\u001b[0m\u001b[0m\n\u001b[1;32m   1329\u001b[0m                 \u001b[0;32mreturn\u001b[0m \u001b[0mcom\u001b[0m\u001b[0;34m.\u001b[0m\u001b[0m_values_from_object\u001b[0m\u001b[0;34m(\u001b[0m\u001b[0mindexer\u001b[0m\u001b[0;34m)\u001b[0m\u001b[0;34m\u001b[0m\u001b[0m\n",
      "\u001b[0;31mKeyError\u001b[0m: \"['B08201_001E' 'B08201_002E' 'B08201_003E' 'B08201_004E' 'B08201_005E'\\n 'B08201_006E' 'B08202_001E' 'B08202_002E' 'B08202_003E' 'B08202_004E'\\n 'B08202_005E'] not in index\""
     ]
    }
   ],
   "source": [
    "os.environ[\"CENSUS\"] = \"d95e144b39e17f929287714b0b8ba9768cecdc9f\"\n",
    "starter = Starter(os.environ[\"CENSUS\"], \"CA\", \"Santa Clara County\",2016)"
   ]
  },
  {
   "cell_type": "code",
   "execution_count": 20,
   "metadata": {},
   "outputs": [],
   "source": [
    "%load_ext autoreload\n",
    "%autoreload 2\n",
    "from synthpop.recipes.starter2 import Starter\n",
    "from synthpop.synthesizer import synthesize_all, enable_logging \n",
    "import os\n",
    "import pandas as pd\n",
    "#enable_logging()\n",
    "os.environ[\"CENSUS\"] = \"d95e144b39e17f929287714b0b8ba9768cecdc9f\""
   ]
  },
  {
   "cell_type": "code",
   "execution_count": 21,
   "metadata": {},
   "outputs": [],
   "source": [
    "starter = Starter(os.environ[\"CENSUS\"], \"CA\", \"Santa Clara County\")"
   ]
  },
  {
   "cell_type": "code",
   "execution_count": 26,
   "metadata": {},
   "outputs": [],
   "source": [
    "starter_mecklenburg = Starter(os.environ[\"CENSUS\"], \"NC\", \"Mecklenburg County\")"
   ]
  },
  {
   "cell_type": "code",
   "execution_count": 25,
   "metadata": {},
   "outputs": [],
   "source": [
    "starter_san_diego = Starter(os.environ[\"CENSUS\"], \"CA\", \"San Diego County\")"
   ]
  },
  {
   "cell_type": "markdown",
   "metadata": {},
   "source": [
    "This notebook is being used to process ACS data obtained from the ACS API. \n",
    "\n",
    "First some notes about the structure of how synthpop works. \n",
    "It has a few dependencies: \n",
    "- **census**, a python library that is a wrapper for the U.S. Census Bureau API\n",
    "- **pandas** a python library used to create and work with dataframes (like tables)\n",
    "- **numpy**\n",
    "- **os** which allows you to set up a development environment (not actually entirely necessary)\n",
    "\n",
    "SynthPop itself is actually a few separate scripts that each handle different aspects of the synthesizing process: \n",
    "The Synth pop library **census_helpers.py** relies on **census** and is a set of funcitons to assist with downloading and processing census data for a given geography. It allows you to select geography and columns of interest and to download data at the block or tract level (or both)\n",
    "**zone_synthesizer.py** is a set of functions that accepts marginals and sample files from a CSV and produces a synthesized population\n",
    "**synthesizer.py** uses a 'recipe' which is the output of the **starter.py** script\n",
    "**starter.py** uses **census_helpers.py** to generate and return: \n",
    "- household marginals\n",
    "- person marginals\n",
    "- household joint distribution\n",
    "- person joint distribution\n",
    "- tract to PUMA map (a disctionary showing the relationship between tracts and PUMAs)\n"
   ]
  },
  {
   "cell_type": "markdown",
   "metadata": {},
   "source": [
    "**Step 1:**  \n",
    "Set API key. (If you don't already have you can get one [here](https://api.census.gov/data/key_signup.html))"
   ]
  },
  {
   "cell_type": "code",
   "execution_count": null,
   "metadata": {},
   "outputs": [],
   "source": [
    "os.environ[\"CENSUS\"] = \"d95e144b39e17f929287714b0b8ba9768cecdc9f\"\n"
   ]
  },
  {
   "cell_type": "code",
   "execution_count": null,
   "metadata": {},
   "outputs": [
    {
     "name": "stdout",
     "output_type": "stream",
     "text": [
      "Synthesizing at geog level: 'block_group' (number of geographies is 555)\n",
      "Synthesizing geog id:\n",
      " state              37\n",
      "county            119\n",
      "tract          000100\n",
      "block group         1\n",
      "dtype: object\n"
     ]
    },
    {
     "name": "stderr",
     "output_type": "stream",
     "text": [
      "/Users/darebrawley/anaconda3/lib/python3.6/site-packages/synthpop/ipu/ipu.py:190: RuntimeWarning: divide by zero encountered in double_scalars\n",
      "  adj = constraint / float((column * weights).sum())\n"
     ]
    },
    {
     "name": "stdout",
     "output_type": "stream",
     "text": [
      "Drawing 801 households\n",
      "Synthesizing geog id:\n",
      " state              37\n",
      "county            119\n",
      "tract          000100\n",
      "block group         2\n",
      "dtype: object\n"
     ]
    },
    {
     "name": "stderr",
     "output_type": "stream",
     "text": [
      "/Users/darebrawley/anaconda3/lib/python3.6/site-packages/synthpop/ipu/ipu.py:190: RuntimeWarning: divide by zero encountered in double_scalars\n",
      "  adj = constraint / float((column * weights).sum())\n"
     ]
    },
    {
     "name": "stdout",
     "output_type": "stream",
     "text": [
      "Drawing 921 households\n",
      "Synthesizing geog id:\n",
      " state              37\n",
      "county            119\n",
      "tract          000100\n",
      "block group         3\n",
      "dtype: object\n"
     ]
    },
    {
     "name": "stderr",
     "output_type": "stream",
     "text": [
      "/Users/darebrawley/anaconda3/lib/python3.6/site-packages/synthpop/ipu/ipu.py:190: RuntimeWarning: divide by zero encountered in double_scalars\n",
      "  adj = constraint / float((column * weights).sum())\n"
     ]
    },
    {
     "name": "stdout",
     "output_type": "stream",
     "text": [
      "Drawing 556 households\n",
      "Synthesizing geog id:\n",
      " state              37\n",
      "county            119\n",
      "tract          000100\n",
      "block group         4\n",
      "dtype: object\n"
     ]
    },
    {
     "name": "stderr",
     "output_type": "stream",
     "text": [
      "/Users/darebrawley/anaconda3/lib/python3.6/site-packages/synthpop/ipu/ipu.py:190: RuntimeWarning: divide by zero encountered in double_scalars\n",
      "  adj = constraint / float((column * weights).sum())\n"
     ]
    },
    {
     "name": "stdout",
     "output_type": "stream",
     "text": [
      "Drawing 175 households\n",
      "Synthesizing geog id:\n",
      " state              37\n",
      "county            119\n",
      "tract          000100\n",
      "block group         5\n",
      "dtype: object\n"
     ]
    },
    {
     "name": "stderr",
     "output_type": "stream",
     "text": [
      "/Users/darebrawley/anaconda3/lib/python3.6/site-packages/synthpop/ipu/ipu.py:190: RuntimeWarning: divide by zero encountered in double_scalars\n",
      "  adj = constraint / float((column * weights).sum())\n"
     ]
    },
    {
     "name": "stdout",
     "output_type": "stream",
     "text": [
      "Drawing 367 households\n",
      "Synthesizing geog id:\n",
      " state              37\n",
      "county            119\n",
      "tract          000300\n",
      "block group         1\n",
      "dtype: object\n"
     ]
    },
    {
     "name": "stderr",
     "output_type": "stream",
     "text": [
      "/Users/darebrawley/anaconda3/lib/python3.6/site-packages/synthpop/ipu/ipu.py:190: RuntimeWarning: divide by zero encountered in double_scalars\n",
      "  adj = constraint / float((column * weights).sum())\n"
     ]
    },
    {
     "name": "stdout",
     "output_type": "stream",
     "text": [
      "Drawing 481 households\n",
      "Synthesizing geog id:\n",
      " state              37\n",
      "county            119\n",
      "tract          000400\n",
      "block group         1\n",
      "dtype: object\n"
     ]
    },
    {
     "name": "stderr",
     "output_type": "stream",
     "text": [
      "/Users/darebrawley/anaconda3/lib/python3.6/site-packages/synthpop/ipu/ipu.py:190: RuntimeWarning: divide by zero encountered in double_scalars\n",
      "  adj = constraint / float((column * weights).sum())\n"
     ]
    },
    {
     "name": "stdout",
     "output_type": "stream",
     "text": [
      "Drawing 988 households\n",
      "Synthesizing geog id:\n",
      " state              37\n",
      "county            119\n",
      "tract          000400\n",
      "block group         2\n",
      "dtype: object\n"
     ]
    },
    {
     "name": "stderr",
     "output_type": "stream",
     "text": [
      "/Users/darebrawley/anaconda3/lib/python3.6/site-packages/synthpop/ipu/ipu.py:190: RuntimeWarning: divide by zero encountered in double_scalars\n",
      "  adj = constraint / float((column * weights).sum())\n"
     ]
    },
    {
     "name": "stdout",
     "output_type": "stream",
     "text": [
      "Drawing 774 households\n",
      "Synthesizing geog id:\n",
      " state              37\n",
      "county            119\n",
      "tract          000500\n",
      "block group         1\n",
      "dtype: object\n"
     ]
    },
    {
     "name": "stderr",
     "output_type": "stream",
     "text": [
      "/Users/darebrawley/anaconda3/lib/python3.6/site-packages/synthpop/ipu/ipu.py:190: RuntimeWarning: divide by zero encountered in double_scalars\n",
      "  adj = constraint / float((column * weights).sum())\n"
     ]
    },
    {
     "name": "stdout",
     "output_type": "stream",
     "text": [
      "Drawing 1170 households\n",
      "Synthesizing geog id:\n",
      " state              37\n",
      "county            119\n",
      "tract          000500\n",
      "block group         2\n",
      "dtype: object\n"
     ]
    },
    {
     "name": "stderr",
     "output_type": "stream",
     "text": [
      "/Users/darebrawley/anaconda3/lib/python3.6/site-packages/synthpop/ipu/ipu.py:190: RuntimeWarning: divide by zero encountered in double_scalars\n",
      "  adj = constraint / float((column * weights).sum())\n"
     ]
    },
    {
     "name": "stdout",
     "output_type": "stream",
     "text": [
      "Drawing 535 households\n",
      "Synthesizing geog id:\n",
      " state              37\n",
      "county            119\n",
      "tract          000500\n",
      "block group         3\n",
      "dtype: object\n",
      "Drawing 787 households\n",
      "Synthesizing geog id:\n",
      " state              37\n",
      "county            119\n",
      "tract          000600\n",
      "block group         1\n",
      "dtype: object\n"
     ]
    },
    {
     "name": "stderr",
     "output_type": "stream",
     "text": [
      "/Users/darebrawley/anaconda3/lib/python3.6/site-packages/synthpop/ipu/ipu.py:190: RuntimeWarning: divide by zero encountered in double_scalars\n",
      "  adj = constraint / float((column * weights).sum())\n"
     ]
    },
    {
     "name": "stdout",
     "output_type": "stream",
     "text": [
      "Drawing 455 households\n",
      "Synthesizing geog id:\n",
      " state              37\n",
      "county            119\n",
      "tract          000600\n",
      "block group         2\n",
      "dtype: object\n"
     ]
    },
    {
     "name": "stderr",
     "output_type": "stream",
     "text": [
      "/Users/darebrawley/anaconda3/lib/python3.6/site-packages/synthpop/ipu/ipu.py:190: RuntimeWarning: divide by zero encountered in double_scalars\n",
      "  adj = constraint / float((column * weights).sum())\n"
     ]
    },
    {
     "name": "stdout",
     "output_type": "stream",
     "text": [
      "Drawing 1112 households\n",
      "Synthesizing geog id:\n",
      " state              37\n",
      "county            119\n",
      "tract          000700\n",
      "block group         1\n",
      "dtype: object\n"
     ]
    },
    {
     "name": "stderr",
     "output_type": "stream",
     "text": [
      "/Users/darebrawley/anaconda3/lib/python3.6/site-packages/synthpop/ipu/ipu.py:190: RuntimeWarning: divide by zero encountered in double_scalars\n",
      "  adj = constraint / float((column * weights).sum())\n"
     ]
    },
    {
     "name": "stdout",
     "output_type": "stream",
     "text": [
      "Drawing 359 households\n",
      "Synthesizing geog id:\n",
      " state              37\n",
      "county            119\n",
      "tract          000800\n",
      "block group         1\n",
      "dtype: object\n"
     ]
    },
    {
     "name": "stderr",
     "output_type": "stream",
     "text": [
      "/Users/darebrawley/anaconda3/lib/python3.6/site-packages/synthpop/ipu/ipu.py:190: RuntimeWarning: divide by zero encountered in double_scalars\n",
      "  adj = constraint / float((column * weights).sum())\n"
     ]
    },
    {
     "name": "stdout",
     "output_type": "stream",
     "text": [
      "Drawing 704 households\n",
      "Synthesizing geog id:\n",
      " state              37\n",
      "county            119\n",
      "tract          000800\n",
      "block group         2\n",
      "dtype: object\n"
     ]
    },
    {
     "name": "stderr",
     "output_type": "stream",
     "text": [
      "/Users/darebrawley/anaconda3/lib/python3.6/site-packages/synthpop/ipu/ipu.py:190: RuntimeWarning: divide by zero encountered in double_scalars\n",
      "  adj = constraint / float((column * weights).sum())\n"
     ]
    },
    {
     "name": "stdout",
     "output_type": "stream",
     "text": [
      "Drawing 225 households\n",
      "Synthesizing geog id:\n",
      " state              37\n",
      "county            119\n",
      "tract          000900\n",
      "block group         1\n",
      "dtype: object\n"
     ]
    },
    {
     "name": "stderr",
     "output_type": "stream",
     "text": [
      "/Users/darebrawley/anaconda3/lib/python3.6/site-packages/synthpop/ipu/ipu.py:190: RuntimeWarning: divide by zero encountered in double_scalars\n",
      "  adj = constraint / float((column * weights).sum())\n"
     ]
    },
    {
     "name": "stdout",
     "output_type": "stream",
     "text": [
      "Drawing 278 households\n",
      "Synthesizing geog id:\n",
      " state              37\n",
      "county            119\n",
      "tract          000900\n",
      "block group         2\n",
      "dtype: object\n"
     ]
    },
    {
     "name": "stderr",
     "output_type": "stream",
     "text": [
      "/Users/darebrawley/anaconda3/lib/python3.6/site-packages/synthpop/ipu/ipu.py:190: RuntimeWarning: divide by zero encountered in double_scalars\n",
      "  adj = constraint / float((column * weights).sum())\n"
     ]
    },
    {
     "name": "stdout",
     "output_type": "stream",
     "text": [
      "Drawing 435 households\n",
      "Synthesizing geog id:\n",
      " state              37\n",
      "county            119\n",
      "tract          001000\n",
      "block group         1\n",
      "dtype: object\n"
     ]
    },
    {
     "name": "stderr",
     "output_type": "stream",
     "text": [
      "/Users/darebrawley/anaconda3/lib/python3.6/site-packages/synthpop/ipu/ipu.py:190: RuntimeWarning: divide by zero encountered in double_scalars\n",
      "  adj = constraint / float((column * weights).sum())\n"
     ]
    },
    {
     "name": "stdout",
     "output_type": "stream",
     "text": [
      "Drawing 415 households\n",
      "Synthesizing geog id:\n",
      " state              37\n",
      "county            119\n",
      "tract          001000\n",
      "block group         2\n",
      "dtype: object\n"
     ]
    },
    {
     "name": "stderr",
     "output_type": "stream",
     "text": [
      "/Users/darebrawley/anaconda3/lib/python3.6/site-packages/synthpop/ipu/ipu.py:190: RuntimeWarning: divide by zero encountered in double_scalars\n",
      "  adj = constraint / float((column * weights).sum())\n"
     ]
    },
    {
     "name": "stdout",
     "output_type": "stream",
     "text": [
      "Drawing 333 households\n",
      "Synthesizing geog id:\n",
      " state              37\n",
      "county            119\n",
      "tract          001000\n",
      "block group         3\n",
      "dtype: object\n"
     ]
    },
    {
     "name": "stderr",
     "output_type": "stream",
     "text": [
      "/Users/darebrawley/anaconda3/lib/python3.6/site-packages/synthpop/ipu/ipu.py:190: RuntimeWarning: divide by zero encountered in double_scalars\n",
      "  adj = constraint / float((column * weights).sum())\n"
     ]
    },
    {
     "name": "stdout",
     "output_type": "stream",
     "text": [
      "Drawing 441 households\n",
      "Synthesizing geog id:\n",
      " state              37\n",
      "county            119\n",
      "tract          001100\n",
      "block group         1\n",
      "dtype: object\n"
     ]
    },
    {
     "name": "stderr",
     "output_type": "stream",
     "text": [
      "/Users/darebrawley/anaconda3/lib/python3.6/site-packages/synthpop/ipu/ipu.py:190: RuntimeWarning: divide by zero encountered in double_scalars\n",
      "  adj = constraint / float((column * weights).sum())\n"
     ]
    },
    {
     "name": "stdout",
     "output_type": "stream",
     "text": [
      "Drawing 316 households\n",
      "Synthesizing geog id:\n",
      " state              37\n",
      "county            119\n",
      "tract          001100\n",
      "block group         2\n",
      "dtype: object\n"
     ]
    },
    {
     "name": "stderr",
     "output_type": "stream",
     "text": [
      "/Users/darebrawley/anaconda3/lib/python3.6/site-packages/synthpop/ipu/ipu.py:190: RuntimeWarning: divide by zero encountered in double_scalars\n",
      "  adj = constraint / float((column * weights).sum())\n"
     ]
    },
    {
     "name": "stdout",
     "output_type": "stream",
     "text": [
      "Drawing 614 households\n",
      "Synthesizing geog id:\n",
      " state              37\n",
      "county            119\n",
      "tract          001200\n",
      "block group         1\n",
      "dtype: object\n",
      "Drawing 878 households\n",
      "Synthesizing geog id:\n",
      " state              37\n",
      "county            119\n",
      "tract          001200\n",
      "block group         2\n",
      "dtype: object\n"
     ]
    },
    {
     "name": "stderr",
     "output_type": "stream",
     "text": [
      "/Users/darebrawley/anaconda3/lib/python3.6/site-packages/synthpop/ipu/ipu.py:190: RuntimeWarning: divide by zero encountered in double_scalars\n",
      "  adj = constraint / float((column * weights).sum())\n"
     ]
    },
    {
     "name": "stdout",
     "output_type": "stream",
     "text": [
      "Drawing 562 households\n",
      "Synthesizing geog id:\n",
      " state              37\n",
      "county            119\n",
      "tract          001200\n",
      "block group         3\n",
      "dtype: object\n"
     ]
    },
    {
     "name": "stderr",
     "output_type": "stream",
     "text": [
      "/Users/darebrawley/anaconda3/lib/python3.6/site-packages/synthpop/ipu/ipu.py:190: RuntimeWarning: divide by zero encountered in double_scalars\n",
      "  adj = constraint / float((column * weights).sum())\n"
     ]
    },
    {
     "name": "stdout",
     "output_type": "stream",
     "text": [
      "Drawing 763 households\n",
      "Synthesizing geog id:\n",
      " state              37\n",
      "county            119\n",
      "tract          001300\n",
      "block group         1\n",
      "dtype: object\n"
     ]
    },
    {
     "name": "stderr",
     "output_type": "stream",
     "text": [
      "/Users/darebrawley/anaconda3/lib/python3.6/site-packages/synthpop/ipu/ipu.py:190: RuntimeWarning: divide by zero encountered in double_scalars\n",
      "  adj = constraint / float((column * weights).sum())\n"
     ]
    },
    {
     "name": "stdout",
     "output_type": "stream",
     "text": [
      "Drawing 929 households\n",
      "Synthesizing geog id:\n",
      " state              37\n",
      "county            119\n",
      "tract          001300\n",
      "block group         2\n",
      "dtype: object\n"
     ]
    },
    {
     "name": "stderr",
     "output_type": "stream",
     "text": [
      "/Users/darebrawley/anaconda3/lib/python3.6/site-packages/synthpop/ipu/ipu.py:190: RuntimeWarning: divide by zero encountered in double_scalars\n",
      "  adj = constraint / float((column * weights).sum())\n"
     ]
    },
    {
     "name": "stdout",
     "output_type": "stream",
     "text": [
      "Drawing 478 households\n",
      "Synthesizing geog id:\n",
      " state              37\n",
      "county            119\n",
      "tract          001300\n",
      "block group         3\n",
      "dtype: object\n"
     ]
    },
    {
     "name": "stderr",
     "output_type": "stream",
     "text": [
      "/Users/darebrawley/anaconda3/lib/python3.6/site-packages/synthpop/ipu/ipu.py:190: RuntimeWarning: divide by zero encountered in double_scalars\n",
      "  adj = constraint / float((column * weights).sum())\n"
     ]
    },
    {
     "name": "stdout",
     "output_type": "stream",
     "text": [
      "Drawing 267 households\n",
      "Synthesizing geog id:\n",
      " state              37\n",
      "county            119\n",
      "tract          001400\n",
      "block group         1\n",
      "dtype: object\n",
      "Drawing 619 households\n",
      "Synthesizing geog id:\n",
      " state              37\n",
      "county            119\n",
      "tract          001400\n",
      "block group         2\n",
      "dtype: object\n",
      "Drawing 646 households\n",
      "Synthesizing geog id:\n",
      " state              37\n",
      "county            119\n",
      "tract          001504\n",
      "block group         1\n",
      "dtype: object\n"
     ]
    },
    {
     "name": "stderr",
     "output_type": "stream",
     "text": [
      "/Users/darebrawley/anaconda3/lib/python3.6/site-packages/synthpop/ipu/ipu.py:190: RuntimeWarning: divide by zero encountered in double_scalars\n",
      "  adj = constraint / float((column * weights).sum())\n"
     ]
    },
    {
     "name": "stdout",
     "output_type": "stream",
     "text": [
      "Drawing 1390 households\n",
      "Synthesizing geog id:\n",
      " state              37\n",
      "county            119\n",
      "tract          001504\n",
      "block group         2\n",
      "dtype: object\n"
     ]
    },
    {
     "name": "stderr",
     "output_type": "stream",
     "text": [
      "/Users/darebrawley/anaconda3/lib/python3.6/site-packages/synthpop/ipu/ipu.py:190: RuntimeWarning: divide by zero encountered in double_scalars\n",
      "  adj = constraint / float((column * weights).sum())\n"
     ]
    },
    {
     "name": "stdout",
     "output_type": "stream",
     "text": [
      "Drawing 459 households\n",
      "Synthesizing geog id:\n",
      " state              37\n",
      "county            119\n",
      "tract          001504\n",
      "block group         3\n",
      "dtype: object\n"
     ]
    },
    {
     "name": "stderr",
     "output_type": "stream",
     "text": [
      "/Users/darebrawley/anaconda3/lib/python3.6/site-packages/synthpop/ipu/ipu.py:190: RuntimeWarning: divide by zero encountered in double_scalars\n",
      "  adj = constraint / float((column * weights).sum())\n"
     ]
    },
    {
     "name": "stdout",
     "output_type": "stream",
     "text": [
      "Drawing 526 households\n",
      "Synthesizing geog id:\n",
      " state              37\n",
      "county            119\n",
      "tract          001505\n",
      "block group         1\n",
      "dtype: object\n",
      "Drawing 1245 households\n",
      "Synthesizing geog id:\n",
      " state              37\n",
      "county            119\n",
      "tract          001507\n",
      "block group         1\n",
      "dtype: object\n"
     ]
    },
    {
     "name": "stderr",
     "output_type": "stream",
     "text": [
      "/Users/darebrawley/anaconda3/lib/python3.6/site-packages/synthpop/ipu/ipu.py:190: RuntimeWarning: divide by zero encountered in double_scalars\n",
      "  adj = constraint / float((column * weights).sum())\n"
     ]
    },
    {
     "name": "stdout",
     "output_type": "stream",
     "text": [
      "Drawing 490 households\n",
      "Synthesizing geog id:\n",
      " state              37\n",
      "county            119\n",
      "tract          001507\n",
      "block group         2\n",
      "dtype: object\n"
     ]
    },
    {
     "name": "stderr",
     "output_type": "stream",
     "text": [
      "/Users/darebrawley/anaconda3/lib/python3.6/site-packages/synthpop/ipu/ipu.py:190: RuntimeWarning: divide by zero encountered in double_scalars\n",
      "  adj = constraint / float((column * weights).sum())\n"
     ]
    },
    {
     "name": "stdout",
     "output_type": "stream",
     "text": [
      "Drawing 478 households\n",
      "Synthesizing geog id:\n",
      " state              37\n",
      "county            119\n",
      "tract          001507\n",
      "block group         3\n",
      "dtype: object\n"
     ]
    },
    {
     "name": "stderr",
     "output_type": "stream",
     "text": [
      "/Users/darebrawley/anaconda3/lib/python3.6/site-packages/synthpop/ipu/ipu.py:190: RuntimeWarning: divide by zero encountered in double_scalars\n",
      "  adj = constraint / float((column * weights).sum())\n"
     ]
    },
    {
     "name": "stdout",
     "output_type": "stream",
     "text": [
      "Drawing 405 households\n",
      "Synthesizing geog id:\n",
      " state              37\n",
      "county            119\n",
      "tract          001508\n",
      "block group         1\n",
      "dtype: object\n"
     ]
    },
    {
     "name": "stderr",
     "output_type": "stream",
     "text": [
      "/Users/darebrawley/anaconda3/lib/python3.6/site-packages/synthpop/ipu/ipu.py:190: RuntimeWarning: divide by zero encountered in double_scalars\n",
      "  adj = constraint / float((column * weights).sum())\n"
     ]
    },
    {
     "name": "stdout",
     "output_type": "stream",
     "text": [
      "Drawing 885 households\n",
      "Synthesizing geog id:\n",
      " state              37\n",
      "county            119\n",
      "tract          001508\n",
      "block group         2\n",
      "dtype: object\n"
     ]
    },
    {
     "name": "stderr",
     "output_type": "stream",
     "text": [
      "/Users/darebrawley/anaconda3/lib/python3.6/site-packages/synthpop/ipu/ipu.py:190: RuntimeWarning: divide by zero encountered in double_scalars\n",
      "  adj = constraint / float((column * weights).sum())\n"
     ]
    },
    {
     "name": "stdout",
     "output_type": "stream",
     "text": [
      "Drawing 955 households\n",
      "Synthesizing geog id:\n",
      " state              37\n",
      "county            119\n",
      "tract          001508\n",
      "block group         3\n",
      "dtype: object\n"
     ]
    },
    {
     "name": "stderr",
     "output_type": "stream",
     "text": [
      "/Users/darebrawley/anaconda3/lib/python3.6/site-packages/synthpop/ipu/ipu.py:190: RuntimeWarning: divide by zero encountered in double_scalars\n",
      "  adj = constraint / float((column * weights).sum())\n"
     ]
    },
    {
     "name": "stdout",
     "output_type": "stream",
     "text": [
      "Drawing 390 households\n",
      "Synthesizing geog id:\n",
      " state              37\n",
      "county            119\n",
      "tract          001509\n",
      "block group         1\n",
      "dtype: object\n"
     ]
    },
    {
     "name": "stderr",
     "output_type": "stream",
     "text": [
      "/Users/darebrawley/anaconda3/lib/python3.6/site-packages/synthpop/ipu/ipu.py:190: RuntimeWarning: divide by zero encountered in double_scalars\n",
      "  adj = constraint / float((column * weights).sum())\n"
     ]
    },
    {
     "name": "stdout",
     "output_type": "stream",
     "text": [
      "Drawing 453 households\n",
      "Synthesizing geog id:\n",
      " state              37\n",
      "county            119\n",
      "tract          001509\n",
      "block group         2\n",
      "dtype: object\n"
     ]
    },
    {
     "name": "stderr",
     "output_type": "stream",
     "text": [
      "/Users/darebrawley/anaconda3/lib/python3.6/site-packages/synthpop/ipu/ipu.py:190: RuntimeWarning: divide by zero encountered in double_scalars\n",
      "  adj = constraint / float((column * weights).sum())\n"
     ]
    },
    {
     "name": "stdout",
     "output_type": "stream",
     "text": [
      "Drawing 716 households\n",
      "Synthesizing geog id:\n",
      " state              37\n",
      "county            119\n",
      "tract          001510\n",
      "block group         1\n",
      "dtype: object\n"
     ]
    },
    {
     "name": "stderr",
     "output_type": "stream",
     "text": [
      "/Users/darebrawley/anaconda3/lib/python3.6/site-packages/synthpop/ipu/ipu.py:190: RuntimeWarning: divide by zero encountered in double_scalars\n",
      "  adj = constraint / float((column * weights).sum())\n"
     ]
    },
    {
     "name": "stdout",
     "output_type": "stream",
     "text": [
      "Drawing 859 households\n",
      "Synthesizing geog id:\n",
      " state              37\n",
      "county            119\n",
      "tract          001510\n",
      "block group         2\n",
      "dtype: object\n"
     ]
    },
    {
     "name": "stderr",
     "output_type": "stream",
     "text": [
      "/Users/darebrawley/anaconda3/lib/python3.6/site-packages/synthpop/ipu/ipu.py:190: RuntimeWarning: divide by zero encountered in double_scalars\n",
      "  adj = constraint / float((column * weights).sum())\n"
     ]
    },
    {
     "name": "stdout",
     "output_type": "stream",
     "text": [
      "Drawing 362 households\n",
      "Synthesizing geog id:\n",
      " state              37\n",
      "county            119\n",
      "tract          001603\n",
      "block group         1\n",
      "dtype: object\n"
     ]
    },
    {
     "name": "stderr",
     "output_type": "stream",
     "text": [
      "/Users/darebrawley/anaconda3/lib/python3.6/site-packages/synthpop/ipu/ipu.py:190: RuntimeWarning: divide by zero encountered in double_scalars\n",
      "  adj = constraint / float((column * weights).sum())\n"
     ]
    },
    {
     "name": "stdout",
     "output_type": "stream",
     "text": [
      "Drawing 1143 households\n",
      "Synthesizing geog id:\n",
      " state              37\n",
      "county            119\n",
      "tract          001603\n",
      "block group         2\n",
      "dtype: object\n"
     ]
    },
    {
     "name": "stderr",
     "output_type": "stream",
     "text": [
      "/Users/darebrawley/anaconda3/lib/python3.6/site-packages/synthpop/ipu/ipu.py:190: RuntimeWarning: divide by zero encountered in double_scalars\n",
      "  adj = constraint / float((column * weights).sum())\n"
     ]
    },
    {
     "name": "stdout",
     "output_type": "stream",
     "text": [
      "Drawing 701 households\n",
      "Synthesizing geog id:\n",
      " state              37\n",
      "county            119\n",
      "tract          001605\n",
      "block group         1\n",
      "dtype: object\n"
     ]
    },
    {
     "name": "stderr",
     "output_type": "stream",
     "text": [
      "/Users/darebrawley/anaconda3/lib/python3.6/site-packages/synthpop/ipu/ipu.py:190: RuntimeWarning: divide by zero encountered in double_scalars\n",
      "  adj = constraint / float((column * weights).sum())\n"
     ]
    },
    {
     "name": "stdout",
     "output_type": "stream",
     "text": [
      "Drawing 807 households\n",
      "Synthesizing geog id:\n",
      " state              37\n",
      "county            119\n",
      "tract          001606\n",
      "block group         1\n",
      "dtype: object\n",
      "Drawing 956 households\n",
      "Synthesizing geog id:\n",
      " state              37\n",
      "county            119\n",
      "tract          001606\n",
      "block group         2\n",
      "dtype: object\n",
      "Drawing 644 households\n",
      "Synthesizing geog id:\n",
      " state              37\n",
      "county            119\n",
      "tract          001607\n",
      "block group         1\n",
      "dtype: object\n"
     ]
    },
    {
     "name": "stderr",
     "output_type": "stream",
     "text": [
      "/Users/darebrawley/anaconda3/lib/python3.6/site-packages/synthpop/ipu/ipu.py:190: RuntimeWarning: divide by zero encountered in double_scalars\n",
      "  adj = constraint / float((column * weights).sum())\n"
     ]
    },
    {
     "name": "stdout",
     "output_type": "stream",
     "text": [
      "Drawing 1182 households\n",
      "Synthesizing geog id:\n",
      " state              37\n",
      "county            119\n",
      "tract          001608\n",
      "block group         1\n",
      "dtype: object\n"
     ]
    },
    {
     "name": "stderr",
     "output_type": "stream",
     "text": [
      "/Users/darebrawley/anaconda3/lib/python3.6/site-packages/synthpop/ipu/ipu.py:190: RuntimeWarning: divide by zero encountered in double_scalars\n",
      "  adj = constraint / float((column * weights).sum())\n"
     ]
    },
    {
     "name": "stdout",
     "output_type": "stream",
     "text": [
      "Drawing 981 households\n",
      "Synthesizing geog id:\n",
      " state              37\n",
      "county            119\n",
      "tract          001608\n",
      "block group         2\n",
      "dtype: object\n"
     ]
    },
    {
     "name": "stderr",
     "output_type": "stream",
     "text": [
      "/Users/darebrawley/anaconda3/lib/python3.6/site-packages/synthpop/ipu/ipu.py:190: RuntimeWarning: divide by zero encountered in double_scalars\n",
      "  adj = constraint / float((column * weights).sum())\n"
     ]
    },
    {
     "name": "stdout",
     "output_type": "stream",
     "text": [
      "Drawing 559 households\n",
      "Synthesizing geog id:\n",
      " state              37\n",
      "county            119\n",
      "tract          001609\n",
      "block group         1\n",
      "dtype: object\n"
     ]
    },
    {
     "name": "stderr",
     "output_type": "stream",
     "text": [
      "/Users/darebrawley/anaconda3/lib/python3.6/site-packages/synthpop/ipu/ipu.py:190: RuntimeWarning: divide by zero encountered in double_scalars\n",
      "  adj = constraint / float((column * weights).sum())\n"
     ]
    },
    {
     "name": "stdout",
     "output_type": "stream",
     "text": [
      "Drawing 366 households\n",
      "Synthesizing geog id:\n",
      " state              37\n",
      "county            119\n",
      "tract          001609\n",
      "block group         2\n",
      "dtype: object\n"
     ]
    },
    {
     "name": "stderr",
     "output_type": "stream",
     "text": [
      "/Users/darebrawley/anaconda3/lib/python3.6/site-packages/synthpop/ipu/ipu.py:190: RuntimeWarning: divide by zero encountered in double_scalars\n",
      "  adj = constraint / float((column * weights).sum())\n"
     ]
    },
    {
     "name": "stdout",
     "output_type": "stream",
     "text": [
      "Drawing 892 households\n",
      "Synthesizing geog id:\n",
      " state              37\n",
      "county            119\n",
      "tract          001701\n",
      "block group         1\n",
      "dtype: object\n",
      "Drawing 750 households\n",
      "Synthesizing geog id:\n",
      " state              37\n",
      "county            119\n",
      "tract          001701\n",
      "block group         2\n",
      "dtype: object\n"
     ]
    },
    {
     "name": "stderr",
     "output_type": "stream",
     "text": [
      "/Users/darebrawley/anaconda3/lib/python3.6/site-packages/synthpop/ipu/ipu.py:190: RuntimeWarning: divide by zero encountered in double_scalars\n",
      "  adj = constraint / float((column * weights).sum())\n"
     ]
    },
    {
     "name": "stdout",
     "output_type": "stream",
     "text": [
      "Drawing 902 households\n",
      "Synthesizing geog id:\n",
      " state              37\n",
      "county            119\n",
      "tract          001702\n",
      "block group         1\n",
      "dtype: object\n"
     ]
    },
    {
     "name": "stderr",
     "output_type": "stream",
     "text": [
      "/Users/darebrawley/anaconda3/lib/python3.6/site-packages/synthpop/ipu/ipu.py:190: RuntimeWarning: divide by zero encountered in double_scalars\n",
      "  adj = constraint / float((column * weights).sum())\n"
     ]
    },
    {
     "name": "stdout",
     "output_type": "stream",
     "text": [
      "Drawing 488 households\n",
      "Synthesizing geog id:\n",
      " state              37\n",
      "county            119\n",
      "tract          001702\n",
      "block group         2\n",
      "dtype: object\n"
     ]
    },
    {
     "name": "stderr",
     "output_type": "stream",
     "text": [
      "/Users/darebrawley/anaconda3/lib/python3.6/site-packages/synthpop/ipu/ipu.py:190: RuntimeWarning: divide by zero encountered in double_scalars\n",
      "  adj = constraint / float((column * weights).sum())\n"
     ]
    },
    {
     "name": "stdout",
     "output_type": "stream",
     "text": [
      "Drawing 267 households\n",
      "Synthesizing geog id:\n",
      " state              37\n",
      "county            119\n",
      "tract          001702\n",
      "block group         3\n",
      "dtype: object\n"
     ]
    },
    {
     "name": "stderr",
     "output_type": "stream",
     "text": [
      "/Users/darebrawley/anaconda3/lib/python3.6/site-packages/synthpop/ipu/ipu.py:190: RuntimeWarning: divide by zero encountered in double_scalars\n",
      "  adj = constraint / float((column * weights).sum())\n"
     ]
    },
    {
     "name": "stdout",
     "output_type": "stream",
     "text": [
      "Drawing 339 households\n",
      "Synthesizing geog id:\n",
      " state              37\n",
      "county            119\n",
      "tract          001702\n",
      "block group         4\n",
      "dtype: object\n"
     ]
    },
    {
     "name": "stderr",
     "output_type": "stream",
     "text": [
      "/Users/darebrawley/anaconda3/lib/python3.6/site-packages/synthpop/ipu/ipu.py:190: RuntimeWarning: divide by zero encountered in double_scalars\n",
      "  adj = constraint / float((column * weights).sum())\n"
     ]
    },
    {
     "name": "stdout",
     "output_type": "stream",
     "text": [
      "Drawing 965 households\n",
      "Synthesizing geog id:\n",
      " state              37\n",
      "county            119\n",
      "tract          001801\n",
      "block group         1\n",
      "dtype: object\n"
     ]
    },
    {
     "name": "stderr",
     "output_type": "stream",
     "text": [
      "/Users/darebrawley/anaconda3/lib/python3.6/site-packages/synthpop/ipu/ipu.py:190: RuntimeWarning: divide by zero encountered in double_scalars\n",
      "  adj = constraint / float((column * weights).sum())\n"
     ]
    },
    {
     "name": "stdout",
     "output_type": "stream",
     "text": [
      "Drawing 223 households\n",
      "Synthesizing geog id:\n",
      " state              37\n",
      "county            119\n",
      "tract          001801\n",
      "block group         2\n",
      "dtype: object\n"
     ]
    },
    {
     "name": "stderr",
     "output_type": "stream",
     "text": [
      "/Users/darebrawley/anaconda3/lib/python3.6/site-packages/synthpop/ipu/ipu.py:190: RuntimeWarning: divide by zero encountered in double_scalars\n",
      "  adj = constraint / float((column * weights).sum())\n"
     ]
    },
    {
     "name": "stdout",
     "output_type": "stream",
     "text": [
      "Drawing 168 households\n",
      "Synthesizing geog id:\n",
      " state              37\n",
      "county            119\n",
      "tract          001801\n",
      "block group         3\n",
      "dtype: object\n"
     ]
    },
    {
     "name": "stderr",
     "output_type": "stream",
     "text": [
      "/Users/darebrawley/anaconda3/lib/python3.6/site-packages/synthpop/ipu/ipu.py:190: RuntimeWarning: divide by zero encountered in double_scalars\n",
      "  adj = constraint / float((column * weights).sum())\n"
     ]
    },
    {
     "name": "stdout",
     "output_type": "stream",
     "text": [
      "Drawing 230 households\n",
      "Synthesizing geog id:\n",
      " state              37\n",
      "county            119\n",
      "tract          001802\n",
      "block group         1\n",
      "dtype: object\n"
     ]
    },
    {
     "name": "stderr",
     "output_type": "stream",
     "text": [
      "/Users/darebrawley/anaconda3/lib/python3.6/site-packages/synthpop/ipu/ipu.py:190: RuntimeWarning: divide by zero encountered in double_scalars\n",
      "  adj = constraint / float((column * weights).sum())\n"
     ]
    },
    {
     "name": "stdout",
     "output_type": "stream",
     "text": [
      "Drawing 681 households\n",
      "Synthesizing geog id:\n",
      " state              37\n",
      "county            119\n",
      "tract          001802\n",
      "block group         2\n",
      "dtype: object\n",
      "Drawing 832 households\n",
      "Synthesizing geog id:\n",
      " state              37\n",
      "county            119\n",
      "tract          001910\n",
      "block group         1\n",
      "dtype: object\n"
     ]
    },
    {
     "name": "stderr",
     "output_type": "stream",
     "text": [
      "/Users/darebrawley/anaconda3/lib/python3.6/site-packages/synthpop/ipu/ipu.py:190: RuntimeWarning: divide by zero encountered in double_scalars\n",
      "  adj = constraint / float((column * weights).sum())\n"
     ]
    },
    {
     "name": "stdout",
     "output_type": "stream",
     "text": [
      "Drawing 859 households\n",
      "Synthesizing geog id:\n",
      " state              37\n",
      "county            119\n",
      "tract          001910\n",
      "block group         2\n",
      "dtype: object\n"
     ]
    },
    {
     "name": "stderr",
     "output_type": "stream",
     "text": [
      "/Users/darebrawley/anaconda3/lib/python3.6/site-packages/synthpop/ipu/ipu.py:190: RuntimeWarning: divide by zero encountered in double_scalars\n",
      "  adj = constraint / float((column * weights).sum())\n"
     ]
    },
    {
     "name": "stdout",
     "output_type": "stream",
     "text": [
      "Drawing 446 households\n",
      "Synthesizing geog id:\n",
      " state              37\n",
      "county            119\n",
      "tract          001910\n",
      "block group         3\n",
      "dtype: object\n",
      "Drawing 475 households\n",
      "Synthesizing geog id:\n",
      " state              37\n",
      "county            119\n",
      "tract          001911\n",
      "block group         1\n",
      "dtype: object\n"
     ]
    },
    {
     "name": "stderr",
     "output_type": "stream",
     "text": [
      "/Users/darebrawley/anaconda3/lib/python3.6/site-packages/synthpop/ipu/ipu.py:190: RuntimeWarning: divide by zero encountered in double_scalars\n",
      "  adj = constraint / float((column * weights).sum())\n"
     ]
    },
    {
     "name": "stdout",
     "output_type": "stream",
     "text": [
      "Drawing 442 households\n",
      "Synthesizing geog id:\n",
      " state              37\n",
      "county            119\n",
      "tract          001911\n",
      "block group         2\n",
      "dtype: object\n"
     ]
    },
    {
     "name": "stderr",
     "output_type": "stream",
     "text": [
      "/Users/darebrawley/anaconda3/lib/python3.6/site-packages/synthpop/ipu/ipu.py:190: RuntimeWarning: divide by zero encountered in double_scalars\n",
      "  adj = constraint / float((column * weights).sum())\n"
     ]
    },
    {
     "name": "stdout",
     "output_type": "stream",
     "text": [
      "Drawing 820 households\n",
      "Synthesizing geog id:\n",
      " state              37\n",
      "county            119\n",
      "tract          001911\n",
      "block group         3\n",
      "dtype: object\n"
     ]
    },
    {
     "name": "stderr",
     "output_type": "stream",
     "text": [
      "/Users/darebrawley/anaconda3/lib/python3.6/site-packages/synthpop/ipu/ipu.py:190: RuntimeWarning: divide by zero encountered in double_scalars\n",
      "  adj = constraint / float((column * weights).sum())\n"
     ]
    },
    {
     "name": "stdout",
     "output_type": "stream",
     "text": [
      "Drawing 846 households\n",
      "Synthesizing geog id:\n",
      " state              37\n",
      "county            119\n",
      "tract          001912\n",
      "block group         1\n",
      "dtype: object\n"
     ]
    },
    {
     "name": "stderr",
     "output_type": "stream",
     "text": [
      "/Users/darebrawley/anaconda3/lib/python3.6/site-packages/synthpop/ipu/ipu.py:190: RuntimeWarning: divide by zero encountered in double_scalars\n",
      "  adj = constraint / float((column * weights).sum())\n"
     ]
    },
    {
     "name": "stdout",
     "output_type": "stream",
     "text": [
      "Drawing 926 households\n",
      "Synthesizing geog id:\n",
      " state              37\n",
      "county            119\n",
      "tract          001912\n",
      "block group         2\n",
      "dtype: object\n"
     ]
    },
    {
     "name": "stderr",
     "output_type": "stream",
     "text": [
      "/Users/darebrawley/anaconda3/lib/python3.6/site-packages/synthpop/ipu/ipu.py:190: RuntimeWarning: divide by zero encountered in double_scalars\n",
      "  adj = constraint / float((column * weights).sum())\n"
     ]
    },
    {
     "name": "stdout",
     "output_type": "stream",
     "text": [
      "Drawing 276 households\n",
      "Synthesizing geog id:\n",
      " state              37\n",
      "county            119\n",
      "tract          001912\n",
      "block group         3\n",
      "dtype: object\n"
     ]
    },
    {
     "name": "stderr",
     "output_type": "stream",
     "text": [
      "/Users/darebrawley/anaconda3/lib/python3.6/site-packages/synthpop/ipu/ipu.py:190: RuntimeWarning: divide by zero encountered in double_scalars\n",
      "  adj = constraint / float((column * weights).sum())\n"
     ]
    },
    {
     "name": "stdout",
     "output_type": "stream",
     "text": [
      "Drawing 317 households\n",
      "Synthesizing geog id:\n",
      " state              37\n",
      "county            119\n",
      "tract          001912\n",
      "block group         4\n",
      "dtype: object\n"
     ]
    },
    {
     "name": "stderr",
     "output_type": "stream",
     "text": [
      "/Users/darebrawley/anaconda3/lib/python3.6/site-packages/synthpop/ipu/ipu.py:190: RuntimeWarning: divide by zero encountered in double_scalars\n",
      "  adj = constraint / float((column * weights).sum())\n"
     ]
    },
    {
     "name": "stdout",
     "output_type": "stream",
     "text": [
      "Drawing 910 households\n",
      "Synthesizing geog id:\n",
      " state              37\n",
      "county            119\n",
      "tract          001914\n",
      "block group         1\n",
      "dtype: object\n"
     ]
    },
    {
     "name": "stderr",
     "output_type": "stream",
     "text": [
      "/Users/darebrawley/anaconda3/lib/python3.6/site-packages/synthpop/ipu/ipu.py:190: RuntimeWarning: divide by zero encountered in double_scalars\n",
      "  adj = constraint / float((column * weights).sum())\n"
     ]
    },
    {
     "name": "stdout",
     "output_type": "stream",
     "text": [
      "Drawing 655 households\n",
      "Synthesizing geog id:\n",
      " state              37\n",
      "county            119\n",
      "tract          001914\n",
      "block group         2\n",
      "dtype: object\n",
      "Drawing 621 households\n",
      "Synthesizing geog id:\n",
      " state              37\n",
      "county            119\n",
      "tract          001915\n",
      "block group         1\n",
      "dtype: object\n"
     ]
    },
    {
     "name": "stderr",
     "output_type": "stream",
     "text": [
      "/Users/darebrawley/anaconda3/lib/python3.6/site-packages/synthpop/ipu/ipu.py:190: RuntimeWarning: divide by zero encountered in double_scalars\n",
      "  adj = constraint / float((column * weights).sum())\n"
     ]
    },
    {
     "name": "stdout",
     "output_type": "stream",
     "text": [
      "Drawing 615 households\n",
      "Synthesizing geog id:\n",
      " state              37\n",
      "county            119\n",
      "tract          001915\n",
      "block group         2\n",
      "dtype: object\n",
      "Drawing 1142 households\n",
      "Synthesizing geog id:\n",
      " state              37\n",
      "county            119\n",
      "tract          001915\n",
      "block group         3\n",
      "dtype: object\n"
     ]
    },
    {
     "name": "stderr",
     "output_type": "stream",
     "text": [
      "/Users/darebrawley/anaconda3/lib/python3.6/site-packages/synthpop/ipu/ipu.py:190: RuntimeWarning: divide by zero encountered in double_scalars\n",
      "  adj = constraint / float((column * weights).sum())\n"
     ]
    },
    {
     "name": "stdout",
     "output_type": "stream",
     "text": [
      "Drawing 415 households\n",
      "Synthesizing geog id:\n",
      " state              37\n",
      "county            119\n",
      "tract          001915\n",
      "block group         4\n",
      "dtype: object\n"
     ]
    },
    {
     "name": "stderr",
     "output_type": "stream",
     "text": [
      "/Users/darebrawley/anaconda3/lib/python3.6/site-packages/synthpop/ipu/ipu.py:190: RuntimeWarning: divide by zero encountered in double_scalars\n",
      "  adj = constraint / float((column * weights).sum())\n"
     ]
    },
    {
     "name": "stdout",
     "output_type": "stream",
     "text": [
      "Drawing 745 households\n",
      "Synthesizing geog id:\n",
      " state              37\n",
      "county            119\n",
      "tract          001916\n",
      "block group         1\n",
      "dtype: object\n"
     ]
    },
    {
     "name": "stderr",
     "output_type": "stream",
     "text": [
      "/Users/darebrawley/anaconda3/lib/python3.6/site-packages/synthpop/ipu/ipu.py:190: RuntimeWarning: divide by zero encountered in double_scalars\n",
      "  adj = constraint / float((column * weights).sum())\n"
     ]
    },
    {
     "name": "stdout",
     "output_type": "stream",
     "text": [
      "Drawing 579 households\n",
      "Synthesizing geog id:\n",
      " state              37\n",
      "county            119\n",
      "tract          001916\n",
      "block group         2\n",
      "dtype: object\n",
      "Drawing 917 households\n",
      "Synthesizing geog id:\n",
      " state              37\n",
      "county            119\n",
      "tract          001917\n",
      "block group         1\n",
      "dtype: object\n"
     ]
    },
    {
     "name": "stderr",
     "output_type": "stream",
     "text": [
      "/Users/darebrawley/anaconda3/lib/python3.6/site-packages/synthpop/ipu/ipu.py:190: RuntimeWarning: divide by zero encountered in double_scalars\n",
      "  adj = constraint / float((column * weights).sum())\n"
     ]
    },
    {
     "name": "stdout",
     "output_type": "stream",
     "text": [
      "Drawing 720 households\n",
      "Synthesizing geog id:\n",
      " state              37\n",
      "county            119\n",
      "tract          001917\n",
      "block group         2\n",
      "dtype: object\n"
     ]
    },
    {
     "name": "stderr",
     "output_type": "stream",
     "text": [
      "/Users/darebrawley/anaconda3/lib/python3.6/site-packages/synthpop/ipu/ipu.py:190: RuntimeWarning: divide by zero encountered in double_scalars\n",
      "  adj = constraint / float((column * weights).sum())\n"
     ]
    },
    {
     "name": "stdout",
     "output_type": "stream",
     "text": [
      "Drawing 690 households\n",
      "Synthesizing geog id:\n",
      " state              37\n",
      "county            119\n",
      "tract          001918\n",
      "block group         1\n",
      "dtype: object\n"
     ]
    },
    {
     "name": "stderr",
     "output_type": "stream",
     "text": [
      "/Users/darebrawley/anaconda3/lib/python3.6/site-packages/synthpop/ipu/ipu.py:190: RuntimeWarning: divide by zero encountered in double_scalars\n",
      "  adj = constraint / float((column * weights).sum())\n"
     ]
    },
    {
     "name": "stdout",
     "output_type": "stream",
     "text": [
      "Drawing 231 households\n",
      "Synthesizing geog id:\n",
      " state              37\n",
      "county            119\n",
      "tract          001918\n",
      "block group         2\n",
      "dtype: object\n"
     ]
    },
    {
     "name": "stderr",
     "output_type": "stream",
     "text": [
      "/Users/darebrawley/anaconda3/lib/python3.6/site-packages/synthpop/ipu/ipu.py:190: RuntimeWarning: divide by zero encountered in double_scalars\n",
      "  adj = constraint / float((column * weights).sum())\n"
     ]
    },
    {
     "name": "stdout",
     "output_type": "stream",
     "text": [
      "Drawing 878 households\n",
      "Synthesizing geog id:\n",
      " state              37\n",
      "county            119\n",
      "tract          001918\n",
      "block group         3\n",
      "dtype: object\n"
     ]
    },
    {
     "name": "stderr",
     "output_type": "stream",
     "text": [
      "/Users/darebrawley/anaconda3/lib/python3.6/site-packages/synthpop/ipu/ipu.py:190: RuntimeWarning: divide by zero encountered in double_scalars\n",
      "  adj = constraint / float((column * weights).sum())\n"
     ]
    },
    {
     "name": "stdout",
     "output_type": "stream",
     "text": [
      "Drawing 610 households\n",
      "Synthesizing geog id:\n",
      " state              37\n",
      "county            119\n",
      "tract          001919\n",
      "block group         1\n",
      "dtype: object\n"
     ]
    },
    {
     "name": "stderr",
     "output_type": "stream",
     "text": [
      "/Users/darebrawley/anaconda3/lib/python3.6/site-packages/synthpop/ipu/ipu.py:190: RuntimeWarning: divide by zero encountered in double_scalars\n",
      "  adj = constraint / float((column * weights).sum())\n"
     ]
    },
    {
     "name": "stdout",
     "output_type": "stream",
     "text": [
      "Drawing 583 households\n",
      "Synthesizing geog id:\n",
      " state              37\n",
      "county            119\n",
      "tract          001919\n",
      "block group         2\n",
      "dtype: object\n"
     ]
    },
    {
     "name": "stderr",
     "output_type": "stream",
     "text": [
      "/Users/darebrawley/anaconda3/lib/python3.6/site-packages/synthpop/ipu/ipu.py:190: RuntimeWarning: divide by zero encountered in double_scalars\n",
      "  adj = constraint / float((column * weights).sum())\n"
     ]
    },
    {
     "name": "stdout",
     "output_type": "stream",
     "text": [
      "Drawing 450 households\n",
      "Synthesizing geog id:\n",
      " state              37\n",
      "county            119\n",
      "tract          001919\n",
      "block group         3\n",
      "dtype: object\n"
     ]
    },
    {
     "name": "stderr",
     "output_type": "stream",
     "text": [
      "/Users/darebrawley/anaconda3/lib/python3.6/site-packages/synthpop/ipu/ipu.py:190: RuntimeWarning: divide by zero encountered in double_scalars\n",
      "  adj = constraint / float((column * weights).sum())\n"
     ]
    },
    {
     "name": "stdout",
     "output_type": "stream",
     "text": [
      "Drawing 477 households\n",
      "Synthesizing geog id:\n",
      " state              37\n",
      "county            119\n",
      "tract          001920\n",
      "block group         1\n",
      "dtype: object\n"
     ]
    },
    {
     "name": "stderr",
     "output_type": "stream",
     "text": [
      "/Users/darebrawley/anaconda3/lib/python3.6/site-packages/synthpop/ipu/ipu.py:190: RuntimeWarning: divide by zero encountered in double_scalars\n",
      "  adj = constraint / float((column * weights).sum())\n"
     ]
    },
    {
     "name": "stdout",
     "output_type": "stream",
     "text": [
      "Drawing 681 households\n",
      "Synthesizing geog id:\n",
      " state              37\n",
      "county            119\n",
      "tract          001920\n",
      "block group         2\n",
      "dtype: object\n"
     ]
    },
    {
     "name": "stderr",
     "output_type": "stream",
     "text": [
      "/Users/darebrawley/anaconda3/lib/python3.6/site-packages/synthpop/ipu/ipu.py:190: RuntimeWarning: divide by zero encountered in double_scalars\n",
      "  adj = constraint / float((column * weights).sum())\n"
     ]
    },
    {
     "name": "stdout",
     "output_type": "stream",
     "text": [
      "Drawing 404 households\n",
      "Synthesizing geog id:\n",
      " state              37\n",
      "county            119\n",
      "tract          001920\n",
      "block group         3\n",
      "dtype: object\n"
     ]
    },
    {
     "name": "stderr",
     "output_type": "stream",
     "text": [
      "/Users/darebrawley/anaconda3/lib/python3.6/site-packages/synthpop/ipu/ipu.py:190: RuntimeWarning: divide by zero encountered in double_scalars\n",
      "  adj = constraint / float((column * weights).sum())\n"
     ]
    },
    {
     "name": "stdout",
     "output_type": "stream",
     "text": [
      "Drawing 265 households\n",
      "Synthesizing geog id:\n",
      " state              37\n",
      "county            119\n",
      "tract          001921\n",
      "block group         1\n",
      "dtype: object\n",
      "Drawing 768 households\n",
      "Synthesizing geog id:\n",
      " state              37\n",
      "county            119\n",
      "tract          001922\n",
      "block group         1\n",
      "dtype: object\n"
     ]
    },
    {
     "name": "stderr",
     "output_type": "stream",
     "text": [
      "/Users/darebrawley/anaconda3/lib/python3.6/site-packages/synthpop/ipu/ipu.py:190: RuntimeWarning: divide by zero encountered in double_scalars\n",
      "  adj = constraint / float((column * weights).sum())\n"
     ]
    },
    {
     "name": "stdout",
     "output_type": "stream",
     "text": [
      "Drawing 634 households\n",
      "Synthesizing geog id:\n",
      " state              37\n",
      "county            119\n",
      "tract          001922\n",
      "block group         2\n",
      "dtype: object\n"
     ]
    },
    {
     "name": "stderr",
     "output_type": "stream",
     "text": [
      "/Users/darebrawley/anaconda3/lib/python3.6/site-packages/synthpop/ipu/ipu.py:190: RuntimeWarning: divide by zero encountered in double_scalars\n",
      "  adj = constraint / float((column * weights).sum())\n"
     ]
    },
    {
     "name": "stdout",
     "output_type": "stream",
     "text": [
      "Drawing 939 households\n",
      "Synthesizing geog id:\n",
      " state              37\n",
      "county            119\n",
      "tract          001923\n",
      "block group         1\n",
      "dtype: object\n"
     ]
    },
    {
     "name": "stderr",
     "output_type": "stream",
     "text": [
      "/Users/darebrawley/anaconda3/lib/python3.6/site-packages/synthpop/ipu/ipu.py:190: RuntimeWarning: divide by zero encountered in double_scalars\n",
      "  adj = constraint / float((column * weights).sum())\n"
     ]
    },
    {
     "name": "stdout",
     "output_type": "stream",
     "text": [
      "Drawing 933 households\n",
      "Synthesizing geog id:\n",
      " state              37\n",
      "county            119\n",
      "tract          001923\n",
      "block group         2\n",
      "dtype: object\n"
     ]
    },
    {
     "name": "stderr",
     "output_type": "stream",
     "text": [
      "/Users/darebrawley/anaconda3/lib/python3.6/site-packages/synthpop/ipu/ipu.py:190: RuntimeWarning: divide by zero encountered in double_scalars\n",
      "  adj = constraint / float((column * weights).sum())\n"
     ]
    },
    {
     "name": "stdout",
     "output_type": "stream",
     "text": [
      "Drawing 424 households\n",
      "Synthesizing geog id:\n",
      " state              37\n",
      "county            119\n",
      "tract          002002\n",
      "block group         1\n",
      "dtype: object\n"
     ]
    },
    {
     "name": "stderr",
     "output_type": "stream",
     "text": [
      "/Users/darebrawley/anaconda3/lib/python3.6/site-packages/synthpop/ipu/ipu.py:190: RuntimeWarning: divide by zero encountered in double_scalars\n",
      "  adj = constraint / float((column * weights).sum())\n"
     ]
    },
    {
     "name": "stdout",
     "output_type": "stream",
     "text": [
      "Drawing 965 households\n",
      "Synthesizing geog id:\n",
      " state              37\n",
      "county            119\n",
      "tract          002002\n",
      "block group         2\n",
      "dtype: object\n"
     ]
    },
    {
     "name": "stderr",
     "output_type": "stream",
     "text": [
      "/Users/darebrawley/anaconda3/lib/python3.6/site-packages/synthpop/ipu/ipu.py:190: RuntimeWarning: divide by zero encountered in double_scalars\n",
      "  adj = constraint / float((column * weights).sum())\n"
     ]
    },
    {
     "name": "stdout",
     "output_type": "stream",
     "text": [
      "Drawing 593 households\n",
      "Synthesizing geog id:\n",
      " state              37\n",
      "county            119\n",
      "tract          002002\n",
      "block group         3\n",
      "dtype: object\n"
     ]
    },
    {
     "name": "stderr",
     "output_type": "stream",
     "text": [
      "/Users/darebrawley/anaconda3/lib/python3.6/site-packages/synthpop/ipu/ipu.py:190: RuntimeWarning: divide by zero encountered in double_scalars\n",
      "  adj = constraint / float((column * weights).sum())\n"
     ]
    },
    {
     "name": "stdout",
     "output_type": "stream",
     "text": [
      "Drawing 531 households\n",
      "Synthesizing geog id:\n",
      " state              37\n",
      "county            119\n",
      "tract          002002\n",
      "block group         4\n",
      "dtype: object\n"
     ]
    },
    {
     "name": "stderr",
     "output_type": "stream",
     "text": [
      "/Users/darebrawley/anaconda3/lib/python3.6/site-packages/synthpop/ipu/ipu.py:190: RuntimeWarning: divide by zero encountered in double_scalars\n",
      "  adj = constraint / float((column * weights).sum())\n"
     ]
    },
    {
     "name": "stdout",
     "output_type": "stream",
     "text": [
      "Drawing 581 households\n",
      "Synthesizing geog id:\n",
      " state              37\n",
      "county            119\n",
      "tract          002003\n",
      "block group         1\n",
      "dtype: object\n"
     ]
    },
    {
     "name": "stderr",
     "output_type": "stream",
     "text": [
      "/Users/darebrawley/anaconda3/lib/python3.6/site-packages/synthpop/ipu/ipu.py:190: RuntimeWarning: divide by zero encountered in double_scalars\n",
      "  adj = constraint / float((column * weights).sum())\n"
     ]
    },
    {
     "name": "stdout",
     "output_type": "stream",
     "text": [
      "Drawing 587 households\n",
      "Synthesizing geog id:\n",
      " state              37\n",
      "county            119\n",
      "tract          002003\n",
      "block group         2\n",
      "dtype: object\n"
     ]
    },
    {
     "name": "stderr",
     "output_type": "stream",
     "text": [
      "/Users/darebrawley/anaconda3/lib/python3.6/site-packages/synthpop/ipu/ipu.py:190: RuntimeWarning: divide by zero encountered in double_scalars\n",
      "  adj = constraint / float((column * weights).sum())\n"
     ]
    },
    {
     "name": "stdout",
     "output_type": "stream",
     "text": [
      "Drawing 394 households\n",
      "Synthesizing geog id:\n",
      " state              37\n",
      "county            119\n",
      "tract          002003\n",
      "block group         3\n",
      "dtype: object\n"
     ]
    },
    {
     "name": "stderr",
     "output_type": "stream",
     "text": [
      "/Users/darebrawley/anaconda3/lib/python3.6/site-packages/synthpop/ipu/ipu.py:190: RuntimeWarning: divide by zero encountered in double_scalars\n",
      "  adj = constraint / float((column * weights).sum())\n"
     ]
    },
    {
     "name": "stdout",
     "output_type": "stream",
     "text": [
      "Drawing 394 households\n",
      "Synthesizing geog id:\n",
      " state              37\n",
      "county            119\n",
      "tract          002003\n",
      "block group         4\n",
      "dtype: object\n"
     ]
    },
    {
     "name": "stderr",
     "output_type": "stream",
     "text": [
      "/Users/darebrawley/anaconda3/lib/python3.6/site-packages/synthpop/ipu/ipu.py:190: RuntimeWarning: divide by zero encountered in double_scalars\n",
      "  adj = constraint / float((column * weights).sum())\n"
     ]
    },
    {
     "name": "stdout",
     "output_type": "stream",
     "text": [
      "Drawing 334 households\n",
      "Synthesizing geog id:\n",
      " state              37\n",
      "county            119\n",
      "tract          002003\n",
      "block group         5\n",
      "dtype: object\n"
     ]
    },
    {
     "name": "stderr",
     "output_type": "stream",
     "text": [
      "/Users/darebrawley/anaconda3/lib/python3.6/site-packages/synthpop/ipu/ipu.py:190: RuntimeWarning: divide by zero encountered in double_scalars\n",
      "  adj = constraint / float((column * weights).sum())\n"
     ]
    },
    {
     "name": "stdout",
     "output_type": "stream",
     "text": [
      "Drawing 726 households\n",
      "Synthesizing geog id:\n",
      " state              37\n",
      "county            119\n",
      "tract          002004\n",
      "block group         1\n",
      "dtype: object\n"
     ]
    },
    {
     "name": "stderr",
     "output_type": "stream",
     "text": [
      "/Users/darebrawley/anaconda3/lib/python3.6/site-packages/synthpop/ipu/ipu.py:190: RuntimeWarning: divide by zero encountered in double_scalars\n",
      "  adj = constraint / float((column * weights).sum())\n"
     ]
    },
    {
     "name": "stdout",
     "output_type": "stream",
     "text": [
      "Drawing 652 households\n",
      "Synthesizing geog id:\n",
      " state              37\n",
      "county            119\n",
      "tract          002004\n",
      "block group         2\n",
      "dtype: object\n"
     ]
    },
    {
     "name": "stderr",
     "output_type": "stream",
     "text": [
      "/Users/darebrawley/anaconda3/lib/python3.6/site-packages/synthpop/ipu/ipu.py:190: RuntimeWarning: divide by zero encountered in double_scalars\n",
      "  adj = constraint / float((column * weights).sum())\n"
     ]
    },
    {
     "name": "stdout",
     "output_type": "stream",
     "text": [
      "Drawing 543 households\n",
      "Synthesizing geog id:\n",
      " state              37\n",
      "county            119\n",
      "tract          002004\n",
      "block group         3\n",
      "dtype: object\n"
     ]
    },
    {
     "name": "stderr",
     "output_type": "stream",
     "text": [
      "/Users/darebrawley/anaconda3/lib/python3.6/site-packages/synthpop/ipu/ipu.py:190: RuntimeWarning: divide by zero encountered in double_scalars\n",
      "  adj = constraint / float((column * weights).sum())\n"
     ]
    },
    {
     "name": "stdout",
     "output_type": "stream",
     "text": [
      "Drawing 958 households\n",
      "Synthesizing geog id:\n",
      " state              37\n",
      "county            119\n",
      "tract          002100\n",
      "block group         1\n",
      "dtype: object\n"
     ]
    },
    {
     "name": "stderr",
     "output_type": "stream",
     "text": [
      "/Users/darebrawley/anaconda3/lib/python3.6/site-packages/synthpop/ipu/ipu.py:190: RuntimeWarning: divide by zero encountered in double_scalars\n",
      "  adj = constraint / float((column * weights).sum())\n"
     ]
    },
    {
     "name": "stdout",
     "output_type": "stream",
     "text": [
      "Drawing 337 households\n",
      "Synthesizing geog id:\n",
      " state              37\n",
      "county            119\n",
      "tract          002100\n",
      "block group         2\n",
      "dtype: object\n"
     ]
    },
    {
     "name": "stderr",
     "output_type": "stream",
     "text": [
      "/Users/darebrawley/anaconda3/lib/python3.6/site-packages/synthpop/ipu/ipu.py:190: RuntimeWarning: divide by zero encountered in double_scalars\n",
      "  adj = constraint / float((column * weights).sum())\n"
     ]
    },
    {
     "name": "stdout",
     "output_type": "stream",
     "text": [
      "Drawing 1017 households\n",
      "Synthesizing geog id:\n",
      " state              37\n",
      "county            119\n",
      "tract          002200\n",
      "block group         1\n",
      "dtype: object\n"
     ]
    },
    {
     "name": "stderr",
     "output_type": "stream",
     "text": [
      "/Users/darebrawley/anaconda3/lib/python3.6/site-packages/synthpop/ipu/ipu.py:190: RuntimeWarning: divide by zero encountered in double_scalars\n",
      "  adj = constraint / float((column * weights).sum())\n"
     ]
    },
    {
     "name": "stdout",
     "output_type": "stream",
     "text": [
      "Drawing 590 households\n",
      "Synthesizing geog id:\n",
      " state              37\n",
      "county            119\n",
      "tract          002200\n",
      "block group         2\n",
      "dtype: object\n"
     ]
    },
    {
     "name": "stderr",
     "output_type": "stream",
     "text": [
      "/Users/darebrawley/anaconda3/lib/python3.6/site-packages/synthpop/ipu/ipu.py:190: RuntimeWarning: divide by zero encountered in double_scalars\n",
      "  adj = constraint / float((column * weights).sum())\n"
     ]
    },
    {
     "name": "stdout",
     "output_type": "stream",
     "text": [
      "Drawing 382 households\n",
      "Synthesizing geog id:\n",
      " state              37\n",
      "county            119\n",
      "tract          002200\n",
      "block group         3\n",
      "dtype: object\n"
     ]
    },
    {
     "name": "stderr",
     "output_type": "stream",
     "text": [
      "/Users/darebrawley/anaconda3/lib/python3.6/site-packages/synthpop/ipu/ipu.py:190: RuntimeWarning: divide by zero encountered in double_scalars\n",
      "  adj = constraint / float((column * weights).sum())\n"
     ]
    },
    {
     "name": "stdout",
     "output_type": "stream",
     "text": [
      "Drawing 449 households\n",
      "Synthesizing geog id:\n",
      " state              37\n",
      "county            119\n",
      "tract          002200\n",
      "block group         4\n",
      "dtype: object\n"
     ]
    },
    {
     "name": "stderr",
     "output_type": "stream",
     "text": [
      "/Users/darebrawley/anaconda3/lib/python3.6/site-packages/synthpop/ipu/ipu.py:190: RuntimeWarning: divide by zero encountered in double_scalars\n",
      "  adj = constraint / float((column * weights).sum())\n"
     ]
    },
    {
     "name": "stdout",
     "output_type": "stream",
     "text": [
      "Drawing 725 households\n",
      "Synthesizing geog id:\n",
      " state              37\n",
      "county            119\n",
      "tract          002300\n",
      "block group         1\n",
      "dtype: object\n"
     ]
    },
    {
     "name": "stderr",
     "output_type": "stream",
     "text": [
      "/Users/darebrawley/anaconda3/lib/python3.6/site-packages/synthpop/ipu/ipu.py:190: RuntimeWarning: divide by zero encountered in double_scalars\n",
      "  adj = constraint / float((column * weights).sum())\n"
     ]
    },
    {
     "name": "stdout",
     "output_type": "stream",
     "text": [
      "Drawing 206 households\n",
      "Synthesizing geog id:\n",
      " state              37\n",
      "county            119\n",
      "tract          002300\n",
      "block group         2\n",
      "dtype: object\n"
     ]
    },
    {
     "name": "stderr",
     "output_type": "stream",
     "text": [
      "/Users/darebrawley/anaconda3/lib/python3.6/site-packages/synthpop/ipu/ipu.py:190: RuntimeWarning: divide by zero encountered in double_scalars\n",
      "  adj = constraint / float((column * weights).sum())\n"
     ]
    },
    {
     "name": "stdout",
     "output_type": "stream",
     "text": [
      "Drawing 845 households\n",
      "Synthesizing geog id:\n",
      " state              37\n",
      "county            119\n",
      "tract          002400\n",
      "block group         1\n",
      "dtype: object\n"
     ]
    },
    {
     "name": "stderr",
     "output_type": "stream",
     "text": [
      "/Users/darebrawley/anaconda3/lib/python3.6/site-packages/synthpop/ipu/ipu.py:190: RuntimeWarning: divide by zero encountered in double_scalars\n",
      "  adj = constraint / float((column * weights).sum())\n"
     ]
    },
    {
     "name": "stdout",
     "output_type": "stream",
     "text": [
      "Drawing 676 households\n",
      "Synthesizing geog id:\n",
      " state              37\n",
      "county            119\n",
      "tract          002400\n",
      "block group         2\n",
      "dtype: object\n"
     ]
    },
    {
     "name": "stderr",
     "output_type": "stream",
     "text": [
      "/Users/darebrawley/anaconda3/lib/python3.6/site-packages/synthpop/ipu/ipu.py:190: RuntimeWarning: divide by zero encountered in double_scalars\n",
      "  adj = constraint / float((column * weights).sum())\n"
     ]
    },
    {
     "name": "stdout",
     "output_type": "stream",
     "text": [
      "Drawing 531 households\n",
      "Synthesizing geog id:\n",
      " state              37\n",
      "county            119\n",
      "tract          002400\n",
      "block group         3\n",
      "dtype: object\n"
     ]
    },
    {
     "name": "stderr",
     "output_type": "stream",
     "text": [
      "/Users/darebrawley/anaconda3/lib/python3.6/site-packages/synthpop/ipu/ipu.py:190: RuntimeWarning: divide by zero encountered in double_scalars\n",
      "  adj = constraint / float((column * weights).sum())\n"
     ]
    },
    {
     "name": "stdout",
     "output_type": "stream",
     "text": [
      "Drawing 248 households\n",
      "Synthesizing geog id:\n",
      " state              37\n",
      "county            119\n",
      "tract          002500\n",
      "block group         1\n",
      "dtype: object\n"
     ]
    },
    {
     "name": "stderr",
     "output_type": "stream",
     "text": [
      "/Users/darebrawley/anaconda3/lib/python3.6/site-packages/synthpop/ipu/ipu.py:190: RuntimeWarning: divide by zero encountered in double_scalars\n",
      "  adj = constraint / float((column * weights).sum())\n"
     ]
    },
    {
     "name": "stdout",
     "output_type": "stream",
     "text": [
      "Drawing 691 households\n",
      "Synthesizing geog id:\n",
      " state              37\n",
      "county            119\n",
      "tract          002500\n",
      "block group         2\n",
      "dtype: object\n"
     ]
    },
    {
     "name": "stderr",
     "output_type": "stream",
     "text": [
      "/Users/darebrawley/anaconda3/lib/python3.6/site-packages/synthpop/ipu/ipu.py:190: RuntimeWarning: divide by zero encountered in double_scalars\n",
      "  adj = constraint / float((column * weights).sum())\n"
     ]
    },
    {
     "name": "stdout",
     "output_type": "stream",
     "text": [
      "Drawing 333 households\n",
      "Synthesizing geog id:\n",
      " state              37\n",
      "county            119\n",
      "tract          002600\n",
      "block group         1\n",
      "dtype: object\n",
      "Drawing 463 households\n",
      "Synthesizing geog id:\n",
      " state              37\n",
      "county            119\n",
      "tract          002701\n",
      "block group         1\n",
      "dtype: object\n"
     ]
    },
    {
     "name": "stderr",
     "output_type": "stream",
     "text": [
      "/Users/darebrawley/anaconda3/lib/python3.6/site-packages/synthpop/ipu/ipu.py:190: RuntimeWarning: divide by zero encountered in double_scalars\n",
      "  adj = constraint / float((column * weights).sum())\n"
     ]
    },
    {
     "name": "stdout",
     "output_type": "stream",
     "text": [
      "Drawing 338 households\n",
      "Synthesizing geog id:\n",
      " state              37\n",
      "county            119\n",
      "tract          002701\n",
      "block group         2\n",
      "dtype: object\n"
     ]
    },
    {
     "name": "stderr",
     "output_type": "stream",
     "text": [
      "/Users/darebrawley/anaconda3/lib/python3.6/site-packages/synthpop/ipu/ipu.py:190: RuntimeWarning: divide by zero encountered in double_scalars\n",
      "  adj = constraint / float((column * weights).sum())\n"
     ]
    },
    {
     "name": "stdout",
     "output_type": "stream",
     "text": [
      "Drawing 519 households\n",
      "Synthesizing geog id:\n",
      " state              37\n",
      "county            119\n",
      "tract          002701\n",
      "block group         3\n",
      "dtype: object\n"
     ]
    },
    {
     "name": "stderr",
     "output_type": "stream",
     "text": [
      "/Users/darebrawley/anaconda3/lib/python3.6/site-packages/synthpop/ipu/ipu.py:190: RuntimeWarning: divide by zero encountered in double_scalars\n",
      "  adj = constraint / float((column * weights).sum())\n"
     ]
    },
    {
     "name": "stdout",
     "output_type": "stream",
     "text": [
      "Drawing 174 households\n",
      "Synthesizing geog id:\n",
      " state              37\n",
      "county            119\n",
      "tract          002702\n",
      "block group         1\n",
      "dtype: object\n"
     ]
    },
    {
     "name": "stderr",
     "output_type": "stream",
     "text": [
      "/Users/darebrawley/anaconda3/lib/python3.6/site-packages/synthpop/ipu/ipu.py:190: RuntimeWarning: divide by zero encountered in double_scalars\n",
      "  adj = constraint / float((column * weights).sum())\n"
     ]
    },
    {
     "name": "stdout",
     "output_type": "stream",
     "text": [
      "Drawing 795 households\n",
      "Synthesizing geog id:\n",
      " state              37\n",
      "county            119\n",
      "tract          002702\n",
      "block group         2\n",
      "dtype: object\n"
     ]
    },
    {
     "name": "stderr",
     "output_type": "stream",
     "text": [
      "/Users/darebrawley/anaconda3/lib/python3.6/site-packages/synthpop/ipu/ipu.py:190: RuntimeWarning: divide by zero encountered in double_scalars\n",
      "  adj = constraint / float((column * weights).sum())\n"
     ]
    },
    {
     "name": "stdout",
     "output_type": "stream",
     "text": [
      "Drawing 927 households\n",
      "Synthesizing geog id:\n",
      " state              37\n",
      "county            119\n",
      "tract          002702\n",
      "block group         3\n",
      "dtype: object\n"
     ]
    },
    {
     "name": "stderr",
     "output_type": "stream",
     "text": [
      "/Users/darebrawley/anaconda3/lib/python3.6/site-packages/synthpop/ipu/ipu.py:190: RuntimeWarning: divide by zero encountered in double_scalars\n",
      "  adj = constraint / float((column * weights).sum())\n"
     ]
    },
    {
     "name": "stdout",
     "output_type": "stream",
     "text": [
      "Drawing 460 households\n",
      "Synthesizing geog id:\n",
      " state              37\n",
      "county            119\n",
      "tract          002800\n",
      "block group         1\n",
      "dtype: object\n"
     ]
    },
    {
     "name": "stderr",
     "output_type": "stream",
     "text": [
      "/Users/darebrawley/anaconda3/lib/python3.6/site-packages/synthpop/ipu/ipu.py:190: RuntimeWarning: divide by zero encountered in double_scalars\n",
      "  adj = constraint / float((column * weights).sum())\n"
     ]
    },
    {
     "name": "stdout",
     "output_type": "stream",
     "text": [
      "Drawing 279 households\n",
      "Synthesizing geog id:\n",
      " state              37\n",
      "county            119\n",
      "tract          002800\n",
      "block group         2\n",
      "dtype: object\n"
     ]
    },
    {
     "name": "stderr",
     "output_type": "stream",
     "text": [
      "/Users/darebrawley/anaconda3/lib/python3.6/site-packages/synthpop/ipu/ipu.py:190: RuntimeWarning: divide by zero encountered in double_scalars\n",
      "  adj = constraint / float((column * weights).sum())\n"
     ]
    },
    {
     "name": "stdout",
     "output_type": "stream",
     "text": [
      "Drawing 371 households\n",
      "Synthesizing geog id:\n",
      " state              37\n",
      "county            119\n",
      "tract          002800\n",
      "block group         3\n",
      "dtype: object\n"
     ]
    },
    {
     "name": "stderr",
     "output_type": "stream",
     "text": [
      "/Users/darebrawley/anaconda3/lib/python3.6/site-packages/synthpop/ipu/ipu.py:190: RuntimeWarning: divide by zero encountered in double_scalars\n",
      "  adj = constraint / float((column * weights).sum())\n"
     ]
    },
    {
     "name": "stdout",
     "output_type": "stream",
     "text": [
      "Drawing 727 households\n",
      "Synthesizing geog id:\n",
      " state              37\n",
      "county            119\n",
      "tract          002903\n",
      "block group         1\n",
      "dtype: object\n"
     ]
    },
    {
     "name": "stderr",
     "output_type": "stream",
     "text": [
      "/Users/darebrawley/anaconda3/lib/python3.6/site-packages/synthpop/ipu/ipu.py:190: RuntimeWarning: divide by zero encountered in double_scalars\n",
      "  adj = constraint / float((column * weights).sum())\n"
     ]
    },
    {
     "name": "stdout",
     "output_type": "stream",
     "text": [
      "Drawing 385 households\n",
      "Synthesizing geog id:\n",
      " state              37\n",
      "county            119\n",
      "tract          002903\n",
      "block group         2\n",
      "dtype: object\n"
     ]
    },
    {
     "name": "stderr",
     "output_type": "stream",
     "text": [
      "/Users/darebrawley/anaconda3/lib/python3.6/site-packages/synthpop/ipu/ipu.py:190: RuntimeWarning: divide by zero encountered in double_scalars\n",
      "  adj = constraint / float((column * weights).sum())\n"
     ]
    },
    {
     "name": "stdout",
     "output_type": "stream",
     "text": [
      "Drawing 409 households\n",
      "Synthesizing geog id:\n",
      " state              37\n",
      "county            119\n",
      "tract          002903\n",
      "block group         3\n",
      "dtype: object\n"
     ]
    },
    {
     "name": "stderr",
     "output_type": "stream",
     "text": [
      "/Users/darebrawley/anaconda3/lib/python3.6/site-packages/synthpop/ipu/ipu.py:190: RuntimeWarning: divide by zero encountered in double_scalars\n",
      "  adj = constraint / float((column * weights).sum())\n"
     ]
    },
    {
     "name": "stdout",
     "output_type": "stream",
     "text": [
      "Drawing 1074 households\n",
      "Synthesizing geog id:\n",
      " state              37\n",
      "county            119\n",
      "tract          002904\n",
      "block group         1\n",
      "dtype: object\n"
     ]
    },
    {
     "name": "stderr",
     "output_type": "stream",
     "text": [
      "/Users/darebrawley/anaconda3/lib/python3.6/site-packages/synthpop/ipu/ipu.py:190: RuntimeWarning: divide by zero encountered in double_scalars\n",
      "  adj = constraint / float((column * weights).sum())\n"
     ]
    },
    {
     "name": "stdout",
     "output_type": "stream",
     "text": [
      "Drawing 536 households\n",
      "Synthesizing geog id:\n",
      " state              37\n",
      "county            119\n",
      "tract          002904\n",
      "block group         2\n",
      "dtype: object\n"
     ]
    },
    {
     "name": "stderr",
     "output_type": "stream",
     "text": [
      "/Users/darebrawley/anaconda3/lib/python3.6/site-packages/synthpop/ipu/ipu.py:190: RuntimeWarning: divide by zero encountered in double_scalars\n",
      "  adj = constraint / float((column * weights).sum())\n"
     ]
    },
    {
     "name": "stdout",
     "output_type": "stream",
     "text": [
      "Drawing 594 households\n",
      "Synthesizing geog id:\n",
      " state              37\n",
      "county            119\n",
      "tract          002904\n",
      "block group         3\n",
      "dtype: object\n"
     ]
    },
    {
     "name": "stderr",
     "output_type": "stream",
     "text": [
      "/Users/darebrawley/anaconda3/lib/python3.6/site-packages/synthpop/ipu/ipu.py:190: RuntimeWarning: divide by zero encountered in double_scalars\n",
      "  adj = constraint / float((column * weights).sum())\n"
     ]
    },
    {
     "name": "stdout",
     "output_type": "stream",
     "text": [
      "Drawing 748 households\n",
      "Synthesizing geog id:\n",
      " state              37\n",
      "county            119\n",
      "tract          002904\n",
      "block group         4\n",
      "dtype: object\n"
     ]
    },
    {
     "name": "stderr",
     "output_type": "stream",
     "text": [
      "/Users/darebrawley/anaconda3/lib/python3.6/site-packages/synthpop/ipu/ipu.py:190: RuntimeWarning: divide by zero encountered in double_scalars\n",
      "  adj = constraint / float((column * weights).sum())\n"
     ]
    },
    {
     "name": "stdout",
     "output_type": "stream",
     "text": [
      "Drawing 291 households\n",
      "Synthesizing geog id:\n",
      " state              37\n",
      "county            119\n",
      "tract          002904\n",
      "block group         5\n",
      "dtype: object\n"
     ]
    },
    {
     "name": "stderr",
     "output_type": "stream",
     "text": [
      "/Users/darebrawley/anaconda3/lib/python3.6/site-packages/synthpop/ipu/ipu.py:190: RuntimeWarning: divide by zero encountered in double_scalars\n",
      "  adj = constraint / float((column * weights).sum())\n"
     ]
    },
    {
     "name": "stdout",
     "output_type": "stream",
     "text": [
      "Drawing 499 households\n",
      "Synthesizing geog id:\n",
      " state              37\n",
      "county            119\n",
      "tract          002905\n",
      "block group         1\n",
      "dtype: object\n"
     ]
    },
    {
     "name": "stderr",
     "output_type": "stream",
     "text": [
      "/Users/darebrawley/anaconda3/lib/python3.6/site-packages/synthpop/ipu/ipu.py:190: RuntimeWarning: divide by zero encountered in double_scalars\n",
      "  adj = constraint / float((column * weights).sum())\n"
     ]
    },
    {
     "name": "stdout",
     "output_type": "stream",
     "text": [
      "Drawing 705 households\n",
      "Synthesizing geog id:\n",
      " state              37\n",
      "county            119\n",
      "tract          002905\n",
      "block group         2\n",
      "dtype: object\n"
     ]
    },
    {
     "name": "stderr",
     "output_type": "stream",
     "text": [
      "/Users/darebrawley/anaconda3/lib/python3.6/site-packages/synthpop/ipu/ipu.py:190: RuntimeWarning: divide by zero encountered in double_scalars\n",
      "  adj = constraint / float((column * weights).sum())\n"
     ]
    },
    {
     "name": "stdout",
     "output_type": "stream",
     "text": [
      "Drawing 576 households\n",
      "Synthesizing geog id:\n",
      " state              37\n",
      "county            119\n",
      "tract          002906\n",
      "block group         1\n",
      "dtype: object\n"
     ]
    },
    {
     "name": "stderr",
     "output_type": "stream",
     "text": [
      "/Users/darebrawley/anaconda3/lib/python3.6/site-packages/synthpop/ipu/ipu.py:190: RuntimeWarning: divide by zero encountered in double_scalars\n",
      "  adj = constraint / float((column * weights).sum())\n"
     ]
    },
    {
     "name": "stdout",
     "output_type": "stream",
     "text": [
      "Drawing 556 households\n",
      "Synthesizing geog id:\n",
      " state              37\n",
      "county            119\n",
      "tract          002906\n",
      "block group         2\n",
      "dtype: object\n"
     ]
    },
    {
     "name": "stderr",
     "output_type": "stream",
     "text": [
      "/Users/darebrawley/anaconda3/lib/python3.6/site-packages/synthpop/ipu/ipu.py:190: RuntimeWarning: divide by zero encountered in double_scalars\n",
      "  adj = constraint / float((column * weights).sum())\n"
     ]
    },
    {
     "name": "stdout",
     "output_type": "stream",
     "text": [
      "Drawing 679 households\n",
      "Synthesizing geog id:\n",
      " state              37\n",
      "county            119\n",
      "tract          002906\n",
      "block group         3\n",
      "dtype: object\n"
     ]
    },
    {
     "name": "stderr",
     "output_type": "stream",
     "text": [
      "/Users/darebrawley/anaconda3/lib/python3.6/site-packages/synthpop/ipu/ipu.py:190: RuntimeWarning: divide by zero encountered in double_scalars\n",
      "  adj = constraint / float((column * weights).sum())\n"
     ]
    },
    {
     "name": "stdout",
     "output_type": "stream",
     "text": [
      "Drawing 758 households\n",
      "Synthesizing geog id:\n",
      " state              37\n",
      "county            119\n",
      "tract          003006\n",
      "block group         1\n",
      "dtype: object\n"
     ]
    },
    {
     "name": "stderr",
     "output_type": "stream",
     "text": [
      "/Users/darebrawley/anaconda3/lib/python3.6/site-packages/synthpop/ipu/ipu.py:190: RuntimeWarning: divide by zero encountered in double_scalars\n",
      "  adj = constraint / float((column * weights).sum())\n"
     ]
    },
    {
     "name": "stdout",
     "output_type": "stream",
     "text": [
      "Drawing 638 households\n",
      "Synthesizing geog id:\n",
      " state              37\n",
      "county            119\n",
      "tract          003006\n",
      "block group         2\n",
      "dtype: object\n",
      "Drawing 1272 households\n",
      "Synthesizing geog id:\n",
      " state              37\n",
      "county            119\n",
      "tract          003007\n",
      "block group         1\n",
      "dtype: object\n"
     ]
    },
    {
     "name": "stderr",
     "output_type": "stream",
     "text": [
      "/Users/darebrawley/anaconda3/lib/python3.6/site-packages/synthpop/ipu/ipu.py:190: RuntimeWarning: divide by zero encountered in double_scalars\n",
      "  adj = constraint / float((column * weights).sum())\n"
     ]
    },
    {
     "name": "stdout",
     "output_type": "stream",
     "text": [
      "Drawing 252 households\n",
      "Synthesizing geog id:\n",
      " state              37\n",
      "county            119\n",
      "tract          003007\n",
      "block group         2\n",
      "dtype: object\n"
     ]
    },
    {
     "name": "stderr",
     "output_type": "stream",
     "text": [
      "/Users/darebrawley/anaconda3/lib/python3.6/site-packages/synthpop/ipu/ipu.py:190: RuntimeWarning: divide by zero encountered in double_scalars\n",
      "  adj = constraint / float((column * weights).sum())\n"
     ]
    },
    {
     "name": "stdout",
     "output_type": "stream",
     "text": [
      "Drawing 826 households\n",
      "Synthesizing geog id:\n",
      " state              37\n",
      "county            119\n",
      "tract          003007\n",
      "block group         3\n",
      "dtype: object\n"
     ]
    },
    {
     "name": "stderr",
     "output_type": "stream",
     "text": [
      "/Users/darebrawley/anaconda3/lib/python3.6/site-packages/synthpop/ipu/ipu.py:190: RuntimeWarning: divide by zero encountered in double_scalars\n",
      "  adj = constraint / float((column * weights).sum())\n"
     ]
    },
    {
     "name": "stdout",
     "output_type": "stream",
     "text": [
      "Drawing 598 households\n",
      "Synthesizing geog id:\n",
      " state              37\n",
      "county            119\n",
      "tract          003007\n",
      "block group         4\n",
      "dtype: object\n"
     ]
    },
    {
     "name": "stderr",
     "output_type": "stream",
     "text": [
      "/Users/darebrawley/anaconda3/lib/python3.6/site-packages/synthpop/ipu/ipu.py:190: RuntimeWarning: divide by zero encountered in double_scalars\n",
      "  adj = constraint / float((column * weights).sum())\n"
     ]
    },
    {
     "name": "stdout",
     "output_type": "stream",
     "text": [
      "Drawing 723 households\n",
      "Synthesizing geog id:\n",
      " state              37\n",
      "county            119\n",
      "tract          003007\n",
      "block group         5\n",
      "dtype: object\n"
     ]
    },
    {
     "name": "stderr",
     "output_type": "stream",
     "text": [
      "/Users/darebrawley/anaconda3/lib/python3.6/site-packages/synthpop/ipu/ipu.py:190: RuntimeWarning: divide by zero encountered in double_scalars\n",
      "  adj = constraint / float((column * weights).sum())\n"
     ]
    },
    {
     "name": "stdout",
     "output_type": "stream",
     "text": [
      "Drawing 215 households\n",
      "Synthesizing geog id:\n",
      " state              37\n",
      "county            119\n",
      "tract          003008\n",
      "block group         1\n",
      "dtype: object\n"
     ]
    },
    {
     "name": "stderr",
     "output_type": "stream",
     "text": [
      "/Users/darebrawley/anaconda3/lib/python3.6/site-packages/synthpop/ipu/ipu.py:190: RuntimeWarning: divide by zero encountered in double_scalars\n",
      "  adj = constraint / float((column * weights).sum())\n"
     ]
    },
    {
     "name": "stdout",
     "output_type": "stream",
     "text": [
      "Drawing 803 households\n",
      "Synthesizing geog id:\n",
      " state              37\n",
      "county            119\n",
      "tract          003008\n",
      "block group         2\n",
      "dtype: object\n"
     ]
    },
    {
     "name": "stderr",
     "output_type": "stream",
     "text": [
      "/Users/darebrawley/anaconda3/lib/python3.6/site-packages/synthpop/ipu/ipu.py:190: RuntimeWarning: divide by zero encountered in double_scalars\n",
      "  adj = constraint / float((column * weights).sum())\n"
     ]
    },
    {
     "name": "stdout",
     "output_type": "stream",
     "text": [
      "Drawing 853 households\n",
      "Synthesizing geog id:\n",
      " state              37\n",
      "county            119\n",
      "tract          003008\n",
      "block group         3\n",
      "dtype: object\n"
     ]
    },
    {
     "name": "stderr",
     "output_type": "stream",
     "text": [
      "/Users/darebrawley/anaconda3/lib/python3.6/site-packages/synthpop/ipu/ipu.py:190: RuntimeWarning: divide by zero encountered in double_scalars\n",
      "  adj = constraint / float((column * weights).sum())\n"
     ]
    },
    {
     "name": "stdout",
     "output_type": "stream",
     "text": [
      "Drawing 774 households\n",
      "Synthesizing geog id:\n",
      " state              37\n",
      "county            119\n",
      "tract          003011\n",
      "block group         1\n",
      "dtype: object\n"
     ]
    },
    {
     "name": "stderr",
     "output_type": "stream",
     "text": [
      "/Users/darebrawley/anaconda3/lib/python3.6/site-packages/synthpop/ipu/ipu.py:190: RuntimeWarning: divide by zero encountered in double_scalars\n",
      "  adj = constraint / float((column * weights).sum())\n"
     ]
    },
    {
     "name": "stdout",
     "output_type": "stream",
     "text": [
      "Drawing 778 households\n",
      "Synthesizing geog id:\n",
      " state              37\n",
      "county            119\n",
      "tract          003011\n",
      "block group         2\n",
      "dtype: object\n"
     ]
    },
    {
     "name": "stderr",
     "output_type": "stream",
     "text": [
      "/Users/darebrawley/anaconda3/lib/python3.6/site-packages/synthpop/ipu/ipu.py:190: RuntimeWarning: divide by zero encountered in double_scalars\n",
      "  adj = constraint / float((column * weights).sum())\n"
     ]
    },
    {
     "name": "stdout",
     "output_type": "stream",
     "text": [
      "Drawing 218 households\n",
      "Synthesizing geog id:\n",
      " state              37\n",
      "county            119\n",
      "tract          003011\n",
      "block group         3\n",
      "dtype: object\n"
     ]
    },
    {
     "name": "stderr",
     "output_type": "stream",
     "text": [
      "/Users/darebrawley/anaconda3/lib/python3.6/site-packages/synthpop/ipu/ipu.py:190: RuntimeWarning: divide by zero encountered in double_scalars\n",
      "  adj = constraint / float((column * weights).sum())\n"
     ]
    },
    {
     "name": "stdout",
     "output_type": "stream",
     "text": [
      "Drawing 758 households\n",
      "Synthesizing geog id:\n",
      " state              37\n",
      "county            119\n",
      "tract          003011\n",
      "block group         4\n",
      "dtype: object\n"
     ]
    },
    {
     "name": "stderr",
     "output_type": "stream",
     "text": [
      "/Users/darebrawley/anaconda3/lib/python3.6/site-packages/synthpop/ipu/ipu.py:190: RuntimeWarning: divide by zero encountered in double_scalars\n",
      "  adj = constraint / float((column * weights).sum())\n"
     ]
    },
    {
     "name": "stdout",
     "output_type": "stream",
     "text": [
      "Drawing 454 households\n",
      "Synthesizing geog id:\n",
      " state              37\n",
      "county            119\n",
      "tract          003011\n",
      "block group         5\n",
      "dtype: object\n"
     ]
    },
    {
     "name": "stderr",
     "output_type": "stream",
     "text": [
      "/Users/darebrawley/anaconda3/lib/python3.6/site-packages/synthpop/ipu/ipu.py:190: RuntimeWarning: divide by zero encountered in double_scalars\n",
      "  adj = constraint / float((column * weights).sum())\n"
     ]
    },
    {
     "name": "stdout",
     "output_type": "stream",
     "text": [
      "Drawing 623 households\n",
      "Synthesizing geog id:\n",
      " state              37\n",
      "county            119\n",
      "tract          003012\n",
      "block group         1\n",
      "dtype: object\n"
     ]
    },
    {
     "name": "stderr",
     "output_type": "stream",
     "text": [
      "/Users/darebrawley/anaconda3/lib/python3.6/site-packages/synthpop/ipu/ipu.py:190: RuntimeWarning: divide by zero encountered in double_scalars\n",
      "  adj = constraint / float((column * weights).sum())\n"
     ]
    },
    {
     "name": "stdout",
     "output_type": "stream",
     "text": [
      "Drawing 570 households\n",
      "Synthesizing geog id:\n",
      " state              37\n",
      "county            119\n",
      "tract          003012\n",
      "block group         2\n",
      "dtype: object\n",
      "Drawing 1243 households\n",
      "Synthesizing geog id:\n",
      " state              37\n",
      "county            119\n",
      "tract          003013\n",
      "block group         1\n",
      "dtype: object\n"
     ]
    },
    {
     "name": "stderr",
     "output_type": "stream",
     "text": [
      "/Users/darebrawley/anaconda3/lib/python3.6/site-packages/synthpop/ipu/ipu.py:190: RuntimeWarning: divide by zero encountered in double_scalars\n",
      "  adj = constraint / float((column * weights).sum())\n"
     ]
    },
    {
     "name": "stdout",
     "output_type": "stream",
     "text": [
      "Drawing 1111 households\n",
      "Synthesizing geog id:\n",
      " state              37\n",
      "county            119\n",
      "tract          003013\n",
      "block group         2\n",
      "dtype: object\n"
     ]
    },
    {
     "name": "stderr",
     "output_type": "stream",
     "text": [
      "/Users/darebrawley/anaconda3/lib/python3.6/site-packages/synthpop/ipu/ipu.py:190: RuntimeWarning: divide by zero encountered in double_scalars\n",
      "  adj = constraint / float((column * weights).sum())\n"
     ]
    },
    {
     "name": "stdout",
     "output_type": "stream",
     "text": [
      "Drawing 992 households\n",
      "Synthesizing geog id:\n",
      " state              37\n",
      "county            119\n",
      "tract          003015\n",
      "block group         1\n",
      "dtype: object\n"
     ]
    },
    {
     "name": "stderr",
     "output_type": "stream",
     "text": [
      "/Users/darebrawley/anaconda3/lib/python3.6/site-packages/synthpop/ipu/ipu.py:190: RuntimeWarning: divide by zero encountered in double_scalars\n",
      "  adj = constraint / float((column * weights).sum())\n"
     ]
    },
    {
     "name": "stdout",
     "output_type": "stream",
     "text": [
      "Drawing 710 households\n",
      "Synthesizing geog id:\n",
      " state              37\n",
      "county            119\n",
      "tract          003015\n",
      "block group         2\n",
      "dtype: object\n"
     ]
    },
    {
     "name": "stderr",
     "output_type": "stream",
     "text": [
      "/Users/darebrawley/anaconda3/lib/python3.6/site-packages/synthpop/ipu/ipu.py:190: RuntimeWarning: divide by zero encountered in double_scalars\n",
      "  adj = constraint / float((column * weights).sum())\n"
     ]
    },
    {
     "name": "stdout",
     "output_type": "stream",
     "text": [
      "Drawing 643 households\n",
      "Synthesizing geog id:\n",
      " state              37\n",
      "county            119\n",
      "tract          003015\n",
      "block group         3\n",
      "dtype: object\n"
     ]
    },
    {
     "name": "stderr",
     "output_type": "stream",
     "text": [
      "/Users/darebrawley/anaconda3/lib/python3.6/site-packages/synthpop/ipu/ipu.py:190: RuntimeWarning: divide by zero encountered in double_scalars\n",
      "  adj = constraint / float((column * weights).sum())\n"
     ]
    },
    {
     "name": "stdout",
     "output_type": "stream",
     "text": [
      "Drawing 419 households\n",
      "Synthesizing geog id:\n",
      " state              37\n",
      "county            119\n",
      "tract          003016\n",
      "block group         1\n",
      "dtype: object\n"
     ]
    },
    {
     "name": "stderr",
     "output_type": "stream",
     "text": [
      "/Users/darebrawley/anaconda3/lib/python3.6/site-packages/synthpop/ipu/ipu.py:190: RuntimeWarning: divide by zero encountered in double_scalars\n",
      "  adj = constraint / float((column * weights).sum())\n"
     ]
    },
    {
     "name": "stdout",
     "output_type": "stream",
     "text": [
      "Drawing 1111 households\n",
      "Synthesizing geog id:\n",
      " state              37\n",
      "county            119\n",
      "tract          003016\n",
      "block group         2\n",
      "dtype: object\n"
     ]
    },
    {
     "name": "stderr",
     "output_type": "stream",
     "text": [
      "/Users/darebrawley/anaconda3/lib/python3.6/site-packages/synthpop/ipu/ipu.py:190: RuntimeWarning: divide by zero encountered in double_scalars\n",
      "  adj = constraint / float((column * weights).sum())\n"
     ]
    },
    {
     "name": "stdout",
     "output_type": "stream",
     "text": [
      "Drawing 320 households\n",
      "Synthesizing geog id:\n",
      " state              37\n",
      "county            119\n",
      "tract          003016\n",
      "block group         3\n",
      "dtype: object\n",
      "Drawing 532 households\n",
      "Synthesizing geog id:\n",
      " state              37\n",
      "county            119\n",
      "tract          003017\n",
      "block group         1\n",
      "dtype: object\n"
     ]
    },
    {
     "name": "stderr",
     "output_type": "stream",
     "text": [
      "/Users/darebrawley/anaconda3/lib/python3.6/site-packages/synthpop/ipu/ipu.py:190: RuntimeWarning: divide by zero encountered in double_scalars\n",
      "  adj = constraint / float((column * weights).sum())\n"
     ]
    },
    {
     "name": "stdout",
     "output_type": "stream",
     "text": [
      "Drawing 422 households\n",
      "Synthesizing geog id:\n",
      " state              37\n",
      "county            119\n",
      "tract          003017\n",
      "block group         2\n",
      "dtype: object\n"
     ]
    },
    {
     "name": "stderr",
     "output_type": "stream",
     "text": [
      "/Users/darebrawley/anaconda3/lib/python3.6/site-packages/synthpop/ipu/ipu.py:190: RuntimeWarning: divide by zero encountered in double_scalars\n",
      "  adj = constraint / float((column * weights).sum())\n"
     ]
    },
    {
     "name": "stdout",
     "output_type": "stream",
     "text": [
      "Drawing 942 households\n",
      "Synthesizing geog id:\n",
      " state              37\n",
      "county            119\n",
      "tract          003018\n",
      "block group         1\n",
      "dtype: object\n",
      "Drawing 1128 households\n",
      "Synthesizing geog id:\n",
      " state              37\n",
      "county            119\n",
      "tract          003102\n",
      "block group         1\n",
      "dtype: object\n",
      "Drawing 841 households\n",
      "Synthesizing geog id:\n",
      " state              37\n",
      "county            119\n",
      "tract          003102\n",
      "block group         2\n",
      "dtype: object\n"
     ]
    },
    {
     "name": "stderr",
     "output_type": "stream",
     "text": [
      "/Users/darebrawley/anaconda3/lib/python3.6/site-packages/synthpop/ipu/ipu.py:190: RuntimeWarning: divide by zero encountered in double_scalars\n",
      "  adj = constraint / float((column * weights).sum())\n"
     ]
    },
    {
     "name": "stdout",
     "output_type": "stream",
     "text": [
      "Drawing 550 households\n",
      "Synthesizing geog id:\n",
      " state              37\n",
      "county            119\n",
      "tract          003102\n",
      "block group         3\n",
      "dtype: object\n"
     ]
    },
    {
     "name": "stderr",
     "output_type": "stream",
     "text": [
      "/Users/darebrawley/anaconda3/lib/python3.6/site-packages/synthpop/ipu/ipu.py:190: RuntimeWarning: divide by zero encountered in double_scalars\n",
      "  adj = constraint / float((column * weights).sum())\n"
     ]
    },
    {
     "name": "stdout",
     "output_type": "stream",
     "text": [
      "Drawing 704 households\n",
      "Synthesizing geog id:\n",
      " state              37\n",
      "county            119\n",
      "tract          003103\n",
      "block group         1\n",
      "dtype: object\n",
      "Drawing 769 households\n",
      "Synthesizing geog id:\n",
      " state              37\n",
      "county            119\n",
      "tract          003103\n",
      "block group         2\n",
      "dtype: object\n"
     ]
    },
    {
     "name": "stderr",
     "output_type": "stream",
     "text": [
      "/Users/darebrawley/anaconda3/lib/python3.6/site-packages/synthpop/ipu/ipu.py:190: RuntimeWarning: divide by zero encountered in double_scalars\n",
      "  adj = constraint / float((column * weights).sum())\n"
     ]
    },
    {
     "name": "stdout",
     "output_type": "stream",
     "text": [
      "Drawing 1157 households\n",
      "Synthesizing geog id:\n",
      " state              37\n",
      "county            119\n",
      "tract          003103\n",
      "block group         3\n",
      "dtype: object\n"
     ]
    },
    {
     "name": "stderr",
     "output_type": "stream",
     "text": [
      "/Users/darebrawley/anaconda3/lib/python3.6/site-packages/synthpop/ipu/ipu.py:190: RuntimeWarning: divide by zero encountered in double_scalars\n",
      "  adj = constraint / float((column * weights).sum())\n"
     ]
    },
    {
     "name": "stdout",
     "output_type": "stream",
     "text": [
      "Drawing 241 households\n",
      "Synthesizing geog id:\n",
      " state              37\n",
      "county            119\n",
      "tract          003105\n",
      "block group         1\n",
      "dtype: object\n"
     ]
    },
    {
     "name": "stderr",
     "output_type": "stream",
     "text": [
      "/Users/darebrawley/anaconda3/lib/python3.6/site-packages/synthpop/ipu/ipu.py:190: RuntimeWarning: divide by zero encountered in double_scalars\n",
      "  adj = constraint / float((column * weights).sum())\n"
     ]
    },
    {
     "name": "stdout",
     "output_type": "stream",
     "text": [
      "Drawing 742 households\n",
      "Synthesizing geog id:\n",
      " state              37\n",
      "county            119\n",
      "tract          003105\n",
      "block group         2\n",
      "dtype: object\n"
     ]
    },
    {
     "name": "stderr",
     "output_type": "stream",
     "text": [
      "/Users/darebrawley/anaconda3/lib/python3.6/site-packages/synthpop/ipu/ipu.py:190: RuntimeWarning: divide by zero encountered in double_scalars\n",
      "  adj = constraint / float((column * weights).sum())\n"
     ]
    },
    {
     "name": "stdout",
     "output_type": "stream",
     "text": [
      "Drawing 903 households\n",
      "Synthesizing geog id:\n",
      " state              37\n",
      "county            119\n",
      "tract          003106\n",
      "block group         1\n",
      "dtype: object\n"
     ]
    },
    {
     "name": "stderr",
     "output_type": "stream",
     "text": [
      "/Users/darebrawley/anaconda3/lib/python3.6/site-packages/synthpop/ipu/ipu.py:190: RuntimeWarning: divide by zero encountered in double_scalars\n",
      "  adj = constraint / float((column * weights).sum())\n"
     ]
    },
    {
     "name": "stdout",
     "output_type": "stream",
     "text": [
      "Drawing 827 households\n",
      "Synthesizing geog id:\n",
      " state              37\n",
      "county            119\n",
      "tract          003106\n",
      "block group         2\n",
      "dtype: object\n",
      "Drawing 473 households\n",
      "Synthesizing geog id:\n",
      " state              37\n",
      "county            119\n",
      "tract          003108\n",
      "block group         1\n",
      "dtype: object\n"
     ]
    },
    {
     "name": "stderr",
     "output_type": "stream",
     "text": [
      "/Users/darebrawley/anaconda3/lib/python3.6/site-packages/synthpop/ipu/ipu.py:190: RuntimeWarning: divide by zero encountered in double_scalars\n",
      "  adj = constraint / float((column * weights).sum())\n"
     ]
    },
    {
     "name": "stdout",
     "output_type": "stream",
     "text": [
      "Drawing 685 households\n",
      "Synthesizing geog id:\n",
      " state              37\n",
      "county            119\n",
      "tract          003108\n",
      "block group         2\n",
      "dtype: object\n",
      "Drawing 781 households\n",
      "Synthesizing geog id:\n",
      " state              37\n",
      "county            119\n",
      "tract          003109\n",
      "block group         1\n",
      "dtype: object\n"
     ]
    },
    {
     "name": "stderr",
     "output_type": "stream",
     "text": [
      "/Users/darebrawley/anaconda3/lib/python3.6/site-packages/synthpop/ipu/ipu.py:190: RuntimeWarning: divide by zero encountered in double_scalars\n",
      "  adj = constraint / float((column * weights).sum())\n"
     ]
    },
    {
     "name": "stdout",
     "output_type": "stream",
     "text": [
      "Drawing 1114 households\n",
      "Synthesizing geog id:\n",
      " state              37\n",
      "county            119\n",
      "tract          003109\n",
      "block group         2\n",
      "dtype: object\n"
     ]
    },
    {
     "name": "stderr",
     "output_type": "stream",
     "text": [
      "/Users/darebrawley/anaconda3/lib/python3.6/site-packages/synthpop/ipu/ipu.py:190: RuntimeWarning: divide by zero encountered in double_scalars\n",
      "  adj = constraint / float((column * weights).sum())\n"
     ]
    },
    {
     "name": "stdout",
     "output_type": "stream",
     "text": [
      "Drawing 533 households\n",
      "Synthesizing geog id:\n",
      " state              37\n",
      "county            119\n",
      "tract          003201\n",
      "block group         1\n",
      "dtype: object\n"
     ]
    },
    {
     "name": "stderr",
     "output_type": "stream",
     "text": [
      "/Users/darebrawley/anaconda3/lib/python3.6/site-packages/synthpop/ipu/ipu.py:190: RuntimeWarning: divide by zero encountered in double_scalars\n",
      "  adj = constraint / float((column * weights).sum())\n"
     ]
    },
    {
     "name": "stdout",
     "output_type": "stream",
     "text": [
      "Drawing 427 households\n",
      "Synthesizing geog id:\n",
      " state              37\n",
      "county            119\n",
      "tract          003201\n",
      "block group         2\n",
      "dtype: object\n",
      "Drawing 611 households\n",
      "Synthesizing geog id:\n",
      " state              37\n",
      "county            119\n",
      "tract          003203\n",
      "block group         1\n",
      "dtype: object\n",
      "Drawing 967 households\n",
      "Synthesizing geog id:\n",
      " state              37\n",
      "county            119\n",
      "tract          003203\n",
      "block group         2\n",
      "dtype: object\n"
     ]
    },
    {
     "name": "stderr",
     "output_type": "stream",
     "text": [
      "/Users/darebrawley/anaconda3/lib/python3.6/site-packages/synthpop/ipu/ipu.py:190: RuntimeWarning: divide by zero encountered in double_scalars\n",
      "  adj = constraint / float((column * weights).sum())\n"
     ]
    },
    {
     "name": "stdout",
     "output_type": "stream",
     "text": [
      "Drawing 421 households\n",
      "Synthesizing geog id:\n",
      " state              37\n",
      "county            119\n",
      "tract          003204\n",
      "block group         1\n",
      "dtype: object\n"
     ]
    },
    {
     "name": "stderr",
     "output_type": "stream",
     "text": [
      "/Users/darebrawley/anaconda3/lib/python3.6/site-packages/synthpop/ipu/ipu.py:190: RuntimeWarning: divide by zero encountered in double_scalars\n",
      "  adj = constraint / float((column * weights).sum())\n"
     ]
    },
    {
     "name": "stdout",
     "output_type": "stream",
     "text": [
      "Drawing 547 households\n",
      "Synthesizing geog id:\n",
      " state              37\n",
      "county            119\n",
      "tract          003204\n",
      "block group         2\n",
      "dtype: object\n"
     ]
    },
    {
     "name": "stderr",
     "output_type": "stream",
     "text": [
      "/Users/darebrawley/anaconda3/lib/python3.6/site-packages/synthpop/ipu/ipu.py:190: RuntimeWarning: divide by zero encountered in double_scalars\n",
      "  adj = constraint / float((column * weights).sum())\n"
     ]
    },
    {
     "name": "stdout",
     "output_type": "stream",
     "text": [
      "Drawing 592 households\n",
      "Synthesizing geog id:\n",
      " state              37\n",
      "county            119\n",
      "tract          003204\n",
      "block group         3\n",
      "dtype: object\n"
     ]
    },
    {
     "name": "stderr",
     "output_type": "stream",
     "text": [
      "/Users/darebrawley/anaconda3/lib/python3.6/site-packages/synthpop/ipu/ipu.py:190: RuntimeWarning: divide by zero encountered in double_scalars\n",
      "  adj = constraint / float((column * weights).sum())\n"
     ]
    },
    {
     "name": "stdout",
     "output_type": "stream",
     "text": [
      "Drawing 475 households\n",
      "Synthesizing geog id:\n",
      " state              37\n",
      "county            119\n",
      "tract          003300\n",
      "block group         1\n",
      "dtype: object\n"
     ]
    },
    {
     "name": "stderr",
     "output_type": "stream",
     "text": [
      "/Users/darebrawley/anaconda3/lib/python3.6/site-packages/synthpop/ipu/ipu.py:190: RuntimeWarning: divide by zero encountered in double_scalars\n",
      "  adj = constraint / float((column * weights).sum())\n"
     ]
    },
    {
     "name": "stdout",
     "output_type": "stream",
     "text": [
      "Drawing 795 households\n",
      "Synthesizing geog id:\n",
      " state              37\n",
      "county            119\n",
      "tract          003300\n",
      "block group         2\n",
      "dtype: object\n"
     ]
    },
    {
     "name": "stderr",
     "output_type": "stream",
     "text": [
      "/Users/darebrawley/anaconda3/lib/python3.6/site-packages/synthpop/ipu/ipu.py:190: RuntimeWarning: divide by zero encountered in double_scalars\n",
      "  adj = constraint / float((column * weights).sum())\n"
     ]
    },
    {
     "name": "stdout",
     "output_type": "stream",
     "text": [
      "Drawing 431 households\n",
      "Synthesizing geog id:\n",
      " state              37\n",
      "county            119\n",
      "tract          003300\n",
      "block group         3\n",
      "dtype: object\n"
     ]
    },
    {
     "name": "stderr",
     "output_type": "stream",
     "text": [
      "/Users/darebrawley/anaconda3/lib/python3.6/site-packages/synthpop/ipu/ipu.py:190: RuntimeWarning: divide by zero encountered in double_scalars\n",
      "  adj = constraint / float((column * weights).sum())\n"
     ]
    },
    {
     "name": "stdout",
     "output_type": "stream",
     "text": [
      "Drawing 432 households\n",
      "Synthesizing geog id:\n",
      " state              37\n",
      "county            119\n",
      "tract          003400\n",
      "block group         1\n",
      "dtype: object\n"
     ]
    },
    {
     "name": "stderr",
     "output_type": "stream",
     "text": [
      "/Users/darebrawley/anaconda3/lib/python3.6/site-packages/synthpop/ipu/ipu.py:190: RuntimeWarning: divide by zero encountered in double_scalars\n",
      "  adj = constraint / float((column * weights).sum())\n"
     ]
    },
    {
     "name": "stdout",
     "output_type": "stream",
     "text": [
      "Drawing 687 households\n",
      "Synthesizing geog id:\n",
      " state              37\n",
      "county            119\n",
      "tract          003400\n",
      "block group         2\n",
      "dtype: object\n"
     ]
    },
    {
     "name": "stderr",
     "output_type": "stream",
     "text": [
      "/Users/darebrawley/anaconda3/lib/python3.6/site-packages/synthpop/ipu/ipu.py:190: RuntimeWarning: divide by zero encountered in double_scalars\n",
      "  adj = constraint / float((column * weights).sum())\n"
     ]
    },
    {
     "name": "stdout",
     "output_type": "stream",
     "text": [
      "Drawing 438 households\n",
      "Synthesizing geog id:\n",
      " state              37\n",
      "county            119\n",
      "tract          003400\n",
      "block group         3\n",
      "dtype: object\n"
     ]
    },
    {
     "name": "stderr",
     "output_type": "stream",
     "text": [
      "/Users/darebrawley/anaconda3/lib/python3.6/site-packages/synthpop/ipu/ipu.py:190: RuntimeWarning: divide by zero encountered in double_scalars\n",
      "  adj = constraint / float((column * weights).sum())\n"
     ]
    },
    {
     "name": "stdout",
     "output_type": "stream",
     "text": [
      "Drawing 672 households\n",
      "Synthesizing geog id:\n",
      " state              37\n",
      "county            119\n",
      "tract          003400\n",
      "block group         4\n",
      "dtype: object\n"
     ]
    },
    {
     "name": "stderr",
     "output_type": "stream",
     "text": [
      "/Users/darebrawley/anaconda3/lib/python3.6/site-packages/synthpop/ipu/ipu.py:190: RuntimeWarning: divide by zero encountered in double_scalars\n",
      "  adj = constraint / float((column * weights).sum())\n"
     ]
    },
    {
     "name": "stdout",
     "output_type": "stream",
     "text": [
      "Drawing 491 households\n",
      "Synthesizing geog id:\n",
      " state              37\n",
      "county            119\n",
      "tract          003500\n",
      "block group         1\n",
      "dtype: object\n",
      "Drawing 714 households\n",
      "Synthesizing geog id:\n",
      " state              37\n",
      "county            119\n",
      "tract          003500\n",
      "block group         2\n",
      "dtype: object\n"
     ]
    },
    {
     "name": "stderr",
     "output_type": "stream",
     "text": [
      "/Users/darebrawley/anaconda3/lib/python3.6/site-packages/synthpop/ipu/ipu.py:190: RuntimeWarning: divide by zero encountered in double_scalars\n",
      "  adj = constraint / float((column * weights).sum())\n"
     ]
    },
    {
     "name": "stdout",
     "output_type": "stream",
     "text": [
      "Drawing 524 households\n",
      "Synthesizing geog id:\n",
      " state              37\n",
      "county            119\n",
      "tract          003600\n",
      "block group         1\n",
      "dtype: object\n",
      "Drawing 352 households\n",
      "Synthesizing geog id:\n",
      " state              37\n",
      "county            119\n",
      "tract          003600\n",
      "block group         2\n",
      "dtype: object\n"
     ]
    },
    {
     "name": "stderr",
     "output_type": "stream",
     "text": [
      "/Users/darebrawley/anaconda3/lib/python3.6/site-packages/synthpop/ipu/ipu.py:190: RuntimeWarning: divide by zero encountered in double_scalars\n",
      "  adj = constraint / float((column * weights).sum())\n"
     ]
    },
    {
     "name": "stdout",
     "output_type": "stream",
     "text": [
      "Drawing 528 households\n",
      "Synthesizing geog id:\n",
      " state              37\n",
      "county            119\n",
      "tract          003600\n",
      "block group         3\n",
      "dtype: object\n"
     ]
    },
    {
     "name": "stderr",
     "output_type": "stream",
     "text": [
      "/Users/darebrawley/anaconda3/lib/python3.6/site-packages/synthpop/ipu/ipu.py:190: RuntimeWarning: divide by zero encountered in double_scalars\n",
      "  adj = constraint / float((column * weights).sum())\n"
     ]
    },
    {
     "name": "stdout",
     "output_type": "stream",
     "text": [
      "Drawing 388 households\n",
      "Synthesizing geog id:\n",
      " state              37\n",
      "county            119\n",
      "tract          003600\n",
      "block group         4\n",
      "dtype: object\n"
     ]
    },
    {
     "name": "stderr",
     "output_type": "stream",
     "text": [
      "/Users/darebrawley/anaconda3/lib/python3.6/site-packages/synthpop/ipu/ipu.py:190: RuntimeWarning: divide by zero encountered in double_scalars\n",
      "  adj = constraint / float((column * weights).sum())\n"
     ]
    },
    {
     "name": "stdout",
     "output_type": "stream",
     "text": [
      "Drawing 247 households\n",
      "Synthesizing geog id:\n",
      " state              37\n",
      "county            119\n",
      "tract          003700\n",
      "block group         1\n",
      "dtype: object\n"
     ]
    },
    {
     "name": "stderr",
     "output_type": "stream",
     "text": [
      "/Users/darebrawley/anaconda3/lib/python3.6/site-packages/synthpop/ipu/ipu.py:190: RuntimeWarning: divide by zero encountered in double_scalars\n",
      "  adj = constraint / float((column * weights).sum())\n"
     ]
    },
    {
     "name": "stdout",
     "output_type": "stream",
     "text": [
      "Drawing 1051 households\n",
      "Synthesizing geog id:\n",
      " state              37\n",
      "county            119\n",
      "tract          003700\n",
      "block group         2\n",
      "dtype: object\n"
     ]
    },
    {
     "name": "stderr",
     "output_type": "stream",
     "text": [
      "/Users/darebrawley/anaconda3/lib/python3.6/site-packages/synthpop/ipu/ipu.py:190: RuntimeWarning: divide by zero encountered in double_scalars\n",
      "  adj = constraint / float((column * weights).sum())\n"
     ]
    },
    {
     "name": "stdout",
     "output_type": "stream",
     "text": [
      "Drawing 607 households\n",
      "Synthesizing geog id:\n",
      " state              37\n",
      "county            119\n",
      "tract          003802\n",
      "block group         1\n",
      "dtype: object\n"
     ]
    },
    {
     "name": "stderr",
     "output_type": "stream",
     "text": [
      "/Users/darebrawley/anaconda3/lib/python3.6/site-packages/synthpop/ipu/ipu.py:190: RuntimeWarning: divide by zero encountered in double_scalars\n",
      "  adj = constraint / float((column * weights).sum())\n"
     ]
    },
    {
     "name": "stdout",
     "output_type": "stream",
     "text": [
      "Drawing 382 households\n",
      "Synthesizing geog id:\n",
      " state              37\n",
      "county            119\n",
      "tract          003802\n",
      "block group         2\n",
      "dtype: object\n"
     ]
    },
    {
     "name": "stderr",
     "output_type": "stream",
     "text": [
      "/Users/darebrawley/anaconda3/lib/python3.6/site-packages/synthpop/ipu/ipu.py:190: RuntimeWarning: divide by zero encountered in double_scalars\n",
      "  adj = constraint / float((column * weights).sum())\n"
     ]
    },
    {
     "name": "stdout",
     "output_type": "stream",
     "text": [
      "Drawing 821 households\n",
      "Synthesizing geog id:\n",
      " state              37\n",
      "county            119\n",
      "tract          003802\n",
      "block group         3\n",
      "dtype: object\n"
     ]
    },
    {
     "name": "stderr",
     "output_type": "stream",
     "text": [
      "/Users/darebrawley/anaconda3/lib/python3.6/site-packages/synthpop/ipu/ipu.py:190: RuntimeWarning: divide by zero encountered in double_scalars\n",
      "  adj = constraint / float((column * weights).sum())\n"
     ]
    },
    {
     "name": "stdout",
     "output_type": "stream",
     "text": [
      "Drawing 141 households\n",
      "Synthesizing geog id:\n",
      " state              37\n",
      "county            119\n",
      "tract          003805\n",
      "block group         1\n",
      "dtype: object\n"
     ]
    },
    {
     "name": "stderr",
     "output_type": "stream",
     "text": [
      "/Users/darebrawley/anaconda3/lib/python3.6/site-packages/synthpop/ipu/ipu.py:190: RuntimeWarning: divide by zero encountered in double_scalars\n",
      "  adj = constraint / float((column * weights).sum())\n"
     ]
    },
    {
     "name": "stdout",
     "output_type": "stream",
     "text": [
      "Drawing 1011 households\n",
      "Synthesizing geog id:\n",
      " state              37\n",
      "county            119\n",
      "tract          003806\n",
      "block group         1\n",
      "dtype: object\n"
     ]
    },
    {
     "name": "stderr",
     "output_type": "stream",
     "text": [
      "/Users/darebrawley/anaconda3/lib/python3.6/site-packages/synthpop/ipu/ipu.py:190: RuntimeWarning: divide by zero encountered in double_scalars\n",
      "  adj = constraint / float((column * weights).sum())\n"
     ]
    },
    {
     "name": "stdout",
     "output_type": "stream",
     "text": [
      "Drawing 1228 households\n",
      "Synthesizing geog id:\n",
      " state              37\n",
      "county            119\n",
      "tract          003806\n",
      "block group         2\n",
      "dtype: object\n"
     ]
    },
    {
     "name": "stderr",
     "output_type": "stream",
     "text": [
      "/Users/darebrawley/anaconda3/lib/python3.6/site-packages/synthpop/ipu/ipu.py:190: RuntimeWarning: divide by zero encountered in double_scalars\n",
      "  adj = constraint / float((column * weights).sum())\n"
     ]
    },
    {
     "name": "stdout",
     "output_type": "stream",
     "text": [
      "Drawing 460 households\n",
      "Synthesizing geog id:\n",
      " state              37\n",
      "county            119\n",
      "tract          003806\n",
      "block group         3\n",
      "dtype: object\n"
     ]
    },
    {
     "name": "stderr",
     "output_type": "stream",
     "text": [
      "/Users/darebrawley/anaconda3/lib/python3.6/site-packages/synthpop/ipu/ipu.py:190: RuntimeWarning: divide by zero encountered in double_scalars\n",
      "  adj = constraint / float((column * weights).sum())\n"
     ]
    },
    {
     "name": "stdout",
     "output_type": "stream",
     "text": [
      "Drawing 1076 households\n",
      "Synthesizing geog id:\n",
      " state              37\n",
      "county            119\n",
      "tract          003806\n",
      "block group         4\n",
      "dtype: object\n"
     ]
    },
    {
     "name": "stderr",
     "output_type": "stream",
     "text": [
      "/Users/darebrawley/anaconda3/lib/python3.6/site-packages/synthpop/ipu/ipu.py:190: RuntimeWarning: divide by zero encountered in double_scalars\n",
      "  adj = constraint / float((column * weights).sum())\n"
     ]
    },
    {
     "name": "stdout",
     "output_type": "stream",
     "text": [
      "Drawing 849 households\n",
      "Synthesizing geog id:\n",
      " state              37\n",
      "county            119\n",
      "tract          003807\n",
      "block group         1\n",
      "dtype: object\n"
     ]
    },
    {
     "name": "stderr",
     "output_type": "stream",
     "text": [
      "/Users/darebrawley/anaconda3/lib/python3.6/site-packages/synthpop/ipu/ipu.py:190: RuntimeWarning: divide by zero encountered in double_scalars\n",
      "  adj = constraint / float((column * weights).sum())\n"
     ]
    },
    {
     "name": "stdout",
     "output_type": "stream",
     "text": [
      "Drawing 437 households\n",
      "Synthesizing geog id:\n",
      " state              37\n",
      "county            119\n",
      "tract          003807\n",
      "block group         2\n",
      "dtype: object\n"
     ]
    },
    {
     "name": "stderr",
     "output_type": "stream",
     "text": [
      "/Users/darebrawley/anaconda3/lib/python3.6/site-packages/synthpop/ipu/ipu.py:190: RuntimeWarning: divide by zero encountered in double_scalars\n",
      "  adj = constraint / float((column * weights).sum())\n"
     ]
    },
    {
     "name": "stdout",
     "output_type": "stream",
     "text": [
      "Drawing 1073 households\n",
      "Synthesizing geog id:\n",
      " state              37\n",
      "county            119\n",
      "tract          003808\n",
      "block group         1\n",
      "dtype: object\n"
     ]
    },
    {
     "name": "stderr",
     "output_type": "stream",
     "text": [
      "/Users/darebrawley/anaconda3/lib/python3.6/site-packages/synthpop/ipu/ipu.py:190: RuntimeWarning: divide by zero encountered in double_scalars\n",
      "  adj = constraint / float((column * weights).sum())\n"
     ]
    },
    {
     "name": "stdout",
     "output_type": "stream",
     "text": [
      "Drawing 534 households\n",
      "Synthesizing geog id:\n",
      " state              37\n",
      "county            119\n",
      "tract          003808\n",
      "block group         2\n",
      "dtype: object\n"
     ]
    },
    {
     "name": "stderr",
     "output_type": "stream",
     "text": [
      "/Users/darebrawley/anaconda3/lib/python3.6/site-packages/synthpop/ipu/ipu.py:190: RuntimeWarning: divide by zero encountered in double_scalars\n",
      "  adj = constraint / float((column * weights).sum())\n"
     ]
    },
    {
     "name": "stdout",
     "output_type": "stream",
     "text": [
      "Drawing 1245 households\n",
      "Synthesizing geog id:\n",
      " state              37\n",
      "county            119\n",
      "tract          003902\n",
      "block group         1\n",
      "dtype: object\n"
     ]
    },
    {
     "name": "stderr",
     "output_type": "stream",
     "text": [
      "/Users/darebrawley/anaconda3/lib/python3.6/site-packages/synthpop/ipu/ipu.py:190: RuntimeWarning: divide by zero encountered in double_scalars\n",
      "  adj = constraint / float((column * weights).sum())\n"
     ]
    },
    {
     "name": "stdout",
     "output_type": "stream",
     "text": [
      "Drawing 506 households\n",
      "Synthesizing geog id:\n",
      " state              37\n",
      "county            119\n",
      "tract          003902\n",
      "block group         2\n",
      "dtype: object\n"
     ]
    },
    {
     "name": "stderr",
     "output_type": "stream",
     "text": [
      "/Users/darebrawley/anaconda3/lib/python3.6/site-packages/synthpop/ipu/ipu.py:190: RuntimeWarning: divide by zero encountered in double_scalars\n",
      "  adj = constraint / float((column * weights).sum())\n"
     ]
    },
    {
     "name": "stdout",
     "output_type": "stream",
     "text": [
      "Drawing 513 households\n",
      "Synthesizing geog id:\n",
      " state              37\n",
      "county            119\n",
      "tract          003902\n",
      "block group         3\n",
      "dtype: object\n"
     ]
    },
    {
     "name": "stderr",
     "output_type": "stream",
     "text": [
      "/Users/darebrawley/anaconda3/lib/python3.6/site-packages/synthpop/ipu/ipu.py:190: RuntimeWarning: divide by zero encountered in double_scalars\n",
      "  adj = constraint / float((column * weights).sum())\n"
     ]
    },
    {
     "name": "stdout",
     "output_type": "stream",
     "text": [
      "Drawing 298 households\n",
      "Synthesizing geog id:\n",
      " state              37\n",
      "county            119\n",
      "tract          003902\n",
      "block group         4\n",
      "dtype: object\n"
     ]
    },
    {
     "name": "stderr",
     "output_type": "stream",
     "text": [
      "/Users/darebrawley/anaconda3/lib/python3.6/site-packages/synthpop/ipu/ipu.py:190: RuntimeWarning: divide by zero encountered in double_scalars\n",
      "  adj = constraint / float((column * weights).sum())\n"
     ]
    },
    {
     "name": "stdout",
     "output_type": "stream",
     "text": [
      "Drawing 462 households\n",
      "Synthesizing geog id:\n",
      " state              37\n",
      "county            119\n",
      "tract          003903\n",
      "block group         1\n",
      "dtype: object\n"
     ]
    },
    {
     "name": "stderr",
     "output_type": "stream",
     "text": [
      "/Users/darebrawley/anaconda3/lib/python3.6/site-packages/synthpop/ipu/ipu.py:190: RuntimeWarning: divide by zero encountered in double_scalars\n",
      "  adj = constraint / float((column * weights).sum())\n"
     ]
    },
    {
     "name": "stdout",
     "output_type": "stream",
     "text": [
      "Drawing 283 households\n",
      "Synthesizing geog id:\n",
      " state              37\n",
      "county            119\n",
      "tract          003903\n",
      "block group         2\n",
      "dtype: object\n"
     ]
    },
    {
     "name": "stderr",
     "output_type": "stream",
     "text": [
      "/Users/darebrawley/anaconda3/lib/python3.6/site-packages/synthpop/ipu/ipu.py:190: RuntimeWarning: divide by zero encountered in double_scalars\n",
      "  adj = constraint / float((column * weights).sum())\n"
     ]
    },
    {
     "name": "stdout",
     "output_type": "stream",
     "text": [
      "Drawing 272 households\n",
      "Synthesizing geog id:\n",
      " state              37\n",
      "county            119\n",
      "tract          004000\n",
      "block group         1\n",
      "dtype: object\n"
     ]
    },
    {
     "name": "stderr",
     "output_type": "stream",
     "text": [
      "/Users/darebrawley/anaconda3/lib/python3.6/site-packages/synthpop/ipu/ipu.py:190: RuntimeWarning: divide by zero encountered in double_scalars\n",
      "  adj = constraint / float((column * weights).sum())\n"
     ]
    },
    {
     "name": "stdout",
     "output_type": "stream",
     "text": [
      "Drawing 480 households\n",
      "Synthesizing geog id:\n",
      " state              37\n",
      "county            119\n",
      "tract          004000\n",
      "block group         2\n",
      "dtype: object\n"
     ]
    },
    {
     "name": "stderr",
     "output_type": "stream",
     "text": [
      "/Users/darebrawley/anaconda3/lib/python3.6/site-packages/synthpop/ipu/ipu.py:190: RuntimeWarning: divide by zero encountered in double_scalars\n",
      "  adj = constraint / float((column * weights).sum())\n"
     ]
    },
    {
     "name": "stdout",
     "output_type": "stream",
     "text": [
      "Drawing 356 households\n",
      "Synthesizing geog id:\n",
      " state              37\n",
      "county            119\n",
      "tract          004000\n",
      "block group         3\n",
      "dtype: object\n"
     ]
    },
    {
     "name": "stderr",
     "output_type": "stream",
     "text": [
      "/Users/darebrawley/anaconda3/lib/python3.6/site-packages/synthpop/ipu/ipu.py:190: RuntimeWarning: divide by zero encountered in double_scalars\n",
      "  adj = constraint / float((column * weights).sum())\n"
     ]
    },
    {
     "name": "stdout",
     "output_type": "stream",
     "text": [
      "Drawing 355 households\n",
      "Synthesizing geog id:\n",
      " state              37\n",
      "county            119\n",
      "tract          004000\n",
      "block group         4\n",
      "dtype: object\n"
     ]
    },
    {
     "name": "stderr",
     "output_type": "stream",
     "text": [
      "/Users/darebrawley/anaconda3/lib/python3.6/site-packages/synthpop/ipu/ipu.py:190: RuntimeWarning: divide by zero encountered in double_scalars\n",
      "  adj = constraint / float((column * weights).sum())\n"
     ]
    },
    {
     "name": "stdout",
     "output_type": "stream",
     "text": [
      "Drawing 542 households\n",
      "Synthesizing geog id:\n",
      " state              37\n",
      "county            119\n",
      "tract          004100\n",
      "block group         1\n",
      "dtype: object\n"
     ]
    },
    {
     "name": "stderr",
     "output_type": "stream",
     "text": [
      "/Users/darebrawley/anaconda3/lib/python3.6/site-packages/synthpop/ipu/ipu.py:190: RuntimeWarning: divide by zero encountered in double_scalars\n",
      "  adj = constraint / float((column * weights).sum())\n"
     ]
    },
    {
     "name": "stdout",
     "output_type": "stream",
     "text": [
      "Drawing 235 households\n",
      "Synthesizing geog id:\n",
      " state              37\n",
      "county            119\n",
      "tract          004100\n",
      "block group         2\n",
      "dtype: object\n",
      "Drawing 905 households\n",
      "Synthesizing geog id:\n",
      " state              37\n",
      "county            119\n",
      "tract          004100\n",
      "block group         3\n",
      "dtype: object\n"
     ]
    },
    {
     "name": "stderr",
     "output_type": "stream",
     "text": [
      "/Users/darebrawley/anaconda3/lib/python3.6/site-packages/synthpop/ipu/ipu.py:190: RuntimeWarning: divide by zero encountered in double_scalars\n",
      "  adj = constraint / float((column * weights).sum())\n"
     ]
    },
    {
     "name": "stdout",
     "output_type": "stream",
     "text": [
      "Drawing 63 households\n",
      "Synthesizing geog id:\n",
      " state              37\n",
      "county            119\n",
      "tract          004100\n",
      "block group         4\n",
      "dtype: object\n"
     ]
    },
    {
     "name": "stderr",
     "output_type": "stream",
     "text": [
      "/Users/darebrawley/anaconda3/lib/python3.6/site-packages/synthpop/ipu/ipu.py:190: RuntimeWarning: divide by zero encountered in double_scalars\n",
      "  adj = constraint / float((column * weights).sum())\n"
     ]
    },
    {
     "name": "stdout",
     "output_type": "stream",
     "text": [
      "Drawing 283 households\n",
      "Synthesizing geog id:\n",
      " state              37\n",
      "county            119\n",
      "tract          004200\n",
      "block group         1\n",
      "dtype: object\n"
     ]
    },
    {
     "name": "stderr",
     "output_type": "stream",
     "text": [
      "/Users/darebrawley/anaconda3/lib/python3.6/site-packages/synthpop/ipu/ipu.py:190: RuntimeWarning: divide by zero encountered in double_scalars\n",
      "  adj = constraint / float((column * weights).sum())\n"
     ]
    },
    {
     "name": "stdout",
     "output_type": "stream",
     "text": [
      "Drawing 312 households\n",
      "Synthesizing geog id:\n",
      " state              37\n",
      "county            119\n",
      "tract          004200\n",
      "block group         2\n",
      "dtype: object\n"
     ]
    },
    {
     "name": "stderr",
     "output_type": "stream",
     "text": [
      "/Users/darebrawley/anaconda3/lib/python3.6/site-packages/synthpop/ipu/ipu.py:190: RuntimeWarning: divide by zero encountered in double_scalars\n",
      "  adj = constraint / float((column * weights).sum())\n"
     ]
    },
    {
     "name": "stdout",
     "output_type": "stream",
     "text": [
      "Drawing 307 households\n",
      "Synthesizing geog id:\n",
      " state              37\n",
      "county            119\n",
      "tract          004200\n",
      "block group         3\n",
      "dtype: object\n"
     ]
    },
    {
     "name": "stderr",
     "output_type": "stream",
     "text": [
      "/Users/darebrawley/anaconda3/lib/python3.6/site-packages/synthpop/ipu/ipu.py:190: RuntimeWarning: divide by zero encountered in double_scalars\n",
      "  adj = constraint / float((column * weights).sum())\n"
     ]
    },
    {
     "name": "stdout",
     "output_type": "stream",
     "text": [
      "Drawing 209 households\n",
      "Synthesizing geog id:\n",
      " state              37\n",
      "county            119\n",
      "tract          004200\n",
      "block group         4\n",
      "dtype: object\n"
     ]
    },
    {
     "name": "stderr",
     "output_type": "stream",
     "text": [
      "/Users/darebrawley/anaconda3/lib/python3.6/site-packages/synthpop/ipu/ipu.py:190: RuntimeWarning: divide by zero encountered in double_scalars\n",
      "  adj = constraint / float((column * weights).sum())\n"
     ]
    },
    {
     "name": "stdout",
     "output_type": "stream",
     "text": [
      "Drawing 427 households\n",
      "Synthesizing geog id:\n",
      " state              37\n",
      "county            119\n",
      "tract          004302\n",
      "block group         1\n",
      "dtype: object\n"
     ]
    },
    {
     "name": "stderr",
     "output_type": "stream",
     "text": [
      "/Users/darebrawley/anaconda3/lib/python3.6/site-packages/synthpop/ipu/ipu.py:190: RuntimeWarning: divide by zero encountered in double_scalars\n",
      "  adj = constraint / float((column * weights).sum())\n"
     ]
    },
    {
     "name": "stdout",
     "output_type": "stream",
     "text": [
      "Drawing 319 households\n",
      "Synthesizing geog id:\n",
      " state              37\n",
      "county            119\n",
      "tract          004302\n",
      "block group         2\n",
      "dtype: object\n"
     ]
    },
    {
     "name": "stderr",
     "output_type": "stream",
     "text": [
      "/Users/darebrawley/anaconda3/lib/python3.6/site-packages/synthpop/ipu/ipu.py:190: RuntimeWarning: divide by zero encountered in double_scalars\n",
      "  adj = constraint / float((column * weights).sum())\n"
     ]
    },
    {
     "name": "stdout",
     "output_type": "stream",
     "text": [
      "Drawing 899 households\n",
      "Synthesizing geog id:\n",
      " state              37\n",
      "county            119\n",
      "tract          004302\n",
      "block group         3\n",
      "dtype: object\n"
     ]
    },
    {
     "name": "stderr",
     "output_type": "stream",
     "text": [
      "/Users/darebrawley/anaconda3/lib/python3.6/site-packages/synthpop/ipu/ipu.py:190: RuntimeWarning: divide by zero encountered in double_scalars\n",
      "  adj = constraint / float((column * weights).sum())\n"
     ]
    },
    {
     "name": "stdout",
     "output_type": "stream",
     "text": [
      "Drawing 457 households\n",
      "Synthesizing geog id:\n",
      " state              37\n",
      "county            119\n",
      "tract          004303\n",
      "block group         1\n",
      "dtype: object\n"
     ]
    },
    {
     "name": "stderr",
     "output_type": "stream",
     "text": [
      "/Users/darebrawley/anaconda3/lib/python3.6/site-packages/synthpop/ipu/ipu.py:190: RuntimeWarning: divide by zero encountered in double_scalars\n",
      "  adj = constraint / float((column * weights).sum())\n"
     ]
    },
    {
     "name": "stdout",
     "output_type": "stream",
     "text": [
      "Drawing 993 households\n",
      "Synthesizing geog id:\n",
      " state              37\n",
      "county            119\n",
      "tract          004304\n",
      "block group         1\n",
      "dtype: object\n"
     ]
    },
    {
     "name": "stderr",
     "output_type": "stream",
     "text": [
      "/Users/darebrawley/anaconda3/lib/python3.6/site-packages/synthpop/ipu/ipu.py:190: RuntimeWarning: divide by zero encountered in double_scalars\n",
      "  adj = constraint / float((column * weights).sum())\n"
     ]
    },
    {
     "name": "stdout",
     "output_type": "stream",
     "text": [
      "Drawing 997 households\n",
      "Synthesizing geog id:\n",
      " state              37\n",
      "county            119\n",
      "tract          004304\n",
      "block group         2\n",
      "dtype: object\n"
     ]
    },
    {
     "name": "stderr",
     "output_type": "stream",
     "text": [
      "/Users/darebrawley/anaconda3/lib/python3.6/site-packages/synthpop/ipu/ipu.py:190: RuntimeWarning: divide by zero encountered in double_scalars\n",
      "  adj = constraint / float((column * weights).sum())\n"
     ]
    },
    {
     "name": "stdout",
     "output_type": "stream",
     "text": [
      "Drawing 362 households\n",
      "Synthesizing geog id:\n",
      " state              37\n",
      "county            119\n",
      "tract          004305\n",
      "block group         1\n",
      "dtype: object\n",
      "Drawing 891 households\n",
      "Synthesizing geog id:\n",
      " state              37\n",
      "county            119\n",
      "tract          004305\n",
      "block group         2\n",
      "dtype: object\n"
     ]
    },
    {
     "name": "stderr",
     "output_type": "stream",
     "text": [
      "/Users/darebrawley/anaconda3/lib/python3.6/site-packages/synthpop/ipu/ipu.py:190: RuntimeWarning: divide by zero encountered in double_scalars\n",
      "  adj = constraint / float((column * weights).sum())\n"
     ]
    },
    {
     "name": "stdout",
     "output_type": "stream",
     "text": [
      "Drawing 1138 households\n",
      "Synthesizing geog id:\n",
      " state              37\n",
      "county            119\n",
      "tract          004400\n",
      "block group         1\n",
      "dtype: object\n"
     ]
    },
    {
     "name": "stderr",
     "output_type": "stream",
     "text": [
      "/Users/darebrawley/anaconda3/lib/python3.6/site-packages/synthpop/ipu/ipu.py:190: RuntimeWarning: divide by zero encountered in double_scalars\n",
      "  adj = constraint / float((column * weights).sum())\n"
     ]
    },
    {
     "name": "stdout",
     "output_type": "stream",
     "text": [
      "Drawing 364 households\n",
      "Synthesizing geog id:\n",
      " state              37\n",
      "county            119\n",
      "tract          004400\n",
      "block group         2\n",
      "dtype: object\n"
     ]
    },
    {
     "name": "stderr",
     "output_type": "stream",
     "text": [
      "/Users/darebrawley/anaconda3/lib/python3.6/site-packages/synthpop/ipu/ipu.py:190: RuntimeWarning: divide by zero encountered in double_scalars\n",
      "  adj = constraint / float((column * weights).sum())\n"
     ]
    },
    {
     "name": "stdout",
     "output_type": "stream",
     "text": [
      "Drawing 1178 households\n",
      "Synthesizing geog id:\n",
      " state              37\n",
      "county            119\n",
      "tract          004500\n",
      "block group         1\n",
      "dtype: object\n"
     ]
    },
    {
     "name": "stderr",
     "output_type": "stream",
     "text": [
      "/Users/darebrawley/anaconda3/lib/python3.6/site-packages/synthpop/ipu/ipu.py:190: RuntimeWarning: divide by zero encountered in double_scalars\n",
      "  adj = constraint / float((column * weights).sum())\n"
     ]
    },
    {
     "name": "stdout",
     "output_type": "stream",
     "text": [
      "Drawing 356 households\n",
      "Synthesizing geog id:\n",
      " state              37\n",
      "county            119\n",
      "tract          004500\n",
      "block group         2\n",
      "dtype: object\n"
     ]
    },
    {
     "name": "stderr",
     "output_type": "stream",
     "text": [
      "/Users/darebrawley/anaconda3/lib/python3.6/site-packages/synthpop/ipu/ipu.py:190: RuntimeWarning: divide by zero encountered in double_scalars\n",
      "  adj = constraint / float((column * weights).sum())\n"
     ]
    },
    {
     "name": "stdout",
     "output_type": "stream",
     "text": [
      "Drawing 351 households\n",
      "Synthesizing geog id:\n",
      " state              37\n",
      "county            119\n",
      "tract          004500\n",
      "block group         3\n",
      "dtype: object\n"
     ]
    },
    {
     "name": "stderr",
     "output_type": "stream",
     "text": [
      "/Users/darebrawley/anaconda3/lib/python3.6/site-packages/synthpop/ipu/ipu.py:190: RuntimeWarning: divide by zero encountered in double_scalars\n",
      "  adj = constraint / float((column * weights).sum())\n"
     ]
    },
    {
     "name": "stdout",
     "output_type": "stream",
     "text": [
      "Drawing 285 households\n",
      "Synthesizing geog id:\n",
      " state              37\n",
      "county            119\n",
      "tract          004600\n",
      "block group         1\n",
      "dtype: object\n"
     ]
    },
    {
     "name": "stderr",
     "output_type": "stream",
     "text": [
      "/Users/darebrawley/anaconda3/lib/python3.6/site-packages/synthpop/ipu/ipu.py:190: RuntimeWarning: divide by zero encountered in double_scalars\n",
      "  adj = constraint / float((column * weights).sum())\n"
     ]
    },
    {
     "name": "stdout",
     "output_type": "stream",
     "text": [
      "Drawing 471 households\n",
      "Synthesizing geog id:\n",
      " state              37\n",
      "county            119\n",
      "tract          004600\n",
      "block group         2\n",
      "dtype: object\n"
     ]
    },
    {
     "name": "stderr",
     "output_type": "stream",
     "text": [
      "/Users/darebrawley/anaconda3/lib/python3.6/site-packages/synthpop/ipu/ipu.py:190: RuntimeWarning: divide by zero encountered in double_scalars\n",
      "  adj = constraint / float((column * weights).sum())\n"
     ]
    },
    {
     "name": "stdout",
     "output_type": "stream",
     "text": [
      "Drawing 694 households\n",
      "Synthesizing geog id:\n",
      " state              37\n",
      "county            119\n",
      "tract          004700\n",
      "block group         1\n",
      "dtype: object\n"
     ]
    },
    {
     "name": "stderr",
     "output_type": "stream",
     "text": [
      "/Users/darebrawley/anaconda3/lib/python3.6/site-packages/synthpop/ipu/ipu.py:190: RuntimeWarning: divide by zero encountered in double_scalars\n",
      "  adj = constraint / float((column * weights).sum())\n"
     ]
    },
    {
     "name": "stdout",
     "output_type": "stream",
     "text": [
      "Drawing 451 households\n",
      "Synthesizing geog id:\n",
      " state              37\n",
      "county            119\n",
      "tract          004800\n",
      "block group         1\n",
      "dtype: object\n"
     ]
    },
    {
     "name": "stderr",
     "output_type": "stream",
     "text": [
      "/Users/darebrawley/anaconda3/lib/python3.6/site-packages/synthpop/ipu/ipu.py:190: RuntimeWarning: divide by zero encountered in double_scalars\n",
      "  adj = constraint / float((column * weights).sum())\n"
     ]
    },
    {
     "name": "stdout",
     "output_type": "stream",
     "text": [
      "Drawing 487 households\n",
      "Synthesizing geog id:\n",
      " state              37\n",
      "county            119\n",
      "tract          004800\n",
      "block group         2\n",
      "dtype: object\n"
     ]
    },
    {
     "name": "stderr",
     "output_type": "stream",
     "text": [
      "/Users/darebrawley/anaconda3/lib/python3.6/site-packages/synthpop/ipu/ipu.py:190: RuntimeWarning: divide by zero encountered in double_scalars\n",
      "  adj = constraint / float((column * weights).sum())\n"
     ]
    },
    {
     "name": "stdout",
     "output_type": "stream",
     "text": [
      "Drawing 479 households\n",
      "Synthesizing geog id:\n",
      " state              37\n",
      "county            119\n",
      "tract          004800\n",
      "block group         3\n",
      "dtype: object\n"
     ]
    },
    {
     "name": "stderr",
     "output_type": "stream",
     "text": [
      "/Users/darebrawley/anaconda3/lib/python3.6/site-packages/synthpop/ipu/ipu.py:190: RuntimeWarning: divide by zero encountered in double_scalars\n",
      "  adj = constraint / float((column * weights).sum())\n"
     ]
    },
    {
     "name": "stdout",
     "output_type": "stream",
     "text": [
      "Drawing 473 households\n",
      "Synthesizing geog id:\n",
      " state              37\n",
      "county            119\n",
      "tract          004900\n",
      "block group         1\n",
      "dtype: object\n"
     ]
    },
    {
     "name": "stderr",
     "output_type": "stream",
     "text": [
      "/Users/darebrawley/anaconda3/lib/python3.6/site-packages/synthpop/ipu/ipu.py:190: RuntimeWarning: divide by zero encountered in double_scalars\n",
      "  adj = constraint / float((column * weights).sum())\n"
     ]
    },
    {
     "name": "stdout",
     "output_type": "stream",
     "text": [
      "Drawing 205 households\n",
      "Synthesizing geog id:\n",
      " state              37\n",
      "county            119\n",
      "tract          005000\n",
      "block group         1\n",
      "dtype: object\n"
     ]
    },
    {
     "name": "stderr",
     "output_type": "stream",
     "text": [
      "/Users/darebrawley/anaconda3/lib/python3.6/site-packages/synthpop/ipu/ipu.py:190: RuntimeWarning: divide by zero encountered in double_scalars\n",
      "  adj = constraint / float((column * weights).sum())\n"
     ]
    },
    {
     "name": "stdout",
     "output_type": "stream",
     "text": [
      "Drawing 501 households\n",
      "Synthesizing geog id:\n",
      " state              37\n",
      "county            119\n",
      "tract          005000\n",
      "block group         2\n",
      "dtype: object\n"
     ]
    },
    {
     "name": "stderr",
     "output_type": "stream",
     "text": [
      "/Users/darebrawley/anaconda3/lib/python3.6/site-packages/synthpop/ipu/ipu.py:190: RuntimeWarning: divide by zero encountered in double_scalars\n",
      "  adj = constraint / float((column * weights).sum())\n"
     ]
    },
    {
     "name": "stdout",
     "output_type": "stream",
     "text": [
      "Drawing 197 households\n",
      "Synthesizing geog id:\n",
      " state              37\n",
      "county            119\n",
      "tract          005100\n",
      "block group         1\n",
      "dtype: object\n"
     ]
    },
    {
     "name": "stderr",
     "output_type": "stream",
     "text": [
      "/Users/darebrawley/anaconda3/lib/python3.6/site-packages/synthpop/ipu/ipu.py:190: RuntimeWarning: divide by zero encountered in double_scalars\n",
      "  adj = constraint / float((column * weights).sum())\n"
     ]
    },
    {
     "name": "stdout",
     "output_type": "stream",
     "text": [
      "Drawing 308 households\n",
      "Synthesizing geog id:\n",
      " state              37\n",
      "county            119\n",
      "tract          005100\n",
      "block group         2\n",
      "dtype: object\n"
     ]
    },
    {
     "name": "stderr",
     "output_type": "stream",
     "text": [
      "/Users/darebrawley/anaconda3/lib/python3.6/site-packages/synthpop/ipu/ipu.py:190: RuntimeWarning: divide by zero encountered in double_scalars\n",
      "  adj = constraint / float((column * weights).sum())\n"
     ]
    },
    {
     "name": "stdout",
     "output_type": "stream",
     "text": [
      "Drawing 675 households\n",
      "Synthesizing geog id:\n",
      " state              37\n",
      "county            119\n",
      "tract          005200\n",
      "block group         1\n",
      "dtype: object\n"
     ]
    },
    {
     "name": "stderr",
     "output_type": "stream",
     "text": [
      "/Users/darebrawley/anaconda3/lib/python3.6/site-packages/synthpop/ipu/ipu.py:190: RuntimeWarning: divide by zero encountered in double_scalars\n",
      "  adj = constraint / float((column * weights).sum())\n"
     ]
    },
    {
     "name": "stdout",
     "output_type": "stream",
     "text": [
      "Drawing 197 households\n",
      "Synthesizing geog id:\n",
      " state              37\n",
      "county            119\n",
      "tract          005200\n",
      "block group         2\n",
      "dtype: object\n"
     ]
    },
    {
     "name": "stderr",
     "output_type": "stream",
     "text": [
      "/Users/darebrawley/anaconda3/lib/python3.6/site-packages/synthpop/ipu/ipu.py:190: RuntimeWarning: divide by zero encountered in double_scalars\n",
      "  adj = constraint / float((column * weights).sum())\n"
     ]
    },
    {
     "name": "stdout",
     "output_type": "stream",
     "text": [
      "Drawing 250 households\n",
      "Synthesizing geog id:\n",
      " state              37\n",
      "county            119\n",
      "tract          005200\n",
      "block group         3\n",
      "dtype: object\n"
     ]
    },
    {
     "name": "stderr",
     "output_type": "stream",
     "text": [
      "/Users/darebrawley/anaconda3/lib/python3.6/site-packages/synthpop/ipu/ipu.py:190: RuntimeWarning: divide by zero encountered in double_scalars\n",
      "  adj = constraint / float((column * weights).sum())\n"
     ]
    },
    {
     "name": "stdout",
     "output_type": "stream",
     "text": [
      "Drawing 255 households\n",
      "Synthesizing geog id:\n",
      " state              37\n",
      "county            119\n",
      "tract          005301\n",
      "block group         1\n",
      "dtype: object\n"
     ]
    },
    {
     "name": "stderr",
     "output_type": "stream",
     "text": [
      "/Users/darebrawley/anaconda3/lib/python3.6/site-packages/synthpop/ipu/ipu.py:190: RuntimeWarning: divide by zero encountered in double_scalars\n",
      "  adj = constraint / float((column * weights).sum())\n"
     ]
    },
    {
     "name": "stdout",
     "output_type": "stream",
     "text": [
      "Drawing 1162 households\n",
      "Synthesizing geog id:\n",
      " state              37\n",
      "county            119\n",
      "tract          005301\n",
      "block group         2\n",
      "dtype: object\n"
     ]
    },
    {
     "name": "stderr",
     "output_type": "stream",
     "text": [
      "/Users/darebrawley/anaconda3/lib/python3.6/site-packages/synthpop/ipu/ipu.py:190: RuntimeWarning: divide by zero encountered in double_scalars\n",
      "  adj = constraint / float((column * weights).sum())\n"
     ]
    },
    {
     "name": "stdout",
     "output_type": "stream",
     "text": [
      "Drawing 291 households\n",
      "Synthesizing geog id:\n",
      " state              37\n",
      "county            119\n",
      "tract          005305\n",
      "block group         1\n",
      "dtype: object\n"
     ]
    },
    {
     "name": "stderr",
     "output_type": "stream",
     "text": [
      "/Users/darebrawley/anaconda3/lib/python3.6/site-packages/synthpop/ipu/ipu.py:190: RuntimeWarning: divide by zero encountered in double_scalars\n",
      "  adj = constraint / float((column * weights).sum())\n"
     ]
    },
    {
     "name": "stdout",
     "output_type": "stream",
     "text": [
      "Drawing 448 households\n",
      "Synthesizing geog id:\n",
      " state              37\n",
      "county            119\n",
      "tract          005305\n",
      "block group         2\n",
      "dtype: object\n"
     ]
    },
    {
     "name": "stderr",
     "output_type": "stream",
     "text": [
      "/Users/darebrawley/anaconda3/lib/python3.6/site-packages/synthpop/ipu/ipu.py:190: RuntimeWarning: divide by zero encountered in double_scalars\n",
      "  adj = constraint / float((column * weights).sum())\n"
     ]
    },
    {
     "name": "stdout",
     "output_type": "stream",
     "text": [
      "Drawing 507 households\n",
      "Synthesizing geog id:\n",
      " state              37\n",
      "county            119\n",
      "tract          005305\n",
      "block group         3\n",
      "dtype: object\n"
     ]
    },
    {
     "name": "stderr",
     "output_type": "stream",
     "text": [
      "/Users/darebrawley/anaconda3/lib/python3.6/site-packages/synthpop/ipu/ipu.py:190: RuntimeWarning: divide by zero encountered in double_scalars\n",
      "  adj = constraint / float((column * weights).sum())\n"
     ]
    },
    {
     "name": "stdout",
     "output_type": "stream",
     "text": [
      "Drawing 915 households\n",
      "Synthesizing geog id:\n",
      " state              37\n",
      "county            119\n",
      "tract          005306\n",
      "block group         1\n",
      "dtype: object\n"
     ]
    },
    {
     "name": "stderr",
     "output_type": "stream",
     "text": [
      "/Users/darebrawley/anaconda3/lib/python3.6/site-packages/synthpop/ipu/ipu.py:190: RuntimeWarning: divide by zero encountered in double_scalars\n",
      "  adj = constraint / float((column * weights).sum())\n"
     ]
    },
    {
     "name": "stdout",
     "output_type": "stream",
     "text": [
      "Drawing 234 households\n",
      "Synthesizing geog id:\n",
      " state              37\n",
      "county            119\n",
      "tract          005306\n",
      "block group         2\n",
      "dtype: object\n"
     ]
    },
    {
     "name": "stderr",
     "output_type": "stream",
     "text": [
      "/Users/darebrawley/anaconda3/lib/python3.6/site-packages/synthpop/ipu/ipu.py:190: RuntimeWarning: divide by zero encountered in double_scalars\n",
      "  adj = constraint / float((column * weights).sum())\n"
     ]
    },
    {
     "name": "stdout",
     "output_type": "stream",
     "text": [
      "Drawing 681 households\n",
      "Synthesizing geog id:\n",
      " state              37\n",
      "county            119\n",
      "tract          005307\n",
      "block group         1\n",
      "dtype: object\n"
     ]
    },
    {
     "name": "stderr",
     "output_type": "stream",
     "text": [
      "/Users/darebrawley/anaconda3/lib/python3.6/site-packages/synthpop/ipu/ipu.py:190: RuntimeWarning: divide by zero encountered in double_scalars\n",
      "  adj = constraint / float((column * weights).sum())\n"
     ]
    },
    {
     "name": "stdout",
     "output_type": "stream",
     "text": [
      "Drawing 958 households\n",
      "Synthesizing geog id:\n",
      " state              37\n",
      "county            119\n",
      "tract          005307\n",
      "block group         2\n",
      "dtype: object\n"
     ]
    },
    {
     "name": "stderr",
     "output_type": "stream",
     "text": [
      "/Users/darebrawley/anaconda3/lib/python3.6/site-packages/synthpop/ipu/ipu.py:190: RuntimeWarning: divide by zero encountered in double_scalars\n",
      "  adj = constraint / float((column * weights).sum())\n"
     ]
    },
    {
     "name": "stdout",
     "output_type": "stream",
     "text": [
      "Drawing 360 households\n",
      "Synthesizing geog id:\n",
      " state              37\n",
      "county            119\n",
      "tract          005308\n",
      "block group         1\n",
      "dtype: object\n"
     ]
    },
    {
     "name": "stderr",
     "output_type": "stream",
     "text": [
      "/Users/darebrawley/anaconda3/lib/python3.6/site-packages/synthpop/ipu/ipu.py:190: RuntimeWarning: divide by zero encountered in double_scalars\n",
      "  adj = constraint / float((column * weights).sum())\n"
     ]
    },
    {
     "name": "stdout",
     "output_type": "stream",
     "text": [
      "Drawing 593 households\n",
      "Synthesizing geog id:\n",
      " state              37\n",
      "county            119\n",
      "tract          005308\n",
      "block group         2\n",
      "dtype: object\n"
     ]
    },
    {
     "name": "stderr",
     "output_type": "stream",
     "text": [
      "/Users/darebrawley/anaconda3/lib/python3.6/site-packages/synthpop/ipu/ipu.py:190: RuntimeWarning: divide by zero encountered in double_scalars\n",
      "  adj = constraint / float((column * weights).sum())\n"
     ]
    },
    {
     "name": "stdout",
     "output_type": "stream",
     "text": [
      "Drawing 363 households\n",
      "Synthesizing geog id:\n",
      " state              37\n",
      "county            119\n",
      "tract          005401\n",
      "block group         1\n",
      "dtype: object\n"
     ]
    },
    {
     "name": "stderr",
     "output_type": "stream",
     "text": [
      "/Users/darebrawley/anaconda3/lib/python3.6/site-packages/synthpop/ipu/ipu.py:190: RuntimeWarning: divide by zero encountered in double_scalars\n",
      "  adj = constraint / float((column * weights).sum())\n"
     ]
    },
    {
     "name": "stdout",
     "output_type": "stream",
     "text": [
      "Drawing 1328 households\n",
      "Synthesizing geog id:\n",
      " state              37\n",
      "county            119\n",
      "tract          005401\n",
      "block group         2\n",
      "dtype: object\n"
     ]
    },
    {
     "name": "stderr",
     "output_type": "stream",
     "text": [
      "/Users/darebrawley/anaconda3/lib/python3.6/site-packages/synthpop/ipu/ipu.py:190: RuntimeWarning: divide by zero encountered in double_scalars\n",
      "  adj = constraint / float((column * weights).sum())\n"
     ]
    },
    {
     "name": "stdout",
     "output_type": "stream",
     "text": [
      "Drawing 1018 households\n",
      "Synthesizing geog id:\n",
      " state              37\n",
      "county            119\n",
      "tract          005401\n",
      "block group         3\n",
      "dtype: object\n"
     ]
    },
    {
     "name": "stderr",
     "output_type": "stream",
     "text": [
      "/Users/darebrawley/anaconda3/lib/python3.6/site-packages/synthpop/ipu/ipu.py:190: RuntimeWarning: divide by zero encountered in double_scalars\n",
      "  adj = constraint / float((column * weights).sum())\n"
     ]
    },
    {
     "name": "stdout",
     "output_type": "stream",
     "text": [
      "Drawing 530 households\n",
      "Synthesizing geog id:\n",
      " state              37\n",
      "county            119\n",
      "tract          005403\n",
      "block group         1\n",
      "dtype: object\n"
     ]
    },
    {
     "name": "stderr",
     "output_type": "stream",
     "text": [
      "/Users/darebrawley/anaconda3/lib/python3.6/site-packages/synthpop/ipu/ipu.py:190: RuntimeWarning: divide by zero encountered in double_scalars\n",
      "  adj = constraint / float((column * weights).sum())\n"
     ]
    },
    {
     "name": "stdout",
     "output_type": "stream",
     "text": [
      "Drawing 1000 households\n",
      "Synthesizing geog id:\n",
      " state              37\n",
      "county            119\n",
      "tract          005403\n",
      "block group         2\n",
      "dtype: object\n"
     ]
    },
    {
     "name": "stderr",
     "output_type": "stream",
     "text": [
      "/Users/darebrawley/anaconda3/lib/python3.6/site-packages/synthpop/ipu/ipu.py:190: RuntimeWarning: divide by zero encountered in double_scalars\n",
      "  adj = constraint / float((column * weights).sum())\n"
     ]
    },
    {
     "name": "stdout",
     "output_type": "stream",
     "text": [
      "Drawing 614 households\n",
      "Synthesizing geog id:\n",
      " state              37\n",
      "county            119\n",
      "tract          005404\n",
      "block group         1\n",
      "dtype: object\n"
     ]
    },
    {
     "name": "stderr",
     "output_type": "stream",
     "text": [
      "/Users/darebrawley/anaconda3/lib/python3.6/site-packages/synthpop/ipu/ipu.py:190: RuntimeWarning: divide by zero encountered in double_scalars\n",
      "  adj = constraint / float((column * weights).sum())\n"
     ]
    },
    {
     "name": "stdout",
     "output_type": "stream",
     "text": [
      "Drawing 1006 households\n",
      "Synthesizing geog id:\n",
      " state              37\n",
      "county            119\n",
      "tract          005404\n",
      "block group         2\n",
      "dtype: object\n"
     ]
    },
    {
     "name": "stderr",
     "output_type": "stream",
     "text": [
      "/Users/darebrawley/anaconda3/lib/python3.6/site-packages/synthpop/ipu/ipu.py:190: RuntimeWarning: divide by zero encountered in double_scalars\n",
      "  adj = constraint / float((column * weights).sum())\n"
     ]
    },
    {
     "name": "stdout",
     "output_type": "stream",
     "text": [
      "Drawing 905 households\n",
      "Synthesizing geog id:\n",
      " state              37\n",
      "county            119\n",
      "tract          005508\n",
      "block group         1\n",
      "dtype: object\n"
     ]
    },
    {
     "name": "stderr",
     "output_type": "stream",
     "text": [
      "/Users/darebrawley/anaconda3/lib/python3.6/site-packages/synthpop/ipu/ipu.py:190: RuntimeWarning: divide by zero encountered in double_scalars\n",
      "  adj = constraint / float((column * weights).sum())\n"
     ]
    },
    {
     "name": "stdout",
     "output_type": "stream",
     "text": [
      "Drawing 801 households\n",
      "Synthesizing geog id:\n",
      " state              37\n",
      "county            119\n",
      "tract          005508\n",
      "block group         2\n",
      "dtype: object\n"
     ]
    },
    {
     "name": "stderr",
     "output_type": "stream",
     "text": [
      "/Users/darebrawley/anaconda3/lib/python3.6/site-packages/synthpop/ipu/ipu.py:190: RuntimeWarning: divide by zero encountered in double_scalars\n",
      "  adj = constraint / float((column * weights).sum())\n"
     ]
    },
    {
     "name": "stdout",
     "output_type": "stream",
     "text": [
      "Drawing 712 households\n",
      "Synthesizing geog id:\n",
      " state              37\n",
      "county            119\n",
      "tract          005509\n",
      "block group         1\n",
      "dtype: object\n"
     ]
    },
    {
     "name": "stderr",
     "output_type": "stream",
     "text": [
      "/Users/darebrawley/anaconda3/lib/python3.6/site-packages/synthpop/ipu/ipu.py:190: RuntimeWarning: divide by zero encountered in double_scalars\n",
      "  adj = constraint / float((column * weights).sum())\n"
     ]
    },
    {
     "name": "stdout",
     "output_type": "stream",
     "text": [
      "Drawing 743 households\n",
      "Synthesizing geog id:\n",
      " state              37\n",
      "county            119\n",
      "tract          005509\n",
      "block group         2\n",
      "dtype: object\n"
     ]
    },
    {
     "name": "stderr",
     "output_type": "stream",
     "text": [
      "/Users/darebrawley/anaconda3/lib/python3.6/site-packages/synthpop/ipu/ipu.py:190: RuntimeWarning: divide by zero encountered in double_scalars\n",
      "  adj = constraint / float((column * weights).sum())\n"
     ]
    },
    {
     "name": "stdout",
     "output_type": "stream",
     "text": [
      "Drawing 581 households\n",
      "Synthesizing geog id:\n",
      " state              37\n",
      "county            119\n",
      "tract          005509\n",
      "block group         3\n",
      "dtype: object\n"
     ]
    },
    {
     "name": "stderr",
     "output_type": "stream",
     "text": [
      "/Users/darebrawley/anaconda3/lib/python3.6/site-packages/synthpop/ipu/ipu.py:190: RuntimeWarning: divide by zero encountered in double_scalars\n",
      "  adj = constraint / float((column * weights).sum())\n"
     ]
    },
    {
     "name": "stdout",
     "output_type": "stream",
     "text": [
      "Drawing 944 households\n",
      "Synthesizing geog id:\n",
      " state              37\n",
      "county            119\n",
      "tract          005510\n",
      "block group         1\n",
      "dtype: object\n"
     ]
    },
    {
     "name": "stderr",
     "output_type": "stream",
     "text": [
      "/Users/darebrawley/anaconda3/lib/python3.6/site-packages/synthpop/ipu/ipu.py:190: RuntimeWarning: divide by zero encountered in double_scalars\n",
      "  adj = constraint / float((column * weights).sum())\n"
     ]
    },
    {
     "name": "stdout",
     "output_type": "stream",
     "text": [
      "Drawing 715 households\n",
      "Synthesizing geog id:\n",
      " state              37\n",
      "county            119\n",
      "tract          005510\n",
      "block group         2\n",
      "dtype: object\n",
      "Drawing 1276 households\n",
      "Synthesizing geog id:\n",
      " state              37\n",
      "county            119\n",
      "tract          005511\n",
      "block group         1\n",
      "dtype: object\n"
     ]
    },
    {
     "name": "stderr",
     "output_type": "stream",
     "text": [
      "/Users/darebrawley/anaconda3/lib/python3.6/site-packages/synthpop/ipu/ipu.py:190: RuntimeWarning: divide by zero encountered in double_scalars\n",
      "  adj = constraint / float((column * weights).sum())\n"
     ]
    },
    {
     "name": "stdout",
     "output_type": "stream",
     "text": [
      "Drawing 378 households\n",
      "Synthesizing geog id:\n",
      " state              37\n",
      "county            119\n",
      "tract          005511\n",
      "block group         2\n",
      "dtype: object\n",
      "Drawing 700 households\n",
      "Synthesizing geog id:\n",
      " state              37\n",
      "county            119\n",
      "tract          005511\n",
      "block group         3\n",
      "dtype: object\n"
     ]
    },
    {
     "name": "stderr",
     "output_type": "stream",
     "text": [
      "/Users/darebrawley/anaconda3/lib/python3.6/site-packages/synthpop/ipu/ipu.py:190: RuntimeWarning: divide by zero encountered in double_scalars\n",
      "  adj = constraint / float((column * weights).sum())\n"
     ]
    },
    {
     "name": "stdout",
     "output_type": "stream",
     "text": [
      "Drawing 787 households\n",
      "Synthesizing geog id:\n",
      " state              37\n",
      "county            119\n",
      "tract          005512\n",
      "block group         1\n",
      "dtype: object\n"
     ]
    },
    {
     "name": "stderr",
     "output_type": "stream",
     "text": [
      "/Users/darebrawley/anaconda3/lib/python3.6/site-packages/synthpop/ipu/ipu.py:190: RuntimeWarning: divide by zero encountered in double_scalars\n",
      "  adj = constraint / float((column * weights).sum())\n"
     ]
    },
    {
     "name": "stdout",
     "output_type": "stream",
     "text": [
      "Drawing 346 households\n",
      "Synthesizing geog id:\n",
      " state              37\n",
      "county            119\n",
      "tract          005512\n",
      "block group         2\n",
      "dtype: object\n"
     ]
    },
    {
     "name": "stderr",
     "output_type": "stream",
     "text": [
      "/Users/darebrawley/anaconda3/lib/python3.6/site-packages/synthpop/ipu/ipu.py:190: RuntimeWarning: divide by zero encountered in double_scalars\n",
      "  adj = constraint / float((column * weights).sum())\n"
     ]
    },
    {
     "name": "stdout",
     "output_type": "stream",
     "text": [
      "Drawing 422 households\n",
      "Synthesizing geog id:\n",
      " state              37\n",
      "county            119\n",
      "tract          005512\n",
      "block group         3\n",
      "dtype: object\n",
      "Drawing 1182 households\n",
      "Synthesizing geog id:\n",
      " state              37\n",
      "county            119\n",
      "tract          005513\n",
      "block group         1\n",
      "dtype: object\n",
      "Drawing 632 households\n",
      "Synthesizing geog id:\n",
      " state              37\n",
      "county            119\n",
      "tract          005513\n",
      "block group         2\n",
      "dtype: object\n"
     ]
    },
    {
     "name": "stderr",
     "output_type": "stream",
     "text": [
      "/Users/darebrawley/anaconda3/lib/python3.6/site-packages/synthpop/ipu/ipu.py:190: RuntimeWarning: divide by zero encountered in double_scalars\n",
      "  adj = constraint / float((column * weights).sum())\n"
     ]
    },
    {
     "name": "stdout",
     "output_type": "stream",
     "text": [
      "Drawing 613 households\n",
      "Synthesizing geog id:\n",
      " state              37\n",
      "county            119\n",
      "tract          005513\n",
      "block group         3\n",
      "dtype: object\n"
     ]
    },
    {
     "name": "stderr",
     "output_type": "stream",
     "text": [
      "/Users/darebrawley/anaconda3/lib/python3.6/site-packages/synthpop/ipu/ipu.py:190: RuntimeWarning: divide by zero encountered in double_scalars\n",
      "  adj = constraint / float((column * weights).sum())\n"
     ]
    },
    {
     "name": "stdout",
     "output_type": "stream",
     "text": [
      "Drawing 288 households\n",
      "Synthesizing geog id:\n",
      " state              37\n",
      "county            119\n",
      "tract          005514\n",
      "block group         1\n",
      "dtype: object\n",
      "Drawing 1001 households\n",
      "Synthesizing geog id:\n",
      " state              37\n",
      "county            119\n",
      "tract          005514\n",
      "block group         2\n",
      "dtype: object\n"
     ]
    },
    {
     "name": "stderr",
     "output_type": "stream",
     "text": [
      "/Users/darebrawley/anaconda3/lib/python3.6/site-packages/synthpop/ipu/ipu.py:190: RuntimeWarning: divide by zero encountered in double_scalars\n",
      "  adj = constraint / float((column * weights).sum())\n"
     ]
    },
    {
     "name": "stdout",
     "output_type": "stream",
     "text": [
      "Drawing 784 households\n",
      "Synthesizing geog id:\n",
      " state              37\n",
      "county            119\n",
      "tract          005514\n",
      "block group         3\n",
      "dtype: object\n"
     ]
    },
    {
     "name": "stderr",
     "output_type": "stream",
     "text": [
      "/Users/darebrawley/anaconda3/lib/python3.6/site-packages/synthpop/ipu/ipu.py:190: RuntimeWarning: divide by zero encountered in double_scalars\n",
      "  adj = constraint / float((column * weights).sum())\n"
     ]
    },
    {
     "name": "stdout",
     "output_type": "stream",
     "text": [
      "Drawing 1184 households\n",
      "Synthesizing geog id:\n",
      " state              37\n",
      "county            119\n",
      "tract          005515\n",
      "block group         1\n",
      "dtype: object\n",
      "Drawing 1040 households\n",
      "Synthesizing geog id:\n",
      " state              37\n",
      "county            119\n",
      "tract          005516\n",
      "block group         1\n",
      "dtype: object\n"
     ]
    },
    {
     "name": "stderr",
     "output_type": "stream",
     "text": [
      "/Users/darebrawley/anaconda3/lib/python3.6/site-packages/synthpop/ipu/ipu.py:190: RuntimeWarning: divide by zero encountered in double_scalars\n",
      "  adj = constraint / float((column * weights).sum())\n"
     ]
    },
    {
     "name": "stdout",
     "output_type": "stream",
     "text": [
      "Drawing 602 households\n",
      "Synthesizing geog id:\n",
      " state              37\n",
      "county            119\n",
      "tract          005517\n",
      "block group         1\n",
      "dtype: object\n"
     ]
    },
    {
     "name": "stderr",
     "output_type": "stream",
     "text": [
      "/Users/darebrawley/anaconda3/lib/python3.6/site-packages/synthpop/ipu/ipu.py:190: RuntimeWarning: divide by zero encountered in double_scalars\n",
      "  adj = constraint / float((column * weights).sum())\n"
     ]
    },
    {
     "name": "stdout",
     "output_type": "stream",
     "text": [
      "Drawing 1234 households\n",
      "Synthesizing geog id:\n",
      " state              37\n",
      "county            119\n",
      "tract          005517\n",
      "block group         2\n",
      "dtype: object\n"
     ]
    },
    {
     "name": "stderr",
     "output_type": "stream",
     "text": [
      "/Users/darebrawley/anaconda3/lib/python3.6/site-packages/synthpop/ipu/ipu.py:190: RuntimeWarning: divide by zero encountered in double_scalars\n",
      "  adj = constraint / float((column * weights).sum())\n"
     ]
    },
    {
     "name": "stdout",
     "output_type": "stream",
     "text": [
      "Drawing 421 households\n",
      "Synthesizing geog id:\n",
      " state              37\n",
      "county            119\n",
      "tract          005518\n",
      "block group         1\n",
      "dtype: object\n"
     ]
    },
    {
     "name": "stderr",
     "output_type": "stream",
     "text": [
      "/Users/darebrawley/anaconda3/lib/python3.6/site-packages/synthpop/ipu/ipu.py:190: RuntimeWarning: divide by zero encountered in double_scalars\n",
      "  adj = constraint / float((column * weights).sum())\n"
     ]
    },
    {
     "name": "stdout",
     "output_type": "stream",
     "text": [
      "Drawing 1232 households\n",
      "Synthesizing geog id:\n",
      " state              37\n",
      "county            119\n",
      "tract          005518\n",
      "block group         2\n",
      "dtype: object\n",
      "Drawing 846 households\n",
      "Synthesizing geog id:\n",
      " state              37\n",
      "county            119\n",
      "tract          005519\n",
      "block group         1\n",
      "dtype: object\n"
     ]
    },
    {
     "name": "stderr",
     "output_type": "stream",
     "text": [
      "/Users/darebrawley/anaconda3/lib/python3.6/site-packages/synthpop/ipu/ipu.py:190: RuntimeWarning: divide by zero encountered in double_scalars\n",
      "  adj = constraint / float((column * weights).sum())\n"
     ]
    },
    {
     "name": "stdout",
     "output_type": "stream",
     "text": [
      "Drawing 928 households\n",
      "Synthesizing geog id:\n",
      " state              37\n",
      "county            119\n",
      "tract          005519\n",
      "block group         2\n",
      "dtype: object\n"
     ]
    },
    {
     "name": "stderr",
     "output_type": "stream",
     "text": [
      "/Users/darebrawley/anaconda3/lib/python3.6/site-packages/synthpop/ipu/ipu.py:190: RuntimeWarning: divide by zero encountered in double_scalars\n",
      "  adj = constraint / float((column * weights).sum())\n"
     ]
    },
    {
     "name": "stdout",
     "output_type": "stream",
     "text": [
      "Drawing 895 households\n",
      "Synthesizing geog id:\n",
      " state              37\n",
      "county            119\n",
      "tract          005520\n",
      "block group         1\n",
      "dtype: object\n",
      "Drawing 1178 households\n",
      "Synthesizing geog id:\n",
      " state              37\n",
      "county            119\n",
      "tract          005520\n",
      "block group         2\n",
      "dtype: object\n"
     ]
    },
    {
     "name": "stderr",
     "output_type": "stream",
     "text": [
      "/Users/darebrawley/anaconda3/lib/python3.6/site-packages/synthpop/ipu/ipu.py:190: RuntimeWarning: divide by zero encountered in double_scalars\n",
      "  adj = constraint / float((column * weights).sum())\n"
     ]
    },
    {
     "name": "stdout",
     "output_type": "stream",
     "text": [
      "Drawing 273 households\n",
      "Synthesizing geog id:\n",
      " state              37\n",
      "county            119\n",
      "tract          005521\n",
      "block group         1\n",
      "dtype: object\n"
     ]
    },
    {
     "name": "stderr",
     "output_type": "stream",
     "text": [
      "/Users/darebrawley/anaconda3/lib/python3.6/site-packages/synthpop/ipu/ipu.py:190: RuntimeWarning: divide by zero encountered in double_scalars\n",
      "  adj = constraint / float((column * weights).sum())\n"
     ]
    },
    {
     "name": "stdout",
     "output_type": "stream",
     "text": [
      "Drawing 306 households\n",
      "Synthesizing geog id:\n",
      " state              37\n",
      "county            119\n",
      "tract          005521\n",
      "block group         2\n",
      "dtype: object\n"
     ]
    },
    {
     "name": "stderr",
     "output_type": "stream",
     "text": [
      "/Users/darebrawley/anaconda3/lib/python3.6/site-packages/synthpop/ipu/ipu.py:190: RuntimeWarning: divide by zero encountered in double_scalars\n",
      "  adj = constraint / float((column * weights).sum())\n"
     ]
    },
    {
     "name": "stdout",
     "output_type": "stream",
     "text": [
      "Drawing 909 households\n",
      "Synthesizing geog id:\n",
      " state              37\n",
      "county            119\n",
      "tract          005521\n",
      "block group         3\n",
      "dtype: object\n",
      "Drawing 1869 households\n",
      "Synthesizing geog id:\n",
      " state              37\n",
      "county            119\n",
      "tract          005522\n",
      "block group         1\n",
      "dtype: object\n"
     ]
    },
    {
     "name": "stderr",
     "output_type": "stream",
     "text": [
      "/Users/darebrawley/anaconda3/lib/python3.6/site-packages/synthpop/ipu/ipu.py:190: RuntimeWarning: divide by zero encountered in double_scalars\n",
      "  adj = constraint / float((column * weights).sum())\n"
     ]
    },
    {
     "name": "stdout",
     "output_type": "stream",
     "text": [
      "Drawing 482 households\n",
      "Synthesizing geog id:\n",
      " state              37\n",
      "county            119\n",
      "tract          005522\n",
      "block group         2\n",
      "dtype: object\n"
     ]
    },
    {
     "name": "stderr",
     "output_type": "stream",
     "text": [
      "/Users/darebrawley/anaconda3/lib/python3.6/site-packages/synthpop/ipu/ipu.py:190: RuntimeWarning: divide by zero encountered in double_scalars\n",
      "  adj = constraint / float((column * weights).sum())\n"
     ]
    },
    {
     "name": "stdout",
     "output_type": "stream",
     "text": [
      "Drawing 992 households\n",
      "Synthesizing geog id:\n",
      " state              37\n",
      "county            119\n",
      "tract          005522\n",
      "block group         3\n",
      "dtype: object\n"
     ]
    },
    {
     "name": "stderr",
     "output_type": "stream",
     "text": [
      "/Users/darebrawley/anaconda3/lib/python3.6/site-packages/synthpop/ipu/ipu.py:190: RuntimeWarning: divide by zero encountered in double_scalars\n",
      "  adj = constraint / float((column * weights).sum())\n"
     ]
    },
    {
     "name": "stdout",
     "output_type": "stream",
     "text": [
      "Drawing 637 households\n",
      "Synthesizing geog id:\n",
      " state              37\n",
      "county            119\n",
      "tract          005523\n",
      "block group         1\n",
      "dtype: object\n"
     ]
    },
    {
     "name": "stderr",
     "output_type": "stream",
     "text": [
      "/Users/darebrawley/anaconda3/lib/python3.6/site-packages/synthpop/ipu/ipu.py:190: RuntimeWarning: divide by zero encountered in double_scalars\n",
      "  adj = constraint / float((column * weights).sum())\n"
     ]
    },
    {
     "name": "stdout",
     "output_type": "stream",
     "text": [
      "Drawing 405 households\n",
      "Synthesizing geog id:\n",
      " state              37\n",
      "county            119\n",
      "tract          005523\n",
      "block group         2\n",
      "dtype: object\n"
     ]
    },
    {
     "name": "stderr",
     "output_type": "stream",
     "text": [
      "/Users/darebrawley/anaconda3/lib/python3.6/site-packages/synthpop/ipu/ipu.py:190: RuntimeWarning: divide by zero encountered in double_scalars\n",
      "  adj = constraint / float((column * weights).sum())\n"
     ]
    },
    {
     "name": "stdout",
     "output_type": "stream",
     "text": [
      "Drawing 1250 households\n",
      "Synthesizing geog id:\n",
      " state              37\n",
      "county            119\n",
      "tract          005523\n",
      "block group         3\n",
      "dtype: object\n"
     ]
    },
    {
     "name": "stderr",
     "output_type": "stream",
     "text": [
      "/Users/darebrawley/anaconda3/lib/python3.6/site-packages/synthpop/ipu/ipu.py:190: RuntimeWarning: divide by zero encountered in double_scalars\n",
      "  adj = constraint / float((column * weights).sum())\n"
     ]
    },
    {
     "name": "stdout",
     "output_type": "stream",
     "text": [
      "Drawing 804 households\n",
      "Synthesizing geog id:\n",
      " state              37\n",
      "county            119\n",
      "tract          005524\n",
      "block group         1\n",
      "dtype: object\n"
     ]
    },
    {
     "name": "stderr",
     "output_type": "stream",
     "text": [
      "/Users/darebrawley/anaconda3/lib/python3.6/site-packages/synthpop/ipu/ipu.py:190: RuntimeWarning: divide by zero encountered in double_scalars\n",
      "  adj = constraint / float((column * weights).sum())\n"
     ]
    },
    {
     "name": "stdout",
     "output_type": "stream",
     "text": [
      "Drawing 432 households\n",
      "Synthesizing geog id:\n",
      " state              37\n",
      "county            119\n",
      "tract          005524\n",
      "block group         2\n",
      "dtype: object\n"
     ]
    },
    {
     "name": "stderr",
     "output_type": "stream",
     "text": [
      "/Users/darebrawley/anaconda3/lib/python3.6/site-packages/synthpop/ipu/ipu.py:190: RuntimeWarning: divide by zero encountered in double_scalars\n",
      "  adj = constraint / float((column * weights).sum())\n"
     ]
    },
    {
     "name": "stdout",
     "output_type": "stream",
     "text": [
      "Drawing 540 households\n",
      "Synthesizing geog id:\n",
      " state              37\n",
      "county            119\n",
      "tract          005524\n",
      "block group         3\n",
      "dtype: object\n"
     ]
    },
    {
     "name": "stderr",
     "output_type": "stream",
     "text": [
      "/Users/darebrawley/anaconda3/lib/python3.6/site-packages/synthpop/ipu/ipu.py:190: RuntimeWarning: divide by zero encountered in double_scalars\n",
      "  adj = constraint / float((column * weights).sum())\n"
     ]
    },
    {
     "name": "stdout",
     "output_type": "stream",
     "text": [
      "Drawing 1056 households\n",
      "Synthesizing geog id:\n",
      " state              37\n",
      "county            119\n",
      "tract          005524\n",
      "block group         4\n",
      "dtype: object\n"
     ]
    },
    {
     "name": "stderr",
     "output_type": "stream",
     "text": [
      "/Users/darebrawley/anaconda3/lib/python3.6/site-packages/synthpop/ipu/ipu.py:190: RuntimeWarning: divide by zero encountered in double_scalars\n",
      "  adj = constraint / float((column * weights).sum())\n"
     ]
    },
    {
     "name": "stdout",
     "output_type": "stream",
     "text": [
      "Drawing 678 households\n",
      "Synthesizing geog id:\n",
      " state              37\n",
      "county            119\n",
      "tract          005524\n",
      "block group         5\n",
      "dtype: object\n"
     ]
    },
    {
     "name": "stderr",
     "output_type": "stream",
     "text": [
      "/Users/darebrawley/anaconda3/lib/python3.6/site-packages/synthpop/ipu/ipu.py:190: RuntimeWarning: divide by zero encountered in double_scalars\n",
      "  adj = constraint / float((column * weights).sum())\n"
     ]
    },
    {
     "name": "stdout",
     "output_type": "stream",
     "text": [
      "Drawing 438 households\n",
      "Synthesizing geog id:\n",
      " state              37\n",
      "county            119\n",
      "tract          005524\n",
      "block group         6\n",
      "dtype: object\n",
      "Drawing 349 households\n",
      "Synthesizing geog id:\n",
      " state              37\n",
      "county            119\n",
      "tract          005604\n",
      "block group         1\n",
      "dtype: object\n"
     ]
    },
    {
     "name": "stderr",
     "output_type": "stream",
     "text": [
      "/Users/darebrawley/anaconda3/lib/python3.6/site-packages/synthpop/ipu/ipu.py:190: RuntimeWarning: divide by zero encountered in double_scalars\n",
      "  adj = constraint / float((column * weights).sum())\n"
     ]
    },
    {
     "name": "stdout",
     "output_type": "stream",
     "text": [
      "Drawing 548 households\n",
      "Synthesizing geog id:\n",
      " state              37\n",
      "county            119\n",
      "tract          005604\n",
      "block group         2\n",
      "dtype: object\n"
     ]
    },
    {
     "name": "stderr",
     "output_type": "stream",
     "text": [
      "/Users/darebrawley/anaconda3/lib/python3.6/site-packages/synthpop/ipu/ipu.py:190: RuntimeWarning: divide by zero encountered in double_scalars\n",
      "  adj = constraint / float((column * weights).sum())\n"
     ]
    },
    {
     "name": "stdout",
     "output_type": "stream",
     "text": [
      "Drawing 0 households\n",
      "Synthesizing geog id:\n",
      " state              37\n",
      "county            119\n",
      "tract          005604\n",
      "block group         3\n",
      "dtype: object\n"
     ]
    },
    {
     "name": "stderr",
     "output_type": "stream",
     "text": [
      "/Users/darebrawley/anaconda3/lib/python3.6/site-packages/synthpop/ipu/ipu.py:190: RuntimeWarning: divide by zero encountered in double_scalars\n",
      "  adj = constraint / float((column * weights).sum())\n"
     ]
    },
    {
     "name": "stdout",
     "output_type": "stream",
     "text": [
      "Drawing 0 households\n",
      "Synthesizing geog id:\n",
      " state              37\n",
      "county            119\n",
      "tract          005605\n",
      "block group         1\n",
      "dtype: object\n"
     ]
    },
    {
     "name": "stderr",
     "output_type": "stream",
     "text": [
      "/Users/darebrawley/anaconda3/lib/python3.6/site-packages/synthpop/ipu/ipu.py:190: RuntimeWarning: divide by zero encountered in double_scalars\n",
      "  adj = constraint / float((column * weights).sum())\n"
     ]
    },
    {
     "name": "stdout",
     "output_type": "stream",
     "text": [
      "Drawing 1164 households\n",
      "Synthesizing geog id:\n",
      " state              37\n",
      "county            119\n",
      "tract          005605\n",
      "block group         2\n",
      "dtype: object\n"
     ]
    },
    {
     "name": "stderr",
     "output_type": "stream",
     "text": [
      "/Users/darebrawley/anaconda3/lib/python3.6/site-packages/synthpop/ipu/ipu.py:190: RuntimeWarning: divide by zero encountered in double_scalars\n",
      "  adj = constraint / float((column * weights).sum())\n"
     ]
    },
    {
     "name": "stdout",
     "output_type": "stream",
     "text": [
      "Drawing 655 households\n",
      "Synthesizing geog id:\n",
      " state              37\n",
      "county            119\n",
      "tract          005605\n",
      "block group         3\n",
      "dtype: object\n"
     ]
    },
    {
     "name": "stderr",
     "output_type": "stream",
     "text": [
      "/Users/darebrawley/anaconda3/lib/python3.6/site-packages/synthpop/ipu/ipu.py:190: RuntimeWarning: divide by zero encountered in double_scalars\n",
      "  adj = constraint / float((column * weights).sum())\n"
     ]
    },
    {
     "name": "stdout",
     "output_type": "stream",
     "text": [
      "Drawing 901 households\n",
      "Synthesizing geog id:\n",
      " state              37\n",
      "county            119\n",
      "tract          005609\n",
      "block group         1\n",
      "dtype: object\n"
     ]
    },
    {
     "name": "stderr",
     "output_type": "stream",
     "text": [
      "/Users/darebrawley/anaconda3/lib/python3.6/site-packages/synthpop/ipu/ipu.py:190: RuntimeWarning: divide by zero encountered in double_scalars\n",
      "  adj = constraint / float((column * weights).sum())\n"
     ]
    },
    {
     "name": "stdout",
     "output_type": "stream",
     "text": [
      "Drawing 1098 households\n",
      "Synthesizing geog id:\n",
      " state              37\n",
      "county            119\n",
      "tract          005610\n",
      "block group         1\n",
      "dtype: object\n"
     ]
    },
    {
     "name": "stderr",
     "output_type": "stream",
     "text": [
      "/Users/darebrawley/anaconda3/lib/python3.6/site-packages/synthpop/ipu/ipu.py:190: RuntimeWarning: divide by zero encountered in double_scalars\n",
      "  adj = constraint / float((column * weights).sum())\n"
     ]
    },
    {
     "name": "stdout",
     "output_type": "stream",
     "text": [
      "Drawing 246 households\n",
      "Synthesizing geog id:\n",
      " state              37\n",
      "county            119\n",
      "tract          005610\n",
      "block group         2\n",
      "dtype: object\n",
      "Drawing 1026 households\n",
      "Synthesizing geog id:\n",
      " state              37\n",
      "county            119\n",
      "tract          005611\n",
      "block group         1\n",
      "dtype: object\n",
      "Drawing 965 households\n",
      "Synthesizing geog id:\n",
      " state              37\n",
      "county            119\n",
      "tract          005612\n",
      "block group         1\n",
      "dtype: object\n",
      "Drawing 1004 households\n",
      "Synthesizing geog id:\n",
      " state              37\n",
      "county            119\n",
      "tract          005612\n",
      "block group         2\n",
      "dtype: object\n"
     ]
    },
    {
     "name": "stderr",
     "output_type": "stream",
     "text": [
      "/Users/darebrawley/anaconda3/lib/python3.6/site-packages/synthpop/ipu/ipu.py:190: RuntimeWarning: divide by zero encountered in double_scalars\n",
      "  adj = constraint / float((column * weights).sum())\n"
     ]
    },
    {
     "name": "stdout",
     "output_type": "stream",
     "text": [
      "Drawing 669 households\n",
      "Synthesizing geog id:\n",
      " state              37\n",
      "county            119\n",
      "tract          005613\n",
      "block group         1\n",
      "dtype: object\n",
      "Drawing 970 households\n",
      "Synthesizing geog id:\n",
      " state              37\n",
      "county            119\n",
      "tract          005614\n",
      "block group         1\n",
      "dtype: object\n"
     ]
    },
    {
     "name": "stderr",
     "output_type": "stream",
     "text": [
      "/Users/darebrawley/anaconda3/lib/python3.6/site-packages/synthpop/ipu/ipu.py:190: RuntimeWarning: divide by zero encountered in double_scalars\n",
      "  adj = constraint / float((column * weights).sum())\n"
     ]
    },
    {
     "name": "stdout",
     "output_type": "stream",
     "text": [
      "Drawing 612 households\n",
      "Synthesizing geog id:\n",
      " state              37\n",
      "county            119\n",
      "tract          005614\n",
      "block group         2\n",
      "dtype: object\n"
     ]
    },
    {
     "name": "stderr",
     "output_type": "stream",
     "text": [
      "/Users/darebrawley/anaconda3/lib/python3.6/site-packages/synthpop/ipu/ipu.py:190: RuntimeWarning: divide by zero encountered in double_scalars\n",
      "  adj = constraint / float((column * weights).sum())\n"
     ]
    },
    {
     "name": "stdout",
     "output_type": "stream",
     "text": [
      "Drawing 803 households\n",
      "Synthesizing geog id:\n",
      " state              37\n",
      "county            119\n",
      "tract          005614\n",
      "block group         3\n",
      "dtype: object\n"
     ]
    },
    {
     "name": "stderr",
     "output_type": "stream",
     "text": [
      "/Users/darebrawley/anaconda3/lib/python3.6/site-packages/synthpop/ipu/ipu.py:190: RuntimeWarning: divide by zero encountered in double_scalars\n",
      "  adj = constraint / float((column * weights).sum())\n"
     ]
    },
    {
     "name": "stdout",
     "output_type": "stream",
     "text": [
      "Drawing 956 households\n",
      "Synthesizing geog id:\n",
      " state              37\n",
      "county            119\n",
      "tract          005615\n",
      "block group         1\n",
      "dtype: object\n"
     ]
    },
    {
     "name": "stderr",
     "output_type": "stream",
     "text": [
      "/Users/darebrawley/anaconda3/lib/python3.6/site-packages/synthpop/ipu/ipu.py:190: RuntimeWarning: divide by zero encountered in double_scalars\n",
      "  adj = constraint / float((column * weights).sum())\n"
     ]
    },
    {
     "name": "stdout",
     "output_type": "stream",
     "text": [
      "Drawing 456 households\n",
      "Synthesizing geog id:\n",
      " state              37\n",
      "county            119\n",
      "tract          005616\n",
      "block group         1\n",
      "dtype: object\n"
     ]
    },
    {
     "name": "stderr",
     "output_type": "stream",
     "text": [
      "/Users/darebrawley/anaconda3/lib/python3.6/site-packages/synthpop/ipu/ipu.py:190: RuntimeWarning: divide by zero encountered in double_scalars\n",
      "  adj = constraint / float((column * weights).sum())\n"
     ]
    },
    {
     "name": "stdout",
     "output_type": "stream",
     "text": [
      "Drawing 572 households\n",
      "Synthesizing geog id:\n",
      " state              37\n",
      "county            119\n",
      "tract          005617\n",
      "block group         1\n",
      "dtype: object\n"
     ]
    },
    {
     "name": "stderr",
     "output_type": "stream",
     "text": [
      "/Users/darebrawley/anaconda3/lib/python3.6/site-packages/synthpop/ipu/ipu.py:190: RuntimeWarning: divide by zero encountered in double_scalars\n",
      "  adj = constraint / float((column * weights).sum())\n"
     ]
    },
    {
     "name": "stdout",
     "output_type": "stream",
     "text": [
      "Drawing 690 households\n",
      "Synthesizing geog id:\n",
      " state              37\n",
      "county            119\n",
      "tract          005617\n",
      "block group         2\n",
      "dtype: object\n"
     ]
    },
    {
     "name": "stderr",
     "output_type": "stream",
     "text": [
      "/Users/darebrawley/anaconda3/lib/python3.6/site-packages/synthpop/ipu/ipu.py:190: RuntimeWarning: divide by zero encountered in double_scalars\n",
      "  adj = constraint / float((column * weights).sum())\n"
     ]
    },
    {
     "name": "stdout",
     "output_type": "stream",
     "text": [
      "Drawing 22 households\n",
      "Synthesizing geog id:\n",
      " state              37\n",
      "county            119\n",
      "tract          005618\n",
      "block group         1\n",
      "dtype: object\n"
     ]
    },
    {
     "name": "stderr",
     "output_type": "stream",
     "text": [
      "/Users/darebrawley/anaconda3/lib/python3.6/site-packages/synthpop/ipu/ipu.py:190: RuntimeWarning: divide by zero encountered in double_scalars\n",
      "  adj = constraint / float((column * weights).sum())\n"
     ]
    },
    {
     "name": "stdout",
     "output_type": "stream",
     "text": [
      "Drawing 703 households\n",
      "Synthesizing geog id:\n",
      " state              37\n",
      "county            119\n",
      "tract          005618\n",
      "block group         2\n",
      "dtype: object\n"
     ]
    },
    {
     "name": "stderr",
     "output_type": "stream",
     "text": [
      "/Users/darebrawley/anaconda3/lib/python3.6/site-packages/synthpop/ipu/ipu.py:190: RuntimeWarning: divide by zero encountered in double_scalars\n",
      "  adj = constraint / float((column * weights).sum())\n"
     ]
    },
    {
     "name": "stdout",
     "output_type": "stream",
     "text": [
      "Drawing 454 households\n",
      "Synthesizing geog id:\n",
      " state              37\n",
      "county            119\n",
      "tract          005619\n",
      "block group         1\n",
      "dtype: object\n"
     ]
    },
    {
     "name": "stderr",
     "output_type": "stream",
     "text": [
      "/Users/darebrawley/anaconda3/lib/python3.6/site-packages/synthpop/ipu/ipu.py:190: RuntimeWarning: divide by zero encountered in double_scalars\n",
      "  adj = constraint / float((column * weights).sum())\n"
     ]
    },
    {
     "name": "stdout",
     "output_type": "stream",
     "text": [
      "Drawing 864 households\n",
      "Synthesizing geog id:\n",
      " state              37\n",
      "county            119\n",
      "tract          005619\n",
      "block group         2\n",
      "dtype: object\n"
     ]
    },
    {
     "name": "stderr",
     "output_type": "stream",
     "text": [
      "/Users/darebrawley/anaconda3/lib/python3.6/site-packages/synthpop/ipu/ipu.py:190: RuntimeWarning: divide by zero encountered in double_scalars\n",
      "  adj = constraint / float((column * weights).sum())\n"
     ]
    },
    {
     "name": "stdout",
     "output_type": "stream",
     "text": [
      "Drawing 597 households\n",
      "Synthesizing geog id:\n",
      " state              37\n",
      "county            119\n",
      "tract          005620\n",
      "block group         1\n",
      "dtype: object\n"
     ]
    },
    {
     "name": "stderr",
     "output_type": "stream",
     "text": [
      "/Users/darebrawley/anaconda3/lib/python3.6/site-packages/synthpop/ipu/ipu.py:190: RuntimeWarning: divide by zero encountered in double_scalars\n",
      "  adj = constraint / float((column * weights).sum())\n"
     ]
    },
    {
     "name": "stdout",
     "output_type": "stream",
     "text": [
      "Drawing 697 households\n",
      "Synthesizing geog id:\n",
      " state              37\n",
      "county            119\n",
      "tract          005620\n",
      "block group         2\n",
      "dtype: object\n"
     ]
    },
    {
     "name": "stderr",
     "output_type": "stream",
     "text": [
      "/Users/darebrawley/anaconda3/lib/python3.6/site-packages/synthpop/ipu/ipu.py:190: RuntimeWarning: divide by zero encountered in double_scalars\n",
      "  adj = constraint / float((column * weights).sum())\n"
     ]
    },
    {
     "name": "stdout",
     "output_type": "stream",
     "text": [
      "Drawing 1094 households\n",
      "Synthesizing geog id:\n",
      " state              37\n",
      "county            119\n",
      "tract          005620\n",
      "block group         3\n",
      "dtype: object\n"
     ]
    },
    {
     "name": "stderr",
     "output_type": "stream",
     "text": [
      "/Users/darebrawley/anaconda3/lib/python3.6/site-packages/synthpop/ipu/ipu.py:190: RuntimeWarning: divide by zero encountered in double_scalars\n",
      "  adj = constraint / float((column * weights).sum())\n"
     ]
    },
    {
     "name": "stdout",
     "output_type": "stream",
     "text": [
      "Drawing 899 households\n",
      "Synthesizing geog id:\n",
      " state              37\n",
      "county            119\n",
      "tract          005621\n",
      "block group         1\n",
      "dtype: object\n",
      "Drawing 888 households\n",
      "Synthesizing geog id:\n",
      " state              37\n",
      "county            119\n",
      "tract          005621\n",
      "block group         2\n",
      "dtype: object\n"
     ]
    },
    {
     "name": "stderr",
     "output_type": "stream",
     "text": [
      "/Users/darebrawley/anaconda3/lib/python3.6/site-packages/synthpop/ipu/ipu.py:190: RuntimeWarning: divide by zero encountered in double_scalars\n",
      "  adj = constraint / float((column * weights).sum())\n"
     ]
    },
    {
     "name": "stdout",
     "output_type": "stream",
     "text": [
      "Drawing 235 households\n",
      "Synthesizing geog id:\n",
      " state              37\n",
      "county            119\n",
      "tract          005621\n",
      "block group         3\n",
      "dtype: object\n"
     ]
    },
    {
     "name": "stderr",
     "output_type": "stream",
     "text": [
      "/Users/darebrawley/anaconda3/lib/python3.6/site-packages/synthpop/ipu/ipu.py:190: RuntimeWarning: divide by zero encountered in double_scalars\n",
      "  adj = constraint / float((column * weights).sum())\n"
     ]
    },
    {
     "name": "stdout",
     "output_type": "stream",
     "text": [
      "Drawing 520 households\n",
      "Synthesizing geog id:\n",
      " state              37\n",
      "county            119\n",
      "tract          005706\n",
      "block group         1\n",
      "dtype: object\n"
     ]
    },
    {
     "name": "stderr",
     "output_type": "stream",
     "text": [
      "/Users/darebrawley/anaconda3/lib/python3.6/site-packages/synthpop/ipu/ipu.py:190: RuntimeWarning: divide by zero encountered in double_scalars\n",
      "  adj = constraint / float((column * weights).sum())\n"
     ]
    },
    {
     "name": "stdout",
     "output_type": "stream",
     "text": [
      "Drawing 650 households\n",
      "Synthesizing geog id:\n",
      " state              37\n",
      "county            119\n",
      "tract          005706\n",
      "block group         2\n",
      "dtype: object\n",
      "Drawing 593 households\n",
      "Synthesizing geog id:\n",
      " state              37\n",
      "county            119\n",
      "tract          005706\n",
      "block group         3\n",
      "dtype: object\n"
     ]
    },
    {
     "name": "stderr",
     "output_type": "stream",
     "text": [
      "/Users/darebrawley/anaconda3/lib/python3.6/site-packages/synthpop/ipu/ipu.py:190: RuntimeWarning: divide by zero encountered in double_scalars\n",
      "  adj = constraint / float((column * weights).sum())\n"
     ]
    },
    {
     "name": "stdout",
     "output_type": "stream",
     "text": [
      "Drawing 673 households\n",
      "Synthesizing geog id:\n",
      " state              37\n",
      "county            119\n",
      "tract          005706\n",
      "block group         4\n",
      "dtype: object\n"
     ]
    },
    {
     "name": "stderr",
     "output_type": "stream",
     "text": [
      "/Users/darebrawley/anaconda3/lib/python3.6/site-packages/synthpop/ipu/ipu.py:190: RuntimeWarning: divide by zero encountered in double_scalars\n",
      "  adj = constraint / float((column * weights).sum())\n"
     ]
    },
    {
     "name": "stdout",
     "output_type": "stream",
     "text": [
      "Drawing 620 households\n",
      "Synthesizing geog id:\n",
      " state              37\n",
      "county            119\n",
      "tract          005709\n",
      "block group         1\n",
      "dtype: object\n"
     ]
    },
    {
     "name": "stderr",
     "output_type": "stream",
     "text": [
      "/Users/darebrawley/anaconda3/lib/python3.6/site-packages/synthpop/ipu/ipu.py:190: RuntimeWarning: divide by zero encountered in double_scalars\n",
      "  adj = constraint / float((column * weights).sum())\n"
     ]
    },
    {
     "name": "stdout",
     "output_type": "stream",
     "text": [
      "Drawing 745 households\n",
      "Synthesizing geog id:\n",
      " state              37\n",
      "county            119\n",
      "tract          005709\n",
      "block group         2\n",
      "dtype: object\n",
      "Drawing 776 households\n",
      "Synthesizing geog id:\n",
      " state              37\n",
      "county            119\n",
      "tract          005710\n",
      "block group         1\n",
      "dtype: object\n",
      "Drawing 856 households\n",
      "Synthesizing geog id:\n",
      " state              37\n",
      "county            119\n",
      "tract          005710\n",
      "block group         2\n",
      "dtype: object\n",
      "Drawing 1000 households\n",
      "Synthesizing geog id:\n",
      " state              37\n",
      "county            119\n",
      "tract          005711\n",
      "block group         1\n",
      "dtype: object\n"
     ]
    },
    {
     "name": "stderr",
     "output_type": "stream",
     "text": [
      "/Users/darebrawley/anaconda3/lib/python3.6/site-packages/synthpop/ipu/ipu.py:190: RuntimeWarning: divide by zero encountered in double_scalars\n",
      "  adj = constraint / float((column * weights).sum())\n"
     ]
    },
    {
     "name": "stdout",
     "output_type": "stream",
     "text": [
      "Drawing 204 households\n",
      "Synthesizing geog id:\n",
      " state              37\n",
      "county            119\n",
      "tract          005711\n",
      "block group         2\n",
      "dtype: object\n"
     ]
    },
    {
     "name": "stderr",
     "output_type": "stream",
     "text": [
      "/Users/darebrawley/anaconda3/lib/python3.6/site-packages/synthpop/ipu/ipu.py:190: RuntimeWarning: divide by zero encountered in double_scalars\n",
      "  adj = constraint / float((column * weights).sum())\n"
     ]
    },
    {
     "name": "stdout",
     "output_type": "stream",
     "text": [
      "Drawing 994 households\n",
      "Synthesizing geog id:\n",
      " state              37\n",
      "county            119\n",
      "tract          005711\n",
      "block group         3\n",
      "dtype: object\n"
     ]
    },
    {
     "name": "stderr",
     "output_type": "stream",
     "text": [
      "/Users/darebrawley/anaconda3/lib/python3.6/site-packages/synthpop/ipu/ipu.py:190: RuntimeWarning: divide by zero encountered in double_scalars\n",
      "  adj = constraint / float((column * weights).sum())\n"
     ]
    },
    {
     "name": "stdout",
     "output_type": "stream",
     "text": [
      "Drawing 1178 households\n",
      "Synthesizing geog id:\n",
      " state              37\n",
      "county            119\n",
      "tract          005712\n",
      "block group         1\n",
      "dtype: object\n"
     ]
    },
    {
     "name": "stderr",
     "output_type": "stream",
     "text": [
      "/Users/darebrawley/anaconda3/lib/python3.6/site-packages/synthpop/ipu/ipu.py:190: RuntimeWarning: divide by zero encountered in double_scalars\n",
      "  adj = constraint / float((column * weights).sum())\n"
     ]
    },
    {
     "name": "stdout",
     "output_type": "stream",
     "text": [
      "Drawing 925 households\n",
      "Synthesizing geog id:\n",
      " state              37\n",
      "county            119\n",
      "tract          005712\n",
      "block group         2\n",
      "dtype: object\n"
     ]
    },
    {
     "name": "stderr",
     "output_type": "stream",
     "text": [
      "/Users/darebrawley/anaconda3/lib/python3.6/site-packages/synthpop/ipu/ipu.py:190: RuntimeWarning: divide by zero encountered in double_scalars\n",
      "  adj = constraint / float((column * weights).sum())\n"
     ]
    },
    {
     "name": "stdout",
     "output_type": "stream",
     "text": [
      "Drawing 577 households\n",
      "Synthesizing geog id:\n",
      " state              37\n",
      "county            119\n",
      "tract          005713\n",
      "block group         1\n",
      "dtype: object\n"
     ]
    },
    {
     "name": "stderr",
     "output_type": "stream",
     "text": [
      "/Users/darebrawley/anaconda3/lib/python3.6/site-packages/synthpop/ipu/ipu.py:190: RuntimeWarning: divide by zero encountered in double_scalars\n",
      "  adj = constraint / float((column * weights).sum())\n"
     ]
    },
    {
     "name": "stdout",
     "output_type": "stream",
     "text": [
      "Drawing 706 households\n",
      "Synthesizing geog id:\n",
      " state              37\n",
      "county            119\n",
      "tract          005713\n",
      "block group         2\n",
      "dtype: object\n"
     ]
    },
    {
     "name": "stderr",
     "output_type": "stream",
     "text": [
      "/Users/darebrawley/anaconda3/lib/python3.6/site-packages/synthpop/ipu/ipu.py:190: RuntimeWarning: divide by zero encountered in double_scalars\n",
      "  adj = constraint / float((column * weights).sum())\n"
     ]
    },
    {
     "name": "stdout",
     "output_type": "stream",
     "text": [
      "Drawing 794 households\n",
      "Synthesizing geog id:\n",
      " state              37\n",
      "county            119\n",
      "tract          005714\n",
      "block group         1\n",
      "dtype: object\n"
     ]
    },
    {
     "name": "stderr",
     "output_type": "stream",
     "text": [
      "/Users/darebrawley/anaconda3/lib/python3.6/site-packages/synthpop/ipu/ipu.py:190: RuntimeWarning: divide by zero encountered in double_scalars\n",
      "  adj = constraint / float((column * weights).sum())\n"
     ]
    },
    {
     "name": "stdout",
     "output_type": "stream",
     "text": [
      "Drawing 770 households\n",
      "Synthesizing geog id:\n",
      " state              37\n",
      "county            119\n",
      "tract          005714\n",
      "block group         2\n",
      "dtype: object\n"
     ]
    },
    {
     "name": "stderr",
     "output_type": "stream",
     "text": [
      "/Users/darebrawley/anaconda3/lib/python3.6/site-packages/synthpop/ipu/ipu.py:190: RuntimeWarning: divide by zero encountered in double_scalars\n",
      "  adj = constraint / float((column * weights).sum())\n"
     ]
    },
    {
     "name": "stdout",
     "output_type": "stream",
     "text": [
      "Drawing 516 households\n",
      "Synthesizing geog id:\n",
      " state              37\n",
      "county            119\n",
      "tract          005714\n",
      "block group         3\n",
      "dtype: object\n"
     ]
    },
    {
     "name": "stderr",
     "output_type": "stream",
     "text": [
      "/Users/darebrawley/anaconda3/lib/python3.6/site-packages/synthpop/ipu/ipu.py:190: RuntimeWarning: divide by zero encountered in double_scalars\n",
      "  adj = constraint / float((column * weights).sum())\n"
     ]
    },
    {
     "name": "stdout",
     "output_type": "stream",
     "text": [
      "Drawing 454 households\n",
      "Synthesizing geog id:\n",
      " state              37\n",
      "county            119\n",
      "tract          005715\n",
      "block group         1\n",
      "dtype: object\n"
     ]
    },
    {
     "name": "stderr",
     "output_type": "stream",
     "text": [
      "/Users/darebrawley/anaconda3/lib/python3.6/site-packages/synthpop/ipu/ipu.py:190: RuntimeWarning: divide by zero encountered in double_scalars\n",
      "  adj = constraint / float((column * weights).sum())\n"
     ]
    },
    {
     "name": "stdout",
     "output_type": "stream",
     "text": [
      "Drawing 965 households\n",
      "Synthesizing geog id:\n",
      " state              37\n",
      "county            119\n",
      "tract          005716\n",
      "block group         1\n",
      "dtype: object\n",
      "Drawing 859 households\n",
      "Synthesizing geog id:\n",
      " state              37\n",
      "county            119\n",
      "tract          005716\n",
      "block group         2\n",
      "dtype: object\n",
      "Drawing 786 households\n",
      "Synthesizing geog id:\n",
      " state              37\n",
      "county            119\n",
      "tract          005717\n",
      "block group         1\n",
      "dtype: object\n"
     ]
    },
    {
     "name": "stderr",
     "output_type": "stream",
     "text": [
      "/Users/darebrawley/anaconda3/lib/python3.6/site-packages/synthpop/ipu/ipu.py:190: RuntimeWarning: divide by zero encountered in double_scalars\n",
      "  adj = constraint / float((column * weights).sum())\n"
     ]
    },
    {
     "name": "stdout",
     "output_type": "stream",
     "text": [
      "Drawing 1165 households\n",
      "Synthesizing geog id:\n",
      " state              37\n",
      "county            119\n",
      "tract          005717\n",
      "block group         2\n",
      "dtype: object\n"
     ]
    },
    {
     "name": "stderr",
     "output_type": "stream",
     "text": [
      "/Users/darebrawley/anaconda3/lib/python3.6/site-packages/synthpop/ipu/ipu.py:190: RuntimeWarning: divide by zero encountered in double_scalars\n",
      "  adj = constraint / float((column * weights).sum())\n"
     ]
    },
    {
     "name": "stdout",
     "output_type": "stream",
     "text": [
      "Drawing 471 households\n",
      "Synthesizing geog id:\n",
      " state              37\n",
      "county            119\n",
      "tract          005717\n",
      "block group         3\n",
      "dtype: object\n",
      "Drawing 1068 households\n",
      "Synthesizing geog id:\n",
      " state              37\n",
      "county            119\n",
      "tract          005811\n",
      "block group         1\n",
      "dtype: object\n",
      "Drawing 1120 households\n",
      "Synthesizing geog id:\n",
      " state              37\n",
      "county            119\n",
      "tract          005811\n",
      "block group         2\n",
      "dtype: object\n"
     ]
    },
    {
     "name": "stderr",
     "output_type": "stream",
     "text": [
      "/Users/darebrawley/anaconda3/lib/python3.6/site-packages/synthpop/ipu/ipu.py:190: RuntimeWarning: divide by zero encountered in double_scalars\n",
      "  adj = constraint / float((column * weights).sum())\n"
     ]
    },
    {
     "name": "stdout",
     "output_type": "stream",
     "text": [
      "Drawing 678 households\n",
      "Synthesizing geog id:\n",
      " state              37\n",
      "county            119\n",
      "tract          005812\n",
      "block group         1\n",
      "dtype: object\n",
      "Drawing 962 households\n",
      "Synthesizing geog id:\n",
      " state              37\n",
      "county            119\n",
      "tract          005812\n",
      "block group         2\n",
      "dtype: object\n"
     ]
    },
    {
     "name": "stderr",
     "output_type": "stream",
     "text": [
      "/Users/darebrawley/anaconda3/lib/python3.6/site-packages/synthpop/ipu/ipu.py:190: RuntimeWarning: divide by zero encountered in double_scalars\n",
      "  adj = constraint / float((column * weights).sum())\n"
     ]
    },
    {
     "name": "stdout",
     "output_type": "stream",
     "text": [
      "Drawing 1266 households\n",
      "Synthesizing geog id:\n",
      " state              37\n",
      "county            119\n",
      "tract          005812\n",
      "block group         3\n",
      "dtype: object\n"
     ]
    },
    {
     "name": "stderr",
     "output_type": "stream",
     "text": [
      "/Users/darebrawley/anaconda3/lib/python3.6/site-packages/synthpop/ipu/ipu.py:190: RuntimeWarning: divide by zero encountered in double_scalars\n",
      "  adj = constraint / float((column * weights).sum())\n"
     ]
    },
    {
     "name": "stdout",
     "output_type": "stream",
     "text": [
      "Drawing 952 households\n",
      "Synthesizing geog id:\n",
      " state              37\n",
      "county            119\n",
      "tract          005815\n",
      "block group         1\n",
      "dtype: object\n",
      "Drawing 1173 households\n",
      "Synthesizing geog id:\n",
      " state              37\n",
      "county            119\n",
      "tract          005815\n",
      "block group         2\n",
      "dtype: object\n"
     ]
    },
    {
     "name": "stderr",
     "output_type": "stream",
     "text": [
      "/Users/darebrawley/anaconda3/lib/python3.6/site-packages/synthpop/ipu/ipu.py:190: RuntimeWarning: divide by zero encountered in double_scalars\n",
      "  adj = constraint / float((column * weights).sum())\n"
     ]
    },
    {
     "name": "stdout",
     "output_type": "stream",
     "text": [
      "Drawing 324 households\n",
      "Synthesizing geog id:\n",
      " state              37\n",
      "county            119\n",
      "tract          005816\n",
      "block group         1\n",
      "dtype: object\n"
     ]
    },
    {
     "name": "stderr",
     "output_type": "stream",
     "text": [
      "/Users/darebrawley/anaconda3/lib/python3.6/site-packages/synthpop/ipu/ipu.py:190: RuntimeWarning: divide by zero encountered in double_scalars\n",
      "  adj = constraint / float((column * weights).sum())\n"
     ]
    },
    {
     "name": "stdout",
     "output_type": "stream",
     "text": [
      "Drawing 1210 households\n",
      "Synthesizing geog id:\n",
      " state              37\n",
      "county            119\n",
      "tract          005816\n",
      "block group         2\n",
      "dtype: object\n"
     ]
    },
    {
     "name": "stderr",
     "output_type": "stream",
     "text": [
      "/Users/darebrawley/anaconda3/lib/python3.6/site-packages/synthpop/ipu/ipu.py:190: RuntimeWarning: divide by zero encountered in double_scalars\n",
      "  adj = constraint / float((column * weights).sum())\n"
     ]
    },
    {
     "name": "stdout",
     "output_type": "stream",
     "text": [
      "Drawing 407 households\n",
      "Synthesizing geog id:\n",
      " state              37\n",
      "county            119\n",
      "tract          005817\n",
      "block group         1\n",
      "dtype: object\n"
     ]
    },
    {
     "name": "stderr",
     "output_type": "stream",
     "text": [
      "/Users/darebrawley/anaconda3/lib/python3.6/site-packages/synthpop/ipu/ipu.py:190: RuntimeWarning: divide by zero encountered in double_scalars\n",
      "  adj = constraint / float((column * weights).sum())\n"
     ]
    },
    {
     "name": "stdout",
     "output_type": "stream",
     "text": [
      "Drawing 530 households\n",
      "Synthesizing geog id:\n",
      " state              37\n",
      "county            119\n",
      "tract          005817\n",
      "block group         2\n",
      "dtype: object\n",
      "Drawing 1102 households\n",
      "Synthesizing geog id:\n",
      " state              37\n",
      "county            119\n",
      "tract          005823\n",
      "block group         1\n",
      "dtype: object\n"
     ]
    },
    {
     "name": "stderr",
     "output_type": "stream",
     "text": [
      "/Users/darebrawley/anaconda3/lib/python3.6/site-packages/synthpop/ipu/ipu.py:190: RuntimeWarning: divide by zero encountered in double_scalars\n",
      "  adj = constraint / float((column * weights).sum())\n"
     ]
    },
    {
     "name": "stdout",
     "output_type": "stream",
     "text": [
      "Drawing 338 households\n",
      "Synthesizing geog id:\n",
      " state              37\n",
      "county            119\n",
      "tract          005823\n",
      "block group         2\n",
      "dtype: object\n"
     ]
    },
    {
     "name": "stderr",
     "output_type": "stream",
     "text": [
      "/Users/darebrawley/anaconda3/lib/python3.6/site-packages/synthpop/ipu/ipu.py:190: RuntimeWarning: divide by zero encountered in double_scalars\n",
      "  adj = constraint / float((column * weights).sum())\n"
     ]
    },
    {
     "name": "stdout",
     "output_type": "stream",
     "text": [
      "Drawing 502 households\n",
      "Synthesizing geog id:\n",
      " state              37\n",
      "county            119\n",
      "tract          005823\n",
      "block group         3\n",
      "dtype: object\n",
      "Drawing 805 households\n",
      "Synthesizing geog id:\n",
      " state              37\n",
      "county            119\n",
      "tract          005823\n",
      "block group         4\n",
      "dtype: object\n"
     ]
    },
    {
     "name": "stderr",
     "output_type": "stream",
     "text": [
      "/Users/darebrawley/anaconda3/lib/python3.6/site-packages/synthpop/ipu/ipu.py:190: RuntimeWarning: divide by zero encountered in double_scalars\n",
      "  adj = constraint / float((column * weights).sum())\n"
     ]
    },
    {
     "name": "stdout",
     "output_type": "stream",
     "text": [
      "Drawing 1174 households\n",
      "Synthesizing geog id:\n",
      " state              37\n",
      "county            119\n",
      "tract          005824\n",
      "block group         1\n",
      "dtype: object\n",
      "Drawing 1153 households\n",
      "Synthesizing geog id:\n",
      " state              37\n",
      "county            119\n",
      "tract          005825\n",
      "block group         1\n",
      "dtype: object\n",
      "Drawing 1494 households\n",
      "Synthesizing geog id:\n",
      " state              37\n",
      "county            119\n",
      "tract          005825\n",
      "block group         2\n",
      "dtype: object\n"
     ]
    },
    {
     "name": "stderr",
     "output_type": "stream",
     "text": [
      "/Users/darebrawley/anaconda3/lib/python3.6/site-packages/synthpop/ipu/ipu.py:190: RuntimeWarning: divide by zero encountered in double_scalars\n",
      "  adj = constraint / float((column * weights).sum())\n"
     ]
    },
    {
     "name": "stdout",
     "output_type": "stream",
     "text": [
      "Drawing 966 households\n",
      "Synthesizing geog id:\n",
      " state              37\n",
      "county            119\n",
      "tract          005826\n",
      "block group         1\n",
      "dtype: object\n"
     ]
    },
    {
     "name": "stderr",
     "output_type": "stream",
     "text": [
      "/Users/darebrawley/anaconda3/lib/python3.6/site-packages/synthpop/ipu/ipu.py:190: RuntimeWarning: divide by zero encountered in double_scalars\n",
      "  adj = constraint / float((column * weights).sum())\n"
     ]
    },
    {
     "name": "stdout",
     "output_type": "stream",
     "text": [
      "Drawing 275 households\n",
      "Synthesizing geog id:\n",
      " state              37\n",
      "county            119\n",
      "tract          005826\n",
      "block group         2\n",
      "dtype: object\n"
     ]
    },
    {
     "name": "stderr",
     "output_type": "stream",
     "text": [
      "/Users/darebrawley/anaconda3/lib/python3.6/site-packages/synthpop/ipu/ipu.py:190: RuntimeWarning: divide by zero encountered in double_scalars\n",
      "  adj = constraint / float((column * weights).sum())\n"
     ]
    },
    {
     "name": "stdout",
     "output_type": "stream",
     "text": [
      "Drawing 824 households\n",
      "Synthesizing geog id:\n",
      " state              37\n",
      "county            119\n",
      "tract          005827\n",
      "block group         1\n",
      "dtype: object\n"
     ]
    },
    {
     "name": "stderr",
     "output_type": "stream",
     "text": [
      "/Users/darebrawley/anaconda3/lib/python3.6/site-packages/synthpop/ipu/ipu.py:190: RuntimeWarning: divide by zero encountered in double_scalars\n",
      "  adj = constraint / float((column * weights).sum())\n"
     ]
    },
    {
     "name": "stdout",
     "output_type": "stream",
     "text": [
      "Drawing 1185 households\n",
      "Synthesizing geog id:\n",
      " state              37\n",
      "county            119\n",
      "tract          005828\n",
      "block group         1\n",
      "dtype: object\n"
     ]
    },
    {
     "name": "stderr",
     "output_type": "stream",
     "text": [
      "/Users/darebrawley/anaconda3/lib/python3.6/site-packages/synthpop/ipu/ipu.py:190: RuntimeWarning: divide by zero encountered in double_scalars\n",
      "  adj = constraint / float((column * weights).sum())\n"
     ]
    },
    {
     "name": "stdout",
     "output_type": "stream",
     "text": [
      "Drawing 933 households\n",
      "Synthesizing geog id:\n",
      " state              37\n",
      "county            119\n",
      "tract          005828\n",
      "block group         2\n",
      "dtype: object\n"
     ]
    },
    {
     "name": "stderr",
     "output_type": "stream",
     "text": [
      "/Users/darebrawley/anaconda3/lib/python3.6/site-packages/synthpop/ipu/ipu.py:190: RuntimeWarning: divide by zero encountered in double_scalars\n",
      "  adj = constraint / float((column * weights).sum())\n"
     ]
    },
    {
     "name": "stdout",
     "output_type": "stream",
     "text": [
      "Drawing 139 households\n",
      "Synthesizing geog id:\n",
      " state              37\n",
      "county            119\n",
      "tract          005828\n",
      "block group         3\n",
      "dtype: object\n"
     ]
    },
    {
     "name": "stderr",
     "output_type": "stream",
     "text": [
      "/Users/darebrawley/anaconda3/lib/python3.6/site-packages/synthpop/ipu/ipu.py:190: RuntimeWarning: divide by zero encountered in double_scalars\n",
      "  adj = constraint / float((column * weights).sum())\n"
     ]
    },
    {
     "name": "stdout",
     "output_type": "stream",
     "text": [
      "Drawing 642 households\n",
      "Synthesizing geog id:\n",
      " state              37\n",
      "county            119\n",
      "tract          005829\n",
      "block group         1\n",
      "dtype: object\n"
     ]
    },
    {
     "name": "stderr",
     "output_type": "stream",
     "text": [
      "/Users/darebrawley/anaconda3/lib/python3.6/site-packages/synthpop/ipu/ipu.py:190: RuntimeWarning: divide by zero encountered in double_scalars\n",
      "  adj = constraint / float((column * weights).sum())\n"
     ]
    },
    {
     "name": "stdout",
     "output_type": "stream",
     "text": [
      "Drawing 661 households\n",
      "Synthesizing geog id:\n",
      " state              37\n",
      "county            119\n",
      "tract          005829\n",
      "block group         2\n",
      "dtype: object\n"
     ]
    },
    {
     "name": "stderr",
     "output_type": "stream",
     "text": [
      "/Users/darebrawley/anaconda3/lib/python3.6/site-packages/synthpop/ipu/ipu.py:190: RuntimeWarning: divide by zero encountered in double_scalars\n",
      "  adj = constraint / float((column * weights).sum())\n"
     ]
    },
    {
     "name": "stdout",
     "output_type": "stream",
     "text": [
      "Drawing 652 households\n",
      "Synthesizing geog id:\n",
      " state              37\n",
      "county            119\n",
      "tract          005830\n",
      "block group         1\n",
      "dtype: object\n"
     ]
    },
    {
     "name": "stderr",
     "output_type": "stream",
     "text": [
      "/Users/darebrawley/anaconda3/lib/python3.6/site-packages/synthpop/ipu/ipu.py:190: RuntimeWarning: divide by zero encountered in double_scalars\n",
      "  adj = constraint / float((column * weights).sum())\n"
     ]
    },
    {
     "name": "stdout",
     "output_type": "stream",
     "text": [
      "Drawing 714 households\n",
      "Synthesizing geog id:\n",
      " state              37\n",
      "county            119\n",
      "tract          005830\n",
      "block group         2\n",
      "dtype: object\n",
      "Drawing 835 households\n",
      "Synthesizing geog id:\n",
      " state              37\n",
      "county            119\n",
      "tract          005831\n",
      "block group         1\n",
      "dtype: object\n"
     ]
    },
    {
     "name": "stderr",
     "output_type": "stream",
     "text": [
      "/Users/darebrawley/anaconda3/lib/python3.6/site-packages/synthpop/ipu/ipu.py:190: RuntimeWarning: divide by zero encountered in double_scalars\n",
      "  adj = constraint / float((column * weights).sum())\n"
     ]
    },
    {
     "name": "stdout",
     "output_type": "stream",
     "text": [
      "Drawing 1068 households\n",
      "Synthesizing geog id:\n",
      " state              37\n",
      "county            119\n",
      "tract          005831\n",
      "block group         2\n",
      "dtype: object\n",
      "Drawing 1067 households\n",
      "Synthesizing geog id:\n",
      " state              37\n",
      "county            119\n",
      "tract          005831\n",
      "block group         3\n",
      "dtype: object\n"
     ]
    },
    {
     "name": "stderr",
     "output_type": "stream",
     "text": [
      "/Users/darebrawley/anaconda3/lib/python3.6/site-packages/synthpop/ipu/ipu.py:190: RuntimeWarning: divide by zero encountered in double_scalars\n",
      "  adj = constraint / float((column * weights).sum())\n"
     ]
    },
    {
     "name": "stdout",
     "output_type": "stream",
     "text": [
      "Drawing 211 households\n",
      "Synthesizing geog id:\n",
      " state              37\n",
      "county            119\n",
      "tract          005832\n",
      "block group         1\n",
      "dtype: object\n"
     ]
    },
    {
     "name": "stderr",
     "output_type": "stream",
     "text": [
      "/Users/darebrawley/anaconda3/lib/python3.6/site-packages/synthpop/ipu/ipu.py:190: RuntimeWarning: divide by zero encountered in double_scalars\n",
      "  adj = constraint / float((column * weights).sum())\n"
     ]
    },
    {
     "name": "stdout",
     "output_type": "stream",
     "text": [
      "Drawing 991 households\n",
      "Synthesizing geog id:\n",
      " state              37\n",
      "county            119\n",
      "tract          005833\n",
      "block group         1\n",
      "dtype: object\n"
     ]
    },
    {
     "name": "stderr",
     "output_type": "stream",
     "text": [
      "/Users/darebrawley/anaconda3/lib/python3.6/site-packages/synthpop/ipu/ipu.py:190: RuntimeWarning: divide by zero encountered in double_scalars\n",
      "  adj = constraint / float((column * weights).sum())\n"
     ]
    },
    {
     "name": "stdout",
     "output_type": "stream",
     "text": [
      "Drawing 426 households\n",
      "Synthesizing geog id:\n",
      " state              37\n",
      "county            119\n",
      "tract          005833\n",
      "block group         2\n",
      "dtype: object\n"
     ]
    },
    {
     "name": "stderr",
     "output_type": "stream",
     "text": [
      "/Users/darebrawley/anaconda3/lib/python3.6/site-packages/synthpop/ipu/ipu.py:190: RuntimeWarning: divide by zero encountered in double_scalars\n",
      "  adj = constraint / float((column * weights).sum())\n"
     ]
    },
    {
     "name": "stdout",
     "output_type": "stream",
     "text": [
      "Drawing 890 households\n",
      "Synthesizing geog id:\n",
      " state              37\n",
      "county            119\n",
      "tract          005833\n",
      "block group         3\n",
      "dtype: object\n"
     ]
    },
    {
     "name": "stderr",
     "output_type": "stream",
     "text": [
      "/Users/darebrawley/anaconda3/lib/python3.6/site-packages/synthpop/ipu/ipu.py:190: RuntimeWarning: divide by zero encountered in double_scalars\n",
      "  adj = constraint / float((column * weights).sum())\n"
     ]
    },
    {
     "name": "stdout",
     "output_type": "stream",
     "text": [
      "Drawing 700 households\n",
      "Synthesizing geog id:\n",
      " state              37\n",
      "county            119\n",
      "tract          005834\n",
      "block group         1\n",
      "dtype: object\n",
      "Drawing 1036 households\n",
      "Synthesizing geog id:\n",
      " state              37\n",
      "county            119\n",
      "tract          005834\n",
      "block group         2\n",
      "dtype: object\n"
     ]
    },
    {
     "name": "stderr",
     "output_type": "stream",
     "text": [
      "/Users/darebrawley/anaconda3/lib/python3.6/site-packages/synthpop/ipu/ipu.py:190: RuntimeWarning: divide by zero encountered in double_scalars\n",
      "  adj = constraint / float((column * weights).sum())\n"
     ]
    },
    {
     "name": "stdout",
     "output_type": "stream",
     "text": [
      "Drawing 529 households\n",
      "Synthesizing geog id:\n",
      " state              37\n",
      "county            119\n",
      "tract          005835\n",
      "block group         1\n",
      "dtype: object\n",
      "Drawing 1009 households\n",
      "Synthesizing geog id:\n",
      " state              37\n",
      "county            119\n",
      "tract          005836\n",
      "block group         1\n",
      "dtype: object\n",
      "Drawing 862 households\n",
      "Synthesizing geog id:\n",
      " state              37\n",
      "county            119\n",
      "tract          005836\n",
      "block group         2\n",
      "dtype: object\n"
     ]
    },
    {
     "name": "stderr",
     "output_type": "stream",
     "text": [
      "/Users/darebrawley/anaconda3/lib/python3.6/site-packages/synthpop/ipu/ipu.py:190: RuntimeWarning: divide by zero encountered in double_scalars\n",
      "  adj = constraint / float((column * weights).sum())\n"
     ]
    },
    {
     "name": "stdout",
     "output_type": "stream",
     "text": [
      "Drawing 475 households\n",
      "Synthesizing geog id:\n",
      " state              37\n",
      "county            119\n",
      "tract          005837\n",
      "block group         1\n",
      "dtype: object\n"
     ]
    },
    {
     "name": "stderr",
     "output_type": "stream",
     "text": [
      "/Users/darebrawley/anaconda3/lib/python3.6/site-packages/synthpop/ipu/ipu.py:190: RuntimeWarning: divide by zero encountered in double_scalars\n",
      "  adj = constraint / float((column * weights).sum())\n"
     ]
    },
    {
     "name": "stdout",
     "output_type": "stream",
     "text": [
      "Drawing 909 households\n",
      "Synthesizing geog id:\n",
      " state              37\n",
      "county            119\n",
      "tract          005837\n",
      "block group         2\n",
      "dtype: object\n"
     ]
    },
    {
     "name": "stderr",
     "output_type": "stream",
     "text": [
      "/Users/darebrawley/anaconda3/lib/python3.6/site-packages/synthpop/ipu/ipu.py:190: RuntimeWarning: divide by zero encountered in double_scalars\n",
      "  adj = constraint / float((column * weights).sum())\n"
     ]
    },
    {
     "name": "stdout",
     "output_type": "stream",
     "text": [
      "Drawing 618 households\n",
      "Synthesizing geog id:\n",
      " state              37\n",
      "county            119\n",
      "tract          005837\n",
      "block group         3\n",
      "dtype: object\n"
     ]
    },
    {
     "name": "stderr",
     "output_type": "stream",
     "text": [
      "/Users/darebrawley/anaconda3/lib/python3.6/site-packages/synthpop/ipu/ipu.py:190: RuntimeWarning: divide by zero encountered in double_scalars\n",
      "  adj = constraint / float((column * weights).sum())\n"
     ]
    },
    {
     "name": "stdout",
     "output_type": "stream",
     "text": [
      "Drawing 329 households\n",
      "Synthesizing geog id:\n",
      " state              37\n",
      "county            119\n",
      "tract          005837\n",
      "block group         4\n",
      "dtype: object\n",
      "Drawing 924 households\n",
      "Synthesizing geog id:\n",
      " state              37\n",
      "county            119\n",
      "tract          005838\n",
      "block group         1\n",
      "dtype: object\n"
     ]
    },
    {
     "name": "stderr",
     "output_type": "stream",
     "text": [
      "/Users/darebrawley/anaconda3/lib/python3.6/site-packages/synthpop/ipu/ipu.py:190: RuntimeWarning: divide by zero encountered in double_scalars\n",
      "  adj = constraint / float((column * weights).sum())\n"
     ]
    },
    {
     "name": "stdout",
     "output_type": "stream",
     "text": [
      "Drawing 756 households\n",
      "Synthesizing geog id:\n",
      " state              37\n",
      "county            119\n",
      "tract          005838\n",
      "block group         2\n",
      "dtype: object\n"
     ]
    },
    {
     "name": "stderr",
     "output_type": "stream",
     "text": [
      "/Users/darebrawley/anaconda3/lib/python3.6/site-packages/synthpop/ipu/ipu.py:190: RuntimeWarning: divide by zero encountered in double_scalars\n",
      "  adj = constraint / float((column * weights).sum())\n"
     ]
    },
    {
     "name": "stdout",
     "output_type": "stream",
     "text": [
      "Drawing 689 households\n",
      "Synthesizing geog id:\n",
      " state              37\n",
      "county            119\n",
      "tract          005838\n",
      "block group         3\n",
      "dtype: object\n",
      "Drawing 1439 households\n",
      "Synthesizing geog id:\n",
      " state              37\n",
      "county            119\n",
      "tract          005839\n",
      "block group         1\n",
      "dtype: object\n",
      "Drawing 1085 households\n",
      "Synthesizing geog id:\n",
      " state              37\n",
      "county            119\n",
      "tract          005840\n",
      "block group         1\n",
      "dtype: object\n",
      "Drawing 889 households\n",
      "Synthesizing geog id:\n",
      " state              37\n",
      "county            119\n",
      "tract          005841\n",
      "block group         1\n",
      "dtype: object\n",
      "Drawing 963 households\n",
      "Synthesizing geog id:\n",
      " state              37\n",
      "county            119\n",
      "tract          005841\n",
      "block group         2\n",
      "dtype: object\n"
     ]
    },
    {
     "name": "stderr",
     "output_type": "stream",
     "text": [
      "/Users/darebrawley/anaconda3/lib/python3.6/site-packages/synthpop/ipu/ipu.py:190: RuntimeWarning: divide by zero encountered in double_scalars\n",
      "  adj = constraint / float((column * weights).sum())\n"
     ]
    },
    {
     "name": "stdout",
     "output_type": "stream",
     "text": [
      "Drawing 449 households\n",
      "Synthesizing geog id:\n",
      " state              37\n",
      "county            119\n",
      "tract          005841\n",
      "block group         3\n",
      "dtype: object\n",
      "Drawing 983 households\n",
      "Synthesizing geog id:\n",
      " state              37\n",
      "county            119\n",
      "tract          005842\n",
      "block group         1\n",
      "dtype: object\n",
      "Drawing 896 households\n",
      "Synthesizing geog id:\n",
      " state              37\n",
      "county            119\n",
      "tract          005842\n",
      "block group         2\n",
      "dtype: object\n"
     ]
    },
    {
     "name": "stderr",
     "output_type": "stream",
     "text": [
      "/Users/darebrawley/anaconda3/lib/python3.6/site-packages/synthpop/ipu/ipu.py:190: RuntimeWarning: divide by zero encountered in double_scalars\n",
      "  adj = constraint / float((column * weights).sum())\n"
     ]
    },
    {
     "name": "stdout",
     "output_type": "stream",
     "text": [
      "Drawing 553 households\n",
      "Synthesizing geog id:\n",
      " state              37\n",
      "county            119\n",
      "tract          005842\n",
      "block group         3\n",
      "dtype: object\n"
     ]
    },
    {
     "name": "stderr",
     "output_type": "stream",
     "text": [
      "/Users/darebrawley/anaconda3/lib/python3.6/site-packages/synthpop/ipu/ipu.py:190: RuntimeWarning: divide by zero encountered in double_scalars\n",
      "  adj = constraint / float((column * weights).sum())\n"
     ]
    },
    {
     "name": "stdout",
     "output_type": "stream",
     "text": [
      "Drawing 1080 households\n",
      "Synthesizing geog id:\n",
      " state              37\n",
      "county            119\n",
      "tract          005843\n",
      "block group         1\n",
      "dtype: object\n"
     ]
    },
    {
     "name": "stderr",
     "output_type": "stream",
     "text": [
      "/Users/darebrawley/anaconda3/lib/python3.6/site-packages/synthpop/ipu/ipu.py:190: RuntimeWarning: divide by zero encountered in double_scalars\n",
      "  adj = constraint / float((column * weights).sum())\n"
     ]
    },
    {
     "name": "stdout",
     "output_type": "stream",
     "text": [
      "Drawing 616 households\n",
      "Synthesizing geog id:\n",
      " state              37\n",
      "county            119\n",
      "tract          005843\n",
      "block group         2\n",
      "dtype: object\n"
     ]
    },
    {
     "name": "stderr",
     "output_type": "stream",
     "text": [
      "/Users/darebrawley/anaconda3/lib/python3.6/site-packages/synthpop/ipu/ipu.py:190: RuntimeWarning: divide by zero encountered in double_scalars\n",
      "  adj = constraint / float((column * weights).sum())\n"
     ]
    },
    {
     "name": "stdout",
     "output_type": "stream",
     "text": [
      "Drawing 610 households\n",
      "Synthesizing geog id:\n",
      " state              37\n",
      "county            119\n",
      "tract          005844\n",
      "block group         1\n",
      "dtype: object\n"
     ]
    },
    {
     "name": "stderr",
     "output_type": "stream",
     "text": [
      "/Users/darebrawley/anaconda3/lib/python3.6/site-packages/synthpop/ipu/ipu.py:190: RuntimeWarning: divide by zero encountered in double_scalars\n",
      "  adj = constraint / float((column * weights).sum())\n"
     ]
    },
    {
     "name": "stdout",
     "output_type": "stream",
     "text": [
      "Drawing 1044 households\n",
      "Synthesizing geog id:\n",
      " state              37\n",
      "county            119\n",
      "tract          005844\n",
      "block group         2\n",
      "dtype: object\n",
      "Drawing 1540 households\n",
      "Synthesizing geog id:\n",
      " state              37\n",
      "county            119\n",
      "tract          005845\n",
      "block group         1\n",
      "dtype: object\n"
     ]
    },
    {
     "name": "stderr",
     "output_type": "stream",
     "text": [
      "/Users/darebrawley/anaconda3/lib/python3.6/site-packages/synthpop/ipu/ipu.py:190: RuntimeWarning: divide by zero encountered in double_scalars\n",
      "  adj = constraint / float((column * weights).sum())\n"
     ]
    },
    {
     "name": "stdout",
     "output_type": "stream",
     "text": [
      "Drawing 474 households\n",
      "Synthesizing geog id:\n",
      " state              37\n",
      "county            119\n",
      "tract          005845\n",
      "block group         2\n",
      "dtype: object\n"
     ]
    },
    {
     "name": "stderr",
     "output_type": "stream",
     "text": [
      "/Users/darebrawley/anaconda3/lib/python3.6/site-packages/synthpop/ipu/ipu.py:190: RuntimeWarning: divide by zero encountered in double_scalars\n",
      "  adj = constraint / float((column * weights).sum())\n"
     ]
    },
    {
     "name": "stdout",
     "output_type": "stream",
     "text": [
      "Drawing 1100 households\n",
      "Synthesizing geog id:\n",
      " state              37\n",
      "county            119\n",
      "tract          005846\n",
      "block group         1\n",
      "dtype: object\n"
     ]
    },
    {
     "name": "stderr",
     "output_type": "stream",
     "text": [
      "/Users/darebrawley/anaconda3/lib/python3.6/site-packages/synthpop/ipu/ipu.py:190: RuntimeWarning: divide by zero encountered in double_scalars\n",
      "  adj = constraint / float((column * weights).sum())\n"
     ]
    },
    {
     "name": "stdout",
     "output_type": "stream",
     "text": [
      "Drawing 611 households\n"
     ]
    }
   ],
   "source": [
    "def synthesize_counties(counties):\n",
    "    for county in counties:\n",
    "        starter = Starter(os.environ[\"CENSUS\"], \"NC\", county)\n",
    "        synthesize_all(starter)\n",
    "%time hh = synthesize_counties([\"Mecklenburg County\"]) "
   ]
  }
 ],
 "metadata": {
  "kernelspec": {
   "display_name": "Python 3",
   "language": "python",
   "name": "python3"
  },
  "language_info": {
   "codemirror_mode": {
    "name": "ipython",
    "version": 3
   },
   "file_extension": ".py",
   "mimetype": "text/x-python",
   "name": "python",
   "nbconvert_exporter": "python",
   "pygments_lexer": "ipython3",
   "version": "3.6.4"
  }
 },
 "nbformat": 4,
 "nbformat_minor": 2
}
